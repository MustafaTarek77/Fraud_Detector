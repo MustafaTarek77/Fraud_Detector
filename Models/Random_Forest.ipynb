{
 "cells": [
  {
   "cell_type": "code",
   "execution_count": 4,
   "id": "deec3d2d",
   "metadata": {},
   "outputs": [],
   "source": [
    "import os\n",
    "import pandas as pd\n",
    "import matplotlib.pyplot as plt\n",
    "from sklearn.ensemble import RandomForestClassifier\n",
    "from sklearn.model_selection import GridSearchCV, cross_val_score\n",
    "from sklearn.metrics import accuracy_score, precision_score, recall_score, f1_score, confusion_matrix, classification_report, roc_auc_score, roc_curve\n",
    "from sklearn.model_selection import cross_validate\n",
    "from sklearn.metrics import precision_score, recall_score, f1_score, roc_auc_score"
   ]
  },
  {
   "cell_type": "code",
   "execution_count": 5,
   "id": "00447fb3",
   "metadata": {},
   "outputs": [],
   "source": [
    "# Read each CSV file\n",
    "train_df = pd.read_csv(os.path.join('../Data', \"train_data.csv\"))\n",
    "undersampled_train_df = pd.read_csv(os.path.join('../Data', \"undersampled_train_data.csv\"))\n",
    "oversampled_train_df = pd.read_csv(os.path.join('../Data', \"oversampled_train_data.csv\"))\n",
    "extracted_features_train_df = pd.read_csv(os.path.join('../Data', \"extracted_features_train_data.csv\"))\n",
    "extracted_features_undersampled_train_df = pd.read_csv(os.path.join('../Data', \"extracted_features_undersampled_train_data.csv\"))\n",
    "extracted_features_oversampled_train_df = pd.read_csv(os.path.join('../Data', \"extracted_features_oversampled_train_data.csv\"))\n",
    "test_df = pd.read_csv(os.path.join('../Data', \"test_data.csv\"))"
   ]
  },
  {
   "cell_type": "code",
   "execution_count": 6,
   "id": "5eda9378",
   "metadata": {},
   "outputs": [],
   "source": [
    "N_SPLITS = 3"
   ]
  },
  {
   "cell_type": "markdown",
   "id": "c86830b9",
   "metadata": {},
   "source": [
    "# Apply on the original data"
   ]
  },
  {
   "cell_type": "code",
   "execution_count": 7,
   "id": "a78a895b",
   "metadata": {},
   "outputs": [
    {
     "name": "stdout",
     "output_type": "stream",
     "text": [
      "Fitting 3 folds for each of 1 candidates, totalling 3 fits\n",
      "Best Estimator:  RandomForestClassifier(max_depth=5, min_samples_leaf=50, min_samples_split=50,\n",
      "                       random_state=42)\n"
     ]
    }
   ],
   "source": [
    "X_train = train_df.drop('Class', axis=1).values\n",
    "y_train = train_df['Class'].values\n",
    "\n",
    "# Random Forest hyperparameters\n",
    "rf_params = {\n",
    "    'n_estimators': [100],\n",
    "    'max_depth': [5],\n",
    "    'min_samples_leaf': [50],\n",
    "    'min_samples_split': [50]\n",
    "}\n",
    "\n",
    "# Set up GridSearchCV with Random Forest\n",
    "grid_rf = GridSearchCV(\n",
    "    estimator=RandomForestClassifier(random_state=42),\n",
    "    param_grid=rf_params,\n",
    "    scoring='roc_auc',\n",
    "    cv=N_SPLITS,\n",
    "    verbose=1,\n",
    "    return_train_score=True\n",
    ")\n",
    "\n",
    "# Train the model\n",
    "grid_rf.fit(X_train, y_train)\n",
    "\n",
    "# Get the best estimator\n",
    "random_forest = grid_rf.best_estimator_\n",
    "\n",
    "print(\"Best Estimator: \", random_forest)"
   ]
  },
  {
   "cell_type": "code",
   "execution_count": 8,
   "id": "44d4b510",
   "metadata": {},
   "outputs": [
    {
     "data": {
      "text/html": [
       "<div>\n",
       "<style scoped>\n",
       "    .dataframe tbody tr th:only-of-type {\n",
       "        vertical-align: middle;\n",
       "    }\n",
       "\n",
       "    .dataframe tbody tr th {\n",
       "        vertical-align: top;\n",
       "    }\n",
       "\n",
       "    .dataframe thead th {\n",
       "        text-align: right;\n",
       "    }\n",
       "</style>\n",
       "<table border=\"1\" class=\"dataframe\">\n",
       "  <thead>\n",
       "    <tr style=\"text-align: right;\">\n",
       "      <th></th>\n",
       "      <th>mean_fit_time</th>\n",
       "      <th>std_fit_time</th>\n",
       "      <th>mean_score_time</th>\n",
       "      <th>std_score_time</th>\n",
       "      <th>param_max_depth</th>\n",
       "      <th>param_min_samples_leaf</th>\n",
       "      <th>param_min_samples_split</th>\n",
       "      <th>param_n_estimators</th>\n",
       "      <th>params</th>\n",
       "      <th>split0_test_score</th>\n",
       "      <th>split1_test_score</th>\n",
       "      <th>split2_test_score</th>\n",
       "      <th>mean_test_score</th>\n",
       "      <th>std_test_score</th>\n",
       "      <th>rank_test_score</th>\n",
       "      <th>split0_train_score</th>\n",
       "      <th>split1_train_score</th>\n",
       "      <th>split2_train_score</th>\n",
       "      <th>mean_train_score</th>\n",
       "      <th>std_train_score</th>\n",
       "    </tr>\n",
       "  </thead>\n",
       "  <tbody>\n",
       "    <tr>\n",
       "      <th>0</th>\n",
       "      <td>40.727791</td>\n",
       "      <td>1.664925</td>\n",
       "      <td>0.201076</td>\n",
       "      <td>0.012539</td>\n",
       "      <td>5</td>\n",
       "      <td>50</td>\n",
       "      <td>50</td>\n",
       "      <td>100</td>\n",
       "      <td>{'max_depth': 5, 'min_samples_leaf': 50, 'min_...</td>\n",
       "      <td>0.96401</td>\n",
       "      <td>0.969393</td>\n",
       "      <td>0.972001</td>\n",
       "      <td>0.968468</td>\n",
       "      <td>0.003327</td>\n",
       "      <td>1</td>\n",
       "      <td>0.98536</td>\n",
       "      <td>0.982283</td>\n",
       "      <td>0.973306</td>\n",
       "      <td>0.980317</td>\n",
       "      <td>0.005114</td>\n",
       "    </tr>\n",
       "  </tbody>\n",
       "</table>\n",
       "</div>"
      ],
      "text/plain": [
       "   mean_fit_time  std_fit_time  mean_score_time  std_score_time  \\\n",
       "0      40.727791      1.664925         0.201076        0.012539   \n",
       "\n",
       "   param_max_depth  param_min_samples_leaf  param_min_samples_split  \\\n",
       "0                5                      50                       50   \n",
       "\n",
       "   param_n_estimators                                             params  \\\n",
       "0                 100  {'max_depth': 5, 'min_samples_leaf': 50, 'min_...   \n",
       "\n",
       "   split0_test_score  split1_test_score  split2_test_score  mean_test_score  \\\n",
       "0            0.96401           0.969393           0.972001         0.968468   \n",
       "\n",
       "   std_test_score  rank_test_score  split0_train_score  split1_train_score  \\\n",
       "0        0.003327                1             0.98536            0.982283   \n",
       "\n",
       "   split2_train_score  mean_train_score  std_train_score  \n",
       "0            0.973306          0.980317         0.005114  "
      ]
     },
     "execution_count": 8,
     "metadata": {},
     "output_type": "execute_result"
    }
   ],
   "source": [
    "# results of grid search CV\n",
    "cv_results = pd.DataFrame(grid_rf.cv_results_)\n",
    "cv_results"
   ]
  },
  {
   "cell_type": "code",
   "execution_count": 9,
   "id": "07ff7a02",
   "metadata": {},
   "outputs": [
    {
     "name": "stdout",
     "output_type": "stream",
     "text": [
      "Best roc_auc:- 0.9684680399035962\n",
      "RandomForestClassifier(max_depth=5, min_samples_leaf=50, min_samples_split=50,\n",
      "                       random_state=42)\n"
     ]
    }
   ],
   "source": [
    "# Printing the optimal sensitivity score and hyperparameters\n",
    "print(\"Best roc_auc:-\", grid_rf.best_score_)\n",
    "print(grid_rf.best_estimator_)"
   ]
  },
  {
   "cell_type": "code",
   "execution_count": 10,
   "id": "a3cf4fb4",
   "metadata": {},
   "outputs": [
    {
     "name": "stdout",
     "output_type": "stream",
     "text": [
      "The highest test roc_auc is 0.9684680399035962 with parameters {'max_depth': 5, 'min_samples_leaf': 50, 'min_samples_split': 50, 'n_estimators': 100}\n"
     ]
    }
   ],
   "source": [
    "# Best score with best parameters\n",
    "best_score = grid_rf.best_score_\n",
    "best_params = grid_rf.best_params_\n",
    "\n",
    "print(\"The highest test roc_auc is {0} with parameters {1}\".format(best_score, best_params))"
   ]
  },
  {
   "cell_type": "code",
   "execution_count": 11,
   "id": "1aaeee37",
   "metadata": {},
   "outputs": [],
   "source": [
    "rf = RandomForestClassifier(**best_params)\n",
    "original_best_rf_model = rf.fit(X_train, y_train)\n",
    "y_train_pred = original_best_rf_model.predict(X_train)"
   ]
  },
  {
   "cell_type": "code",
   "execution_count": 12,
   "id": "f34161f8",
   "metadata": {},
   "outputs": [
    {
     "name": "stdout",
     "output_type": "stream",
     "text": [
      "[[227418     33]\n",
      " [   133    261]]\n"
     ]
    }
   ],
   "source": [
    "confusion = confusion_matrix(y_train, y_train_pred)\n",
    "print(confusion)\n",
    "TP = confusion[1,1] # true positive \n",
    "TN = confusion[0,0] # true negatives\n",
    "FP = confusion[0,1] # false positives\n",
    "FN = confusion[1,0] # false negatives"
   ]
  },
  {
   "cell_type": "code",
   "execution_count": 13,
   "id": "f9b997ba",
   "metadata": {},
   "outputs": [
    {
     "name": "stdout",
     "output_type": "stream",
     "text": [
      "Sensitivity(Recall): 0.6624365482233503\n",
      "Percision: 0.8877551020408163\n",
      "F1-Score: 0.7587209302325582\n",
      "Accuracy: 0.9992714345278588\n",
      "Specificity: 0.9998549138056109\n",
      "              precision    recall  f1-score   support\n",
      "\n",
      "           0       1.00      1.00      1.00    227451\n",
      "           1       0.89      0.66      0.76       394\n",
      "\n",
      "    accuracy                           1.00    227845\n",
      "   macro avg       0.94      0.83      0.88    227845\n",
      "weighted avg       1.00      1.00      1.00    227845\n",
      "\n"
     ]
    }
   ],
   "source": [
    "# Sensitivity\n",
    "print(\"Sensitivity(Recall):\", recall_score(y_train, y_train_pred))\n",
    "\n",
    "# Percision\n",
    "print(\"Percision:\", precision_score(y_train, y_train_pred))\n",
    "\n",
    "# F1 score\n",
    "print(\"F1-Score:\", f1_score(y_train, y_train_pred))\n",
    "\n",
    "# Accuracy\n",
    "print(\"Accuracy:\", accuracy_score(y_train, y_train_pred))\n",
    "\n",
    "# Specificity\n",
    "print(\"Specificity:\", TN / float(TN+FP))\n",
    "\n",
    "# classification_report\n",
    "print(classification_report(y_train, y_train_pred))"
   ]
  },
  {
   "cell_type": "code",
   "execution_count": 14,
   "id": "ef4fc171",
   "metadata": {},
   "outputs": [],
   "source": [
    "# ROC Curve function\n",
    "def draw_roc( actual, probs ):\n",
    "    fpr, tpr, thresholds = roc_curve( actual, probs,\n",
    "                                              drop_intermediate = False )\n",
    "    auc_score = roc_auc_score( actual, probs )\n",
    "    plt.figure(figsize=(5, 5))\n",
    "    plt.plot( fpr, tpr, label='ROC curve (area = %0.2f)' % auc_score )\n",
    "    plt.plot([0, 1], [0, 1], 'k--')\n",
    "    plt.xlim([0.0, 1.0])\n",
    "    plt.ylim([0.0, 1.05])\n",
    "    plt.xlabel('False Positive Rate or [1 - True Negative Rate]')\n",
    "    plt.ylabel('True Positive Rate')\n",
    "    plt.title('Receiver operating characteristic example')\n",
    "    plt.legend(loc=\"lower right\")\n",
    "    plt.show()\n",
    "\n",
    "    return None"
   ]
  },
  {
   "cell_type": "code",
   "execution_count": 15,
   "id": "82fe4688",
   "metadata": {},
   "outputs": [
    {
     "data": {
      "image/png": "[encoded data removed]",
      "text/plain": [
       "<Figure size 500x500 with 1 Axes>"
      ]
     },
     "metadata": {},
     "output_type": "display_data"
    }
   ],
   "source": [
    "# Predicted probability\n",
    "y_train_pred_proba = original_best_rf_model.predict_proba(X_train)[:,1]\n",
    "# Plot the ROC curve\n",
    "draw_roc(y_train, y_train_pred_proba)"
   ]
  },
  {
   "cell_type": "code",
   "execution_count": 16,
   "id": "929aebb1",
   "metadata": {},
   "outputs": [
    {
     "name": "stdout",
     "output_type": "stream",
     "text": [
      "test_accuracy: 0.9992\n",
      "test_precision: 0.8701\n",
      "test_recall: 0.6017\n",
      "test_f1: 0.7100\n",
      "test_roc_auc: 0.9651\n"
     ]
    }
   ],
   "source": [
    "# Define scoring metrics\n",
    "scoring = {\n",
    "    'accuracy': 'accuracy',\n",
    "    'precision': 'precision',\n",
    "    'recall': 'recall',\n",
    "    'f1': 'f1',\n",
    "    'roc_auc': 'roc_auc'\n",
    "}\n",
    "\n",
    "# Perform cross-validation\n",
    "cv_results = cross_validate(original_best_rf_model, X_train, y_train, cv=N_SPLITS, scoring=scoring)\n",
    "\n",
    "# Display average of each metric\n",
    "for metric, scores in cv_results.items():\n",
    "    if \"test\" in metric:\n",
    "        print(f\"{metric}: {scores.mean():.4f}\")"
   ]
  },
  {
   "cell_type": "markdown",
   "id": "f0174c32",
   "metadata": {},
   "source": [
    "### Consider the most important features only (V3, V4, V7, V10, V12,V14, V16, V17, V18) on the original data"
   ]
  },
  {
   "cell_type": "code",
   "execution_count": 17,
   "id": "1ab35bed",
   "metadata": {},
   "outputs": [
    {
     "name": "stdout",
     "output_type": "stream",
     "text": [
      "Fitting 3 folds for each of 1 candidates, totalling 3 fits\n",
      "Best Estimator:  RandomForestClassifier(max_depth=5, min_samples_leaf=50, min_samples_split=50,\n",
      "                       random_state=42)\n"
     ]
    }
   ],
   "source": [
    "X_train = extracted_features_train_df.drop('Class', axis=1).values\n",
    "y_train = extracted_features_train_df['Class'].values\n",
    "\n",
    "# Random Forest hyperparameters\n",
    "rf_params = {\n",
    "    'n_estimators': [100],\n",
    "    'max_depth': [5],\n",
    "    'min_samples_leaf': [50],\n",
    "    'min_samples_split': [50]\n",
    "}\n",
    "\n",
    "# Set up GridSearchCV with Random Forest\n",
    "grid_rf = GridSearchCV(\n",
    "    estimator=RandomForestClassifier(random_state=42),\n",
    "    param_grid=rf_params,\n",
    "    scoring='roc_auc',\n",
    "    cv=N_SPLITS,\n",
    "    verbose=1,\n",
    "    return_train_score=True\n",
    ")\n",
    "\n",
    "# Train the model\n",
    "grid_rf.fit(X_train, y_train)\n",
    "\n",
    "# Get the best estimator\n",
    "random_forest = grid_rf.best_estimator_\n",
    "\n",
    "print(\"Best Estimator: \", random_forest)"
   ]
  },
  {
   "cell_type": "code",
   "execution_count": 18,
   "id": "0ca7f998",
   "metadata": {},
   "outputs": [
    {
     "data": {
      "text/html": [
       "<div>\n",
       "<style scoped>\n",
       "    .dataframe tbody tr th:only-of-type {\n",
       "        vertical-align: middle;\n",
       "    }\n",
       "\n",
       "    .dataframe tbody tr th {\n",
       "        vertical-align: top;\n",
       "    }\n",
       "\n",
       "    .dataframe thead th {\n",
       "        text-align: right;\n",
       "    }\n",
       "</style>\n",
       "<table border=\"1\" class=\"dataframe\">\n",
       "  <thead>\n",
       "    <tr style=\"text-align: right;\">\n",
       "      <th></th>\n",
       "      <th>mean_fit_time</th>\n",
       "      <th>std_fit_time</th>\n",
       "      <th>mean_score_time</th>\n",
       "      <th>std_score_time</th>\n",
       "      <th>param_max_depth</th>\n",
       "      <th>param_min_samples_leaf</th>\n",
       "      <th>param_min_samples_split</th>\n",
       "      <th>param_n_estimators</th>\n",
       "      <th>params</th>\n",
       "      <th>split0_test_score</th>\n",
       "      <th>split1_test_score</th>\n",
       "      <th>split2_test_score</th>\n",
       "      <th>mean_test_score</th>\n",
       "      <th>std_test_score</th>\n",
       "      <th>rank_test_score</th>\n",
       "      <th>split0_train_score</th>\n",
       "      <th>split1_train_score</th>\n",
       "      <th>split2_train_score</th>\n",
       "      <th>mean_train_score</th>\n",
       "      <th>std_train_score</th>\n",
       "    </tr>\n",
       "  </thead>\n",
       "  <tbody>\n",
       "    <tr>\n",
       "      <th>0</th>\n",
       "      <td>27.327445</td>\n",
       "      <td>1.682441</td>\n",
       "      <td>0.162652</td>\n",
       "      <td>0.006527</td>\n",
       "      <td>5</td>\n",
       "      <td>50</td>\n",
       "      <td>50</td>\n",
       "      <td>100</td>\n",
       "      <td>{'max_depth': 5, 'min_samples_leaf': 50, 'min_...</td>\n",
       "      <td>0.971842</td>\n",
       "      <td>0.98361</td>\n",
       "      <td>0.98049</td>\n",
       "      <td>0.978647</td>\n",
       "      <td>0.004978</td>\n",
       "      <td>1</td>\n",
       "      <td>0.984532</td>\n",
       "      <td>0.984789</td>\n",
       "      <td>0.980798</td>\n",
       "      <td>0.983373</td>\n",
       "      <td>0.001824</td>\n",
       "    </tr>\n",
       "  </tbody>\n",
       "</table>\n",
       "</div>"
      ],
      "text/plain": [
       "   mean_fit_time  std_fit_time  mean_score_time  std_score_time  \\\n",
       "0      27.327445      1.682441         0.162652        0.006527   \n",
       "\n",
       "   param_max_depth  param_min_samples_leaf  param_min_samples_split  \\\n",
       "0                5                      50                       50   \n",
       "\n",
       "   param_n_estimators                                             params  \\\n",
       "0                 100  {'max_depth': 5, 'min_samples_leaf': 50, 'min_...   \n",
       "\n",
       "   split0_test_score  split1_test_score  split2_test_score  mean_test_score  \\\n",
       "0           0.971842            0.98361            0.98049         0.978647   \n",
       "\n",
       "   std_test_score  rank_test_score  split0_train_score  split1_train_score  \\\n",
       "0        0.004978                1            0.984532            0.984789   \n",
       "\n",
       "   split2_train_score  mean_train_score  std_train_score  \n",
       "0            0.980798          0.983373         0.001824  "
      ]
     },
     "execution_count": 18,
     "metadata": {},
     "output_type": "execute_result"
    }
   ],
   "source": [
    "# results of grid search CV\n",
    "cv_results = pd.DataFrame(grid_rf.cv_results_)\n",
    "cv_results"
   ]
  },
  {
   "cell_type": "code",
   "execution_count": 19,
   "id": "c17c363e",
   "metadata": {},
   "outputs": [
    {
     "name": "stdout",
     "output_type": "stream",
     "text": [
      "Best roc_auc:- 0.9786472269513267\n",
      "RandomForestClassifier(max_depth=5, min_samples_leaf=50, min_samples_split=50,\n",
      "                       random_state=42)\n"
     ]
    }
   ],
   "source": [
    "# Printing the optimal sensitivity score and hyperparameters\n",
    "print(\"Best roc_auc:-\", grid_rf.best_score_)\n",
    "print(grid_rf.best_estimator_)"
   ]
  },
  {
   "cell_type": "code",
   "execution_count": 20,
   "id": "8c49916f",
   "metadata": {},
   "outputs": [
    {
     "name": "stdout",
     "output_type": "stream",
     "text": [
      "The highest test roc_auc is 0.9786472269513267 with parameters {'max_depth': 5, 'min_samples_leaf': 50, 'min_samples_split': 50, 'n_estimators': 100}\n"
     ]
    }
   ],
   "source": [
    "# Best score with best parameters\n",
    "best_score = grid_rf.best_score_\n",
    "best_params = grid_rf.best_params_\n",
    "\n",
    "print(\"The highest test roc_auc is {0} with parameters {1}\".format(best_score, best_params))"
   ]
  },
  {
   "cell_type": "code",
   "execution_count": 21,
   "id": "bd4b9191",
   "metadata": {},
   "outputs": [],
   "source": [
    "rf = RandomForestClassifier(**best_params)\n",
    "original_best_rf_model_v2 = rf.fit(X_train, y_train)\n",
    "y_train_pred = original_best_rf_model_v2.predict(X_train)"
   ]
  },
  {
   "cell_type": "code",
   "execution_count": 22,
   "id": "991f5ab1",
   "metadata": {},
   "outputs": [
    {
     "name": "stdout",
     "output_type": "stream",
     "text": [
      "[[221524     18]\n",
      " [   108    286]]\n"
     ]
    }
   ],
   "source": [
    "confusion = confusion_matrix(y_train, y_train_pred)\n",
    "print(confusion)\n",
    "TP = confusion[1,1] # true positive \n",
    "TN = confusion[0,0] # true negatives\n",
    "FP = confusion[0,1] # false positives\n",
    "FN = confusion[1,0] # false negatives"
   ]
  },
  {
   "cell_type": "code",
   "execution_count": 23,
   "id": "7294b363",
   "metadata": {},
   "outputs": [
    {
     "name": "stdout",
     "output_type": "stream",
     "text": [
      "Sensitivity(Recall): 0.7258883248730964\n",
      "Percision: 0.9407894736842105\n",
      "F1-Score: 0.8194842406876791\n",
      "Accuracy: 0.9994322687621656\n",
      "Specificity: 0.9999187512977223\n",
      "              precision    recall  f1-score   support\n",
      "\n",
      "           0       1.00      1.00      1.00    221542\n",
      "           1       0.94      0.73      0.82       394\n",
      "\n",
      "    accuracy                           1.00    221936\n",
      "   macro avg       0.97      0.86      0.91    221936\n",
      "weighted avg       1.00      1.00      1.00    221936\n",
      "\n"
     ]
    }
   ],
   "source": [
    "# Sensitivity\n",
    "print(\"Sensitivity(Recall):\", recall_score(y_train, y_train_pred))\n",
    "\n",
    "# Percision\n",
    "print(\"Percision:\", precision_score(y_train, y_train_pred))\n",
    "\n",
    "# F1 score\n",
    "print(\"F1-Score:\", f1_score(y_train, y_train_pred))\n",
    "\n",
    "# Accuracy\n",
    "print(\"Accuracy:\", accuracy_score(y_train, y_train_pred))\n",
    "\n",
    "# Specificity\n",
    "print(\"Specificity:\", TN / float(TN+FP))\n",
    "\n",
    "# classification_report\n",
    "print(classification_report(y_train, y_train_pred))"
   ]
  },
  {
   "cell_type": "code",
   "execution_count": 24,
   "id": "0ffa93aa",
   "metadata": {},
   "outputs": [
    {
     "data": {
      "image/png": "[encoded data removed]",
      "text/plain": [
       "<Figure size 500x500 with 1 Axes>"
      ]
     },
     "metadata": {},
     "output_type": "display_data"
    }
   ],
   "source": [
    "# Predicted probability\n",
    "y_train_pred_proba = original_best_rf_model_v2.predict_proba(X_train)[:,1]\n",
    "# Plot the ROC curve\n",
    "draw_roc(y_train, y_train_pred_proba)"
   ]
  },
  {
   "cell_type": "code",
   "execution_count": 25,
   "id": "f8522d58",
   "metadata": {},
   "outputs": [
    {
     "name": "stdout",
     "output_type": "stream",
     "text": [
      "test_accuracy: 0.9994\n",
      "test_precision: 0.9576\n",
      "test_recall: 0.6853\n",
      "test_f1: 0.7989\n",
      "test_roc_auc: 0.9715\n"
     ]
    }
   ],
   "source": [
    "# Define scoring metrics\n",
    "scoring = {\n",
    "    'accuracy': 'accuracy',\n",
    "    'precision': 'precision',\n",
    "    'recall': 'recall',\n",
    "    'f1': 'f1',\n",
    "    'roc_auc': 'roc_auc'\n",
    "}\n",
    "\n",
    "# Perform cross-validation\n",
    "cv_results = cross_validate(original_best_rf_model_v2, X_train, y_train, cv=N_SPLITS, scoring=scoring)\n",
    "\n",
    "# Display average of each metric\n",
    "for metric, scores in cv_results.items():\n",
    "    if \"test\" in metric:\n",
    "        print(f\"{metric}: {scores.mean():.4f}\")"
   ]
  },
  {
   "cell_type": "markdown",
   "id": "6fbc1c66",
   "metadata": {},
   "source": [
    "# Apply on the under-sampled data"
   ]
  },
  {
   "cell_type": "code",
   "execution_count": 26,
   "id": "1e0c7257",
   "metadata": {},
   "outputs": [
    {
     "name": "stdout",
     "output_type": "stream",
     "text": [
      "Fitting 3 folds for each of 1 candidates, totalling 3 fits\n",
      "Best Estimator:  RandomForestClassifier(max_depth=5, min_samples_leaf=50, min_samples_split=50,\n",
      "                       random_state=42)\n"
     ]
    }
   ],
   "source": [
    "X_train = undersampled_train_df.drop('Class', axis=1).values\n",
    "y_train = undersampled_train_df['Class'].values\n",
    "\n",
    "# Random Forest hyperparameters\n",
    "rf_params = {\n",
    "    'n_estimators': [100],\n",
    "    'max_depth': [5],\n",
    "    'min_samples_leaf': [50],\n",
    "    'min_samples_split': [50]\n",
    "}\n",
    "\n",
    "# Set up GridSearchCV with Random Forest\n",
    "grid_rf = GridSearchCV(\n",
    "    estimator=RandomForestClassifier(random_state=42),\n",
    "    param_grid=rf_params,\n",
    "    scoring='roc_auc',\n",
    "    cv=N_SPLITS,\n",
    "    verbose=1,\n",
    "    return_train_score=True\n",
    ")\n",
    "\n",
    "# Train the model\n",
    "grid_rf.fit(X_train, y_train)\n",
    "\n",
    "# Get the best estimator\n",
    "random_forest = grid_rf.best_estimator_\n",
    "\n",
    "print(\"Best Estimator: \", random_forest)"
   ]
  },
  {
   "cell_type": "code",
   "execution_count": 27,
   "id": "8deedd64",
   "metadata": {},
   "outputs": [
    {
     "data": {
      "text/html": [
       "<div>\n",
       "<style scoped>\n",
       "    .dataframe tbody tr th:only-of-type {\n",
       "        vertical-align: middle;\n",
       "    }\n",
       "\n",
       "    .dataframe tbody tr th {\n",
       "        vertical-align: top;\n",
       "    }\n",
       "\n",
       "    .dataframe thead th {\n",
       "        text-align: right;\n",
       "    }\n",
       "</style>\n",
       "<table border=\"1\" class=\"dataframe\">\n",
       "  <thead>\n",
       "    <tr style=\"text-align: right;\">\n",
       "      <th></th>\n",
       "      <th>mean_fit_time</th>\n",
       "      <th>std_fit_time</th>\n",
       "      <th>mean_score_time</th>\n",
       "      <th>std_score_time</th>\n",
       "      <th>param_max_depth</th>\n",
       "      <th>param_min_samples_leaf</th>\n",
       "      <th>param_min_samples_split</th>\n",
       "      <th>param_n_estimators</th>\n",
       "      <th>params</th>\n",
       "      <th>split0_test_score</th>\n",
       "      <th>split1_test_score</th>\n",
       "      <th>split2_test_score</th>\n",
       "      <th>mean_test_score</th>\n",
       "      <th>std_test_score</th>\n",
       "      <th>rank_test_score</th>\n",
       "      <th>split0_train_score</th>\n",
       "      <th>split1_train_score</th>\n",
       "      <th>split2_train_score</th>\n",
       "      <th>mean_train_score</th>\n",
       "      <th>std_train_score</th>\n",
       "    </tr>\n",
       "  </thead>\n",
       "  <tbody>\n",
       "    <tr>\n",
       "      <th>0</th>\n",
       "      <td>0.137682</td>\n",
       "      <td>0.004825</td>\n",
       "      <td>0.005619</td>\n",
       "      <td>0.003006</td>\n",
       "      <td>5</td>\n",
       "      <td>50</td>\n",
       "      <td>50</td>\n",
       "      <td>100</td>\n",
       "      <td>{'max_depth': 5, 'min_samples_leaf': 50, 'min_...</td>\n",
       "      <td>0.970796</td>\n",
       "      <td>0.972704</td>\n",
       "      <td>0.986889</td>\n",
       "      <td>0.976796</td>\n",
       "      <td>0.007179</td>\n",
       "      <td>1</td>\n",
       "      <td>0.990509</td>\n",
       "      <td>0.986474</td>\n",
       "      <td>0.983316</td>\n",
       "      <td>0.986766</td>\n",
       "      <td>0.002944</td>\n",
       "    </tr>\n",
       "  </tbody>\n",
       "</table>\n",
       "</div>"
      ],
      "text/plain": [
       "   mean_fit_time  std_fit_time  mean_score_time  std_score_time  \\\n",
       "0       0.137682      0.004825         0.005619        0.003006   \n",
       "\n",
       "   param_max_depth  param_min_samples_leaf  param_min_samples_split  \\\n",
       "0                5                      50                       50   \n",
       "\n",
       "   param_n_estimators                                             params  \\\n",
       "0                 100  {'max_depth': 5, 'min_samples_leaf': 50, 'min_...   \n",
       "\n",
       "   split0_test_score  split1_test_score  split2_test_score  mean_test_score  \\\n",
       "0           0.970796           0.972704           0.986889         0.976796   \n",
       "\n",
       "   std_test_score  rank_test_score  split0_train_score  split1_train_score  \\\n",
       "0        0.007179                1            0.990509            0.986474   \n",
       "\n",
       "   split2_train_score  mean_train_score  std_train_score  \n",
       "0            0.983316          0.986766         0.002944  "
      ]
     },
     "execution_count": 27,
     "metadata": {},
     "output_type": "execute_result"
    }
   ],
   "source": [
    "# results of grid search CV\n",
    "cv_results = pd.DataFrame(grid_rf.cv_results_)\n",
    "cv_results"
   ]
  },
  {
   "cell_type": "code",
   "execution_count": 28,
   "id": "17af84ac",
   "metadata": {},
   "outputs": [
    {
     "name": "stdout",
     "output_type": "stream",
     "text": [
      "Best roc_auc:- 0.9767962534264032\n",
      "RandomForestClassifier(max_depth=5, min_samples_leaf=50, min_samples_split=50,\n",
      "                       random_state=42)\n"
     ]
    }
   ],
   "source": [
    "# Printing the optimal sensitivity score and hyperparameters\n",
    "print(\"Best roc_auc:-\", grid_rf.best_score_)\n",
    "print(grid_rf.best_estimator_)"
   ]
  },
  {
   "cell_type": "code",
   "execution_count": 29,
   "id": "2cebee2b",
   "metadata": {},
   "outputs": [
    {
     "name": "stdout",
     "output_type": "stream",
     "text": [
      "The highest test roc_auc is 0.9767962534264032 with parameters {'max_depth': 5, 'min_samples_leaf': 50, 'min_samples_split': 50, 'n_estimators': 100}\n"
     ]
    }
   ],
   "source": [
    "# Best score with best parameters\n",
    "best_score = grid_rf.best_score_\n",
    "best_params = grid_rf.best_params_\n",
    "\n",
    "print(\"The highest test roc_auc is {0} with parameters {1}\".format(best_score, best_params))"
   ]
  },
  {
   "cell_type": "code",
   "execution_count": 30,
   "id": "49005529",
   "metadata": {},
   "outputs": [],
   "source": [
    "rf = RandomForestClassifier(**best_params)\n",
    "undersampled_best_rf_model = rf.fit(X_train, y_train)\n",
    "y_train_pred = undersampled_best_rf_model.predict(X_train)"
   ]
  },
  {
   "cell_type": "code",
   "execution_count": 31,
   "id": "0b997dc8",
   "metadata": {},
   "outputs": [
    {
     "name": "stdout",
     "output_type": "stream",
     "text": [
      "[[392   2]\n",
      " [ 45 349]]\n"
     ]
    }
   ],
   "source": [
    "confusion = confusion_matrix(y_train, y_train_pred)\n",
    "print(confusion)\n",
    "TP = confusion[1,1] # true positive \n",
    "TN = confusion[0,0] # true negatives\n",
    "FP = confusion[0,1] # false positives\n",
    "FN = confusion[1,0] # false negatives"
   ]
  },
  {
   "cell_type": "code",
   "execution_count": 32,
   "id": "f78fe3cd",
   "metadata": {},
   "outputs": [
    {
     "name": "stdout",
     "output_type": "stream",
     "text": [
      "Sensitivity(Recall): 0.8857868020304569\n",
      "Percision: 0.9943019943019943\n",
      "F1-Score: 0.9369127516778524\n",
      "Accuracy: 0.9403553299492385\n",
      "Specificity: 0.9949238578680203\n",
      "              precision    recall  f1-score   support\n",
      "\n",
      "           0       0.90      0.99      0.94       394\n",
      "           1       0.99      0.89      0.94       394\n",
      "\n",
      "    accuracy                           0.94       788\n",
      "   macro avg       0.95      0.94      0.94       788\n",
      "weighted avg       0.95      0.94      0.94       788\n",
      "\n"
     ]
    }
   ],
   "source": [
    "# Sensitivity\n",
    "print(\"Sensitivity(Recall):\", recall_score(y_train, y_train_pred))\n",
    "\n",
    "# Percision\n",
    "print(\"Percision:\", precision_score(y_train, y_train_pred))\n",
    "\n",
    "# F1 score\n",
    "print(\"F1-Score:\", f1_score(y_train, y_train_pred))\n",
    "\n",
    "# Accuracy\n",
    "print(\"Accuracy:\", accuracy_score(y_train, y_train_pred))\n",
    "\n",
    "# Specificity\n",
    "print(\"Specificity:\", TN / float(TN+FP))\n",
    "\n",
    "# classification_report\n",
    "print(classification_report(y_train, y_train_pred))"
   ]
  },
  {
   "cell_type": "code",
   "execution_count": 33,
   "id": "07d14568",
   "metadata": {},
   "outputs": [
    {
     "data": {
      "image/png": "[encoded data removed]",
      "text/plain": [
       "<Figure size 500x500 with 1 Axes>"
      ]
     },
     "metadata": {},
     "output_type": "display_data"
    }
   ],
   "source": [
    "# Predicted probability\n",
    "y_train_pred_proba = undersampled_best_rf_model.predict_proba(X_train)[:,1]\n",
    "# Plot the ROC curve\n",
    "draw_roc(y_train, y_train_pred_proba)"
   ]
  },
  {
   "cell_type": "code",
   "execution_count": 34,
   "id": "01fe75ca",
   "metadata": {},
   "outputs": [
    {
     "name": "stdout",
     "output_type": "stream",
     "text": [
      "test_accuracy: 0.9289\n",
      "test_precision: 0.9971\n",
      "test_recall: 0.8604\n",
      "test_f1: 0.9237\n",
      "test_roc_auc: 0.9776\n"
     ]
    }
   ],
   "source": [
    "# Define scoring metrics\n",
    "scoring = {\n",
    "    'accuracy': 'accuracy',\n",
    "    'precision': 'precision',\n",
    "    'recall': 'recall',\n",
    "    'f1': 'f1',\n",
    "    'roc_auc': 'roc_auc'\n",
    "}\n",
    "\n",
    "# Perform cross-validation\n",
    "cv_results = cross_validate(undersampled_best_rf_model, X_train, y_train, cv=N_SPLITS, scoring=scoring)\n",
    "\n",
    "# Display average of each metric\n",
    "for metric, scores in cv_results.items():\n",
    "    if \"test\" in metric:\n",
    "        print(f\"{metric}: {scores.mean():.4f}\")"
   ]
  },
  {
   "cell_type": "markdown",
   "id": "8f25fb09",
   "metadata": {},
   "source": [
    "### Consider the most important features only (V3, V4, V7, V10, V12,V14, V16, V17, V18) on the undersampled data"
   ]
  },
  {
   "cell_type": "code",
   "execution_count": 35,
   "id": "e69c4e70",
   "metadata": {},
   "outputs": [
    {
     "name": "stdout",
     "output_type": "stream",
     "text": [
      "Fitting 3 folds for each of 1 candidates, totalling 3 fits\n",
      "Best Estimator:  RandomForestClassifier(max_depth=5, min_samples_leaf=50, min_samples_split=50,\n",
      "                       random_state=42)\n"
     ]
    }
   ],
   "source": [
    "X_train = extracted_features_undersampled_train_df.drop('Class', axis=1).values\n",
    "y_train = extracted_features_undersampled_train_df['Class'].values\n",
    "\n",
    "# Random Forest hyperparameters\n",
    "rf_params = {\n",
    "    'n_estimators': [100],\n",
    "    'max_depth': [5],\n",
    "    'min_samples_leaf': [50],\n",
    "    'min_samples_split': [50]\n",
    "}\n",
    "\n",
    "# Set up GridSearchCV with Random Forest\n",
    "grid_rf = GridSearchCV(\n",
    "    estimator=RandomForestClassifier(random_state=42),\n",
    "    param_grid=rf_params,\n",
    "    scoring='roc_auc',\n",
    "    cv=N_SPLITS,\n",
    "    verbose=1,\n",
    "    return_train_score=True\n",
    ")\n",
    "\n",
    "# Train the model\n",
    "grid_rf.fit(X_train, y_train)\n",
    "\n",
    "# Get the best estimator\n",
    "random_forest = grid_rf.best_estimator_\n",
    "\n",
    "print(\"Best Estimator: \", random_forest)"
   ]
  },
  {
   "cell_type": "code",
   "execution_count": 36,
   "id": "15cbd854",
   "metadata": {},
   "outputs": [
    {
     "data": {
      "text/html": [
       "<div>\n",
       "<style scoped>\n",
       "    .dataframe tbody tr th:only-of-type {\n",
       "        vertical-align: middle;\n",
       "    }\n",
       "\n",
       "    .dataframe tbody tr th {\n",
       "        vertical-align: top;\n",
       "    }\n",
       "\n",
       "    .dataframe thead th {\n",
       "        text-align: right;\n",
       "    }\n",
       "</style>\n",
       "<table border=\"1\" class=\"dataframe\">\n",
       "  <thead>\n",
       "    <tr style=\"text-align: right;\">\n",
       "      <th></th>\n",
       "      <th>mean_fit_time</th>\n",
       "      <th>std_fit_time</th>\n",
       "      <th>mean_score_time</th>\n",
       "      <th>std_score_time</th>\n",
       "      <th>param_max_depth</th>\n",
       "      <th>param_min_samples_leaf</th>\n",
       "      <th>param_min_samples_split</th>\n",
       "      <th>param_n_estimators</th>\n",
       "      <th>params</th>\n",
       "      <th>split0_test_score</th>\n",
       "      <th>split1_test_score</th>\n",
       "      <th>split2_test_score</th>\n",
       "      <th>mean_test_score</th>\n",
       "      <th>std_test_score</th>\n",
       "      <th>rank_test_score</th>\n",
       "      <th>split0_train_score</th>\n",
       "      <th>split1_train_score</th>\n",
       "      <th>split2_train_score</th>\n",
       "      <th>mean_train_score</th>\n",
       "      <th>std_train_score</th>\n",
       "    </tr>\n",
       "  </thead>\n",
       "  <tbody>\n",
       "    <tr>\n",
       "      <th>0</th>\n",
       "      <td>0.123174</td>\n",
       "      <td>0.007177</td>\n",
       "      <td>0.010279</td>\n",
       "      <td>0.005396</td>\n",
       "      <td>5</td>\n",
       "      <td>50</td>\n",
       "      <td>50</td>\n",
       "      <td>100</td>\n",
       "      <td>{'max_depth': 5, 'min_samples_leaf': 50, 'min_...</td>\n",
       "      <td>0.974018</td>\n",
       "      <td>0.975728</td>\n",
       "      <td>0.982944</td>\n",
       "      <td>0.977563</td>\n",
       "      <td>0.003868</td>\n",
       "      <td>1</td>\n",
       "      <td>0.988192</td>\n",
       "      <td>0.984538</td>\n",
       "      <td>0.983142</td>\n",
       "      <td>0.985291</td>\n",
       "      <td>0.002129</td>\n",
       "    </tr>\n",
       "  </tbody>\n",
       "</table>\n",
       "</div>"
      ],
      "text/plain": [
       "   mean_fit_time  std_fit_time  mean_score_time  std_score_time  \\\n",
       "0       0.123174      0.007177         0.010279        0.005396   \n",
       "\n",
       "   param_max_depth  param_min_samples_leaf  param_min_samples_split  \\\n",
       "0                5                      50                       50   \n",
       "\n",
       "   param_n_estimators                                             params  \\\n",
       "0                 100  {'max_depth': 5, 'min_samples_leaf': 50, 'min_...   \n",
       "\n",
       "   split0_test_score  split1_test_score  split2_test_score  mean_test_score  \\\n",
       "0           0.974018           0.975728           0.982944         0.977563   \n",
       "\n",
       "   std_test_score  rank_test_score  split0_train_score  split1_train_score  \\\n",
       "0        0.003868                1            0.988192            0.984538   \n",
       "\n",
       "   split2_train_score  mean_train_score  std_train_score  \n",
       "0            0.983142          0.985291         0.002129  "
      ]
     },
     "execution_count": 36,
     "metadata": {},
     "output_type": "execute_result"
    }
   ],
   "source": [
    "# results of grid search CV\n",
    "cv_results = pd.DataFrame(grid_rf.cv_results_)\n",
    "cv_results"
   ]
  },
  {
   "cell_type": "code",
   "execution_count": 37,
   "id": "595f78b6",
   "metadata": {},
   "outputs": [
    {
     "name": "stdout",
     "output_type": "stream",
     "text": [
      "Best roc_auc:- 0.9775629325217827\n",
      "RandomForestClassifier(max_depth=5, min_samples_leaf=50, min_samples_split=50,\n",
      "                       random_state=42)\n"
     ]
    }
   ],
   "source": [
    "# Printing the optimal sensitivity score and hyperparameters\n",
    "print(\"Best roc_auc:-\", grid_rf.best_score_)\n",
    "print(grid_rf.best_estimator_)"
   ]
  },
  {
   "cell_type": "code",
   "execution_count": 38,
   "id": "8867c541",
   "metadata": {},
   "outputs": [
    {
     "name": "stdout",
     "output_type": "stream",
     "text": [
      "The highest test roc_auc is 0.9775629325217827 with parameters {'max_depth': 5, 'min_samples_leaf': 50, 'min_samples_split': 50, 'n_estimators': 100}\n"
     ]
    }
   ],
   "source": [
    "# Best score with best parameters\n",
    "best_score = grid_rf.best_score_\n",
    "best_params = grid_rf.best_params_\n",
    "\n",
    "print(\"The highest test roc_auc is {0} with parameters {1}\".format(best_score, best_params))"
   ]
  },
  {
   "cell_type": "code",
   "execution_count": 39,
   "id": "2e61a843",
   "metadata": {},
   "outputs": [],
   "source": [
    "rf = RandomForestClassifier(**best_params)\n",
    "undersampled_best_rf_model_v2 = rf.fit(X_train, y_train)\n",
    "y_train_pred = undersampled_best_rf_model_v2.predict(X_train)"
   ]
  },
  {
   "cell_type": "code",
   "execution_count": 40,
   "id": "dd4acf93",
   "metadata": {},
   "outputs": [
    {
     "name": "stdout",
     "output_type": "stream",
     "text": [
      "[[382   2]\n",
      " [ 42 352]]\n"
     ]
    }
   ],
   "source": [
    "confusion = confusion_matrix(y_train, y_train_pred)\n",
    "print(confusion)\n",
    "TP = confusion[1,1] # true positive \n",
    "TN = confusion[0,0] # true negatives\n",
    "FP = confusion[0,1] # false positives\n",
    "FN = confusion[1,0] # false negatives"
   ]
  },
  {
   "cell_type": "code",
   "execution_count": 41,
   "id": "f7ea06cb",
   "metadata": {},
   "outputs": [
    {
     "name": "stdout",
     "output_type": "stream",
     "text": [
      "Sensitivity(Recall): 0.8934010152284264\n",
      "Percision: 0.9943502824858758\n",
      "F1-Score: 0.9411764705882353\n",
      "Accuracy: 0.9434447300771208\n",
      "Specificity: 0.9947916666666666\n",
      "              precision    recall  f1-score   support\n",
      "\n",
      "           0       0.90      0.99      0.95       384\n",
      "           1       0.99      0.89      0.94       394\n",
      "\n",
      "    accuracy                           0.94       778\n",
      "   macro avg       0.95      0.94      0.94       778\n",
      "weighted avg       0.95      0.94      0.94       778\n",
      "\n"
     ]
    }
   ],
   "source": [
    "# Sensitivity\n",
    "print(\"Sensitivity(Recall):\", recall_score(y_train, y_train_pred))\n",
    "\n",
    "# Percision\n",
    "print(\"Percision:\", precision_score(y_train, y_train_pred))\n",
    "\n",
    "# F1 score\n",
    "print(\"F1-Score:\", f1_score(y_train, y_train_pred))\n",
    "\n",
    "# Accuracy\n",
    "print(\"Accuracy:\", accuracy_score(y_train, y_train_pred))\n",
    "\n",
    "# Specificity\n",
    "print(\"Specificity:\", TN / float(TN+FP))\n",
    "\n",
    "# classification_report\n",
    "print(classification_report(y_train, y_train_pred))"
   ]
  },
  {
   "cell_type": "code",
   "execution_count": 42,
   "id": "2f2deca6",
   "metadata": {},
   "outputs": [
    {
     "data": {
      "image/png": "[encoded data removed]",
      "text/plain": [
       "<Figure size 500x500 with 1 Axes>"
      ]
     },
     "metadata": {},
     "output_type": "display_data"
    }
   ],
   "source": [
    "# Predicted probability\n",
    "y_train_pred_proba = undersampled_best_rf_model_v2.predict_proba(X_train)[:,1]\n",
    "# Plot the ROC curve\n",
    "draw_roc(y_train, y_train_pred_proba)"
   ]
  },
  {
   "cell_type": "code",
   "execution_count": 43,
   "id": "3ddb298c",
   "metadata": {},
   "outputs": [
    {
     "name": "stdout",
     "output_type": "stream",
     "text": [
      "test_accuracy: 0.9370\n",
      "test_precision: 0.9917\n",
      "test_recall: 0.8832\n",
      "test_f1: 0.9342\n",
      "test_roc_auc: 0.9788\n"
     ]
    }
   ],
   "source": [
    "# Define scoring metrics\n",
    "scoring = {\n",
    "    'accuracy': 'accuracy',\n",
    "    'precision': 'precision',\n",
    "    'recall': 'recall',\n",
    "    'f1': 'f1',\n",
    "    'roc_auc': 'roc_auc'\n",
    "}\n",
    "\n",
    "# Perform cross-validation\n",
    "cv_results = cross_validate(undersampled_best_rf_model_v2, X_train, y_train, cv=N_SPLITS, scoring=scoring)\n",
    "\n",
    "# Display average of each metric\n",
    "for metric, scores in cv_results.items():\n",
    "    if \"test\" in metric:\n",
    "        print(f\"{metric}: {scores.mean():.4f}\")"
   ]
  },
  {
   "cell_type": "markdown",
   "id": "91a35eac",
   "metadata": {},
   "source": [
    "# Apply on the over-sampled data"
   ]
  },
  {
   "cell_type": "code",
   "execution_count": 44,
   "id": "38a035f5",
   "metadata": {},
   "outputs": [
    {
     "name": "stdout",
     "output_type": "stream",
     "text": [
      "Fitting 3 folds for each of 1 candidates, totalling 3 fits\n",
      "Best Estimator:  RandomForestClassifier(max_depth=5, min_samples_leaf=50, min_samples_split=50,\n",
      "                       random_state=42)\n"
     ]
    }
   ],
   "source": [
    "X_train = oversampled_train_df.drop('Class', axis=1).values\n",
    "y_train = oversampled_train_df['Class'].values\n",
    "\n",
    "# Random Forest hyperparameters\n",
    "rf_params = {\n",
    "    'n_estimators': [100],\n",
    "    'max_depth': [5],\n",
    "    'min_samples_leaf': [50],\n",
    "    'min_samples_split': [50]\n",
    "}\n",
    "\n",
    "# Set up GridSearchCV with Random Forest\n",
    "grid_rf = GridSearchCV(\n",
    "    estimator=RandomForestClassifier(random_state=42),\n",
    "    param_grid=rf_params,\n",
    "    scoring='roc_auc',\n",
    "    cv=N_SPLITS,\n",
    "    verbose=1,\n",
    "    return_train_score=True\n",
    ")\n",
    "\n",
    "# Train the model\n",
    "grid_rf.fit(X_train, y_train)\n",
    "\n",
    "# Get the best estimator\n",
    "random_forest = grid_rf.best_estimator_\n",
    "\n",
    "print(\"Best Estimator: \", random_forest)"
   ]
  },
  {
   "cell_type": "code",
   "execution_count": 45,
   "id": "7ac4e6ad",
   "metadata": {},
   "outputs": [
    {
     "data": {
      "text/html": [
       "<div>\n",
       "<style scoped>\n",
       "    .dataframe tbody tr th:only-of-type {\n",
       "        vertical-align: middle;\n",
       "    }\n",
       "\n",
       "    .dataframe tbody tr th {\n",
       "        vertical-align: top;\n",
       "    }\n",
       "\n",
       "    .dataframe thead th {\n",
       "        text-align: right;\n",
       "    }\n",
       "</style>\n",
       "<table border=\"1\" class=\"dataframe\">\n",
       "  <thead>\n",
       "    <tr style=\"text-align: right;\">\n",
       "      <th></th>\n",
       "      <th>mean_fit_time</th>\n",
       "      <th>std_fit_time</th>\n",
       "      <th>mean_score_time</th>\n",
       "      <th>std_score_time</th>\n",
       "      <th>param_max_depth</th>\n",
       "      <th>param_min_samples_leaf</th>\n",
       "      <th>param_min_samples_split</th>\n",
       "      <th>param_n_estimators</th>\n",
       "      <th>params</th>\n",
       "      <th>split0_test_score</th>\n",
       "      <th>split1_test_score</th>\n",
       "      <th>split2_test_score</th>\n",
       "      <th>mean_test_score</th>\n",
       "      <th>std_test_score</th>\n",
       "      <th>rank_test_score</th>\n",
       "      <th>split0_train_score</th>\n",
       "      <th>split1_train_score</th>\n",
       "      <th>split2_train_score</th>\n",
       "      <th>mean_train_score</th>\n",
       "      <th>std_train_score</th>\n",
       "    </tr>\n",
       "  </thead>\n",
       "  <tbody>\n",
       "    <tr>\n",
       "      <th>0</th>\n",
       "      <td>87.79634</td>\n",
       "      <td>3.441133</td>\n",
       "      <td>0.547395</td>\n",
       "      <td>0.03981</td>\n",
       "      <td>5</td>\n",
       "      <td>50</td>\n",
       "      <td>50</td>\n",
       "      <td>100</td>\n",
       "      <td>{'max_depth': 5, 'min_samples_leaf': 50, 'min_...</td>\n",
       "      <td>0.992513</td>\n",
       "      <td>0.992429</td>\n",
       "      <td>0.992573</td>\n",
       "      <td>0.992505</td>\n",
       "      <td>0.000059</td>\n",
       "      <td>1</td>\n",
       "      <td>0.992112</td>\n",
       "      <td>0.992931</td>\n",
       "      <td>0.992845</td>\n",
       "      <td>0.992629</td>\n",
       "      <td>0.000368</td>\n",
       "    </tr>\n",
       "  </tbody>\n",
       "</table>\n",
       "</div>"
      ],
      "text/plain": [
       "   mean_fit_time  std_fit_time  mean_score_time  std_score_time  \\\n",
       "0       87.79634      3.441133         0.547395         0.03981   \n",
       "\n",
       "   param_max_depth  param_min_samples_leaf  param_min_samples_split  \\\n",
       "0                5                      50                       50   \n",
       "\n",
       "   param_n_estimators                                             params  \\\n",
       "0                 100  {'max_depth': 5, 'min_samples_leaf': 50, 'min_...   \n",
       "\n",
       "   split0_test_score  split1_test_score  split2_test_score  mean_test_score  \\\n",
       "0           0.992513           0.992429           0.992573         0.992505   \n",
       "\n",
       "   std_test_score  rank_test_score  split0_train_score  split1_train_score  \\\n",
       "0        0.000059                1            0.992112            0.992931   \n",
       "\n",
       "   split2_train_score  mean_train_score  std_train_score  \n",
       "0            0.992845          0.992629         0.000368  "
      ]
     },
     "execution_count": 45,
     "metadata": {},
     "output_type": "execute_result"
    }
   ],
   "source": [
    "# results of grid search CV\n",
    "cv_results = pd.DataFrame(grid_rf.cv_results_)\n",
    "cv_results"
   ]
  },
  {
   "cell_type": "code",
   "execution_count": 46,
   "id": "b7eddbdb",
   "metadata": {},
   "outputs": [
    {
     "name": "stdout",
     "output_type": "stream",
     "text": [
      "Best roc_auc:- 0.9925051107729\n",
      "RandomForestClassifier(max_depth=5, min_samples_leaf=50, min_samples_split=50,\n",
      "                       random_state=42)\n"
     ]
    }
   ],
   "source": [
    "# Printing the optimal sensitivity score and hyperparameters\n",
    "print(\"Best roc_auc:-\", grid_rf.best_score_)\n",
    "print(grid_rf.best_estimator_)"
   ]
  },
  {
   "cell_type": "code",
   "execution_count": 47,
   "id": "c348f2d7",
   "metadata": {},
   "outputs": [
    {
     "name": "stdout",
     "output_type": "stream",
     "text": [
      "The highest test roc_auc is 0.9925051107729 with parameters {'max_depth': 5, 'min_samples_leaf': 50, 'min_samples_split': 50, 'n_estimators': 100}\n"
     ]
    }
   ],
   "source": [
    "# Best score with best parameters\n",
    "best_score = grid_rf.best_score_\n",
    "best_params = grid_rf.best_params_\n",
    "\n",
    "print(\"The highest test roc_auc is {0} with parameters {1}\".format(best_score, best_params))"
   ]
  },
  {
   "cell_type": "code",
   "execution_count": 48,
   "id": "3f575b7f",
   "metadata": {},
   "outputs": [],
   "source": [
    "rf = RandomForestClassifier(**best_params)\n",
    "oversampled_best_rf_model = rf.fit(X_train, y_train)\n",
    "y_train_pred = oversampled_best_rf_model.predict(X_train)"
   ]
  },
  {
   "cell_type": "code",
   "execution_count": 49,
   "id": "a09edd22",
   "metadata": {},
   "outputs": [
    {
     "name": "stdout",
     "output_type": "stream",
     "text": [
      "[[226367   1084]\n",
      " [ 24500 202951]]\n"
     ]
    }
   ],
   "source": [
    "confusion = confusion_matrix(y_train, y_train_pred)\n",
    "print(confusion)\n",
    "TP = confusion[1,1] # true positive \n",
    "TN = confusion[0,0] # true negatives\n",
    "FP = confusion[0,1] # false positives\n",
    "FN = confusion[1,0] # false negatives"
   ]
  },
  {
   "cell_type": "code",
   "execution_count": 50,
   "id": "b50b0cff",
   "metadata": {},
   "outputs": [
    {
     "name": "stdout",
     "output_type": "stream",
     "text": [
      "Sensitivity(Recall): 0.8922844920444404\n",
      "Percision: 0.994687186022006\n",
      "F1-Score: 0.9407072303620512\n",
      "Accuracy: 0.9437593151931625\n",
      "Specificity: 0.9952341383418847\n",
      "              precision    recall  f1-score   support\n",
      "\n",
      "           0       0.90      1.00      0.95    227451\n",
      "           1       0.99      0.89      0.94    227451\n",
      "\n",
      "    accuracy                           0.94    454902\n",
      "   macro avg       0.95      0.94      0.94    454902\n",
      "weighted avg       0.95      0.94      0.94    454902\n",
      "\n"
     ]
    }
   ],
   "source": [
    "# Sensitivity\n",
    "print(\"Sensitivity(Recall):\", recall_score(y_train, y_train_pred))\n",
    "\n",
    "# Percision\n",
    "print(\"Percision:\", precision_score(y_train, y_train_pred))\n",
    "\n",
    "# F1 score\n",
    "print(\"F1-Score:\", f1_score(y_train, y_train_pred))\n",
    "\n",
    "# Accuracy\n",
    "print(\"Accuracy:\", accuracy_score(y_train, y_train_pred))\n",
    "\n",
    "# Specificity\n",
    "print(\"Specificity:\", TN / float(TN+FP))\n",
    "\n",
    "# classification_report\n",
    "print(classification_report(y_train, y_train_pred))"
   ]
  },
  {
   "cell_type": "code",
   "execution_count": 51,
   "id": "58bcabd9",
   "metadata": {},
   "outputs": [
    {
     "data": {
      "image/png": "[encoded data removed]",
      "text/plain": [
       "<Figure size 500x500 with 1 Axes>"
      ]
     },
     "metadata": {},
     "output_type": "display_data"
    }
   ],
   "source": [
    "# Predicted probability\n",
    "y_train_pred_proba = oversampled_best_rf_model.predict_proba(X_train)[:,1]\n",
    "# Plot the ROC curve\n",
    "draw_roc(y_train, y_train_pred_proba)"
   ]
  },
  {
   "cell_type": "code",
   "execution_count": 52,
   "id": "6f9a24b3",
   "metadata": {},
   "outputs": [
    {
     "name": "stdout",
     "output_type": "stream",
     "text": [
      "test_accuracy: 0.9455\n",
      "test_precision: 0.9933\n",
      "test_recall: 0.8970\n",
      "test_f1: 0.9427\n",
      "test_roc_auc: 0.9923\n"
     ]
    }
   ],
   "source": [
    "# Define scoring metrics\n",
    "scoring = {\n",
    "    'accuracy': 'accuracy',\n",
    "    'precision': 'precision',\n",
    "    'recall': 'recall',\n",
    "    'f1': 'f1',\n",
    "    'roc_auc': 'roc_auc'\n",
    "}\n",
    "\n",
    "# Perform cross-validation\n",
    "cv_results = cross_validate(oversampled_best_rf_model, X_train, y_train, cv=N_SPLITS, scoring=scoring)\n",
    "\n",
    "# Display average of each metric\n",
    "for metric, scores in cv_results.items():\n",
    "    if \"test\" in metric:\n",
    "        print(f\"{metric}: {scores.mean():.4f}\")"
   ]
  },
  {
   "cell_type": "markdown",
   "id": "5aa7800b",
   "metadata": {},
   "source": [
    "### Consider the most important features only (V3, V4, V7, V10, V12,V14, V16, V17, V18) on the oversampled data"
   ]
  },
  {
   "cell_type": "code",
   "execution_count": 53,
   "id": "e8c2fcfd",
   "metadata": {},
   "outputs": [
    {
     "name": "stdout",
     "output_type": "stream",
     "text": [
      "Fitting 3 folds for each of 1 candidates, totalling 3 fits\n",
      "Best Estimator:  RandomForestClassifier(max_depth=5, min_samples_leaf=50, min_samples_split=50,\n",
      "                       random_state=42)\n"
     ]
    }
   ],
   "source": [
    "X_train = extracted_features_oversampled_train_df.drop('Class', axis=1).values\n",
    "y_train = extracted_features_oversampled_train_df['Class'].values\n",
    "\n",
    "# Random Forest hyperparameters\n",
    "rf_params = {\n",
    "    'n_estimators': [100],\n",
    "    'max_depth': [5],\n",
    "    'min_samples_leaf': [50],\n",
    "    'min_samples_split': [50]\n",
    "}\n",
    "\n",
    "# Set up GridSearchCV with Random Forest\n",
    "grid_rf = GridSearchCV(\n",
    "    estimator=RandomForestClassifier(random_state=42),\n",
    "    param_grid=rf_params,\n",
    "    scoring='roc_auc',\n",
    "    cv=N_SPLITS,\n",
    "    verbose=1,\n",
    "    return_train_score=True\n",
    ")\n",
    "\n",
    "# Train the model\n",
    "grid_rf.fit(X_train, y_train)\n",
    "\n",
    "# Get the best estimator\n",
    "random_forest = grid_rf.best_estimator_\n",
    "\n",
    "print(\"Best Estimator: \", random_forest)"
   ]
  },
  {
   "cell_type": "code",
   "execution_count": 54,
   "id": "5b5a0784",
   "metadata": {},
   "outputs": [
    {
     "data": {
      "text/html": [
       "<div>\n",
       "<style scoped>\n",
       "    .dataframe tbody tr th:only-of-type {\n",
       "        vertical-align: middle;\n",
       "    }\n",
       "\n",
       "    .dataframe tbody tr th {\n",
       "        vertical-align: top;\n",
       "    }\n",
       "\n",
       "    .dataframe thead th {\n",
       "        text-align: right;\n",
       "    }\n",
       "</style>\n",
       "<table border=\"1\" class=\"dataframe\">\n",
       "  <thead>\n",
       "    <tr style=\"text-align: right;\">\n",
       "      <th></th>\n",
       "      <th>mean_fit_time</th>\n",
       "      <th>std_fit_time</th>\n",
       "      <th>mean_score_time</th>\n",
       "      <th>std_score_time</th>\n",
       "      <th>param_max_depth</th>\n",
       "      <th>param_min_samples_leaf</th>\n",
       "      <th>param_min_samples_split</th>\n",
       "      <th>param_n_estimators</th>\n",
       "      <th>params</th>\n",
       "      <th>split0_test_score</th>\n",
       "      <th>split1_test_score</th>\n",
       "      <th>split2_test_score</th>\n",
       "      <th>mean_test_score</th>\n",
       "      <th>std_test_score</th>\n",
       "      <th>rank_test_score</th>\n",
       "      <th>split0_train_score</th>\n",
       "      <th>split1_train_score</th>\n",
       "      <th>split2_train_score</th>\n",
       "      <th>mean_train_score</th>\n",
       "      <th>std_train_score</th>\n",
       "    </tr>\n",
       "  </thead>\n",
       "  <tbody>\n",
       "    <tr>\n",
       "      <th>0</th>\n",
       "      <td>57.059711</td>\n",
       "      <td>1.816411</td>\n",
       "      <td>0.468044</td>\n",
       "      <td>0.009003</td>\n",
       "      <td>5</td>\n",
       "      <td>50</td>\n",
       "      <td>50</td>\n",
       "      <td>100</td>\n",
       "      <td>{'max_depth': 5, 'min_samples_leaf': 50, 'min_...</td>\n",
       "      <td>0.991035</td>\n",
       "      <td>0.990538</td>\n",
       "      <td>0.991061</td>\n",
       "      <td>0.990878</td>\n",
       "      <td>0.000241</td>\n",
       "      <td>1</td>\n",
       "      <td>0.99086</td>\n",
       "      <td>0.991138</td>\n",
       "      <td>0.99103</td>\n",
       "      <td>0.991009</td>\n",
       "      <td>0.000114</td>\n",
       "    </tr>\n",
       "  </tbody>\n",
       "</table>\n",
       "</div>"
      ],
      "text/plain": [
       "   mean_fit_time  std_fit_time  mean_score_time  std_score_time  \\\n",
       "0      57.059711      1.816411         0.468044        0.009003   \n",
       "\n",
       "   param_max_depth  param_min_samples_leaf  param_min_samples_split  \\\n",
       "0                5                      50                       50   \n",
       "\n",
       "   param_n_estimators                                             params  \\\n",
       "0                 100  {'max_depth': 5, 'min_samples_leaf': 50, 'min_...   \n",
       "\n",
       "   split0_test_score  split1_test_score  split2_test_score  mean_test_score  \\\n",
       "0           0.991035           0.990538           0.991061         0.990878   \n",
       "\n",
       "   std_test_score  rank_test_score  split0_train_score  split1_train_score  \\\n",
       "0        0.000241                1             0.99086            0.991138   \n",
       "\n",
       "   split2_train_score  mean_train_score  std_train_score  \n",
       "0             0.99103          0.991009         0.000114  "
      ]
     },
     "execution_count": 54,
     "metadata": {},
     "output_type": "execute_result"
    }
   ],
   "source": [
    "# results of grid search CV\n",
    "cv_results = pd.DataFrame(grid_rf.cv_results_)\n",
    "cv_results"
   ]
  },
  {
   "cell_type": "code",
   "execution_count": 55,
   "id": "b998236d",
   "metadata": {},
   "outputs": [
    {
     "name": "stdout",
     "output_type": "stream",
     "text": [
      "Best roc_auc:- 0.9908779259201997\n",
      "RandomForestClassifier(max_depth=5, min_samples_leaf=50, min_samples_split=50,\n",
      "                       random_state=42)\n"
     ]
    }
   ],
   "source": [
    "# Printing the optimal sensitivity score and hyperparameters\n",
    "print(\"Best roc_auc:-\", grid_rf.best_score_)\n",
    "print(grid_rf.best_estimator_)"
   ]
  },
  {
   "cell_type": "code",
   "execution_count": 56,
   "id": "d41f1537",
   "metadata": {},
   "outputs": [
    {
     "name": "stdout",
     "output_type": "stream",
     "text": [
      "The highest test roc_auc is 0.9908779259201997 with parameters {'max_depth': 5, 'min_samples_leaf': 50, 'min_samples_split': 50, 'n_estimators': 100}\n"
     ]
    }
   ],
   "source": [
    "# Best score with best parameters\n",
    "best_score = grid_rf.best_score_\n",
    "best_params = grid_rf.best_params_\n",
    "\n",
    "print(\"The highest test roc_auc is {0} with parameters {1}\".format(best_score, best_params))"
   ]
  },
  {
   "cell_type": "code",
   "execution_count": 57,
   "id": "4b0280e1",
   "metadata": {},
   "outputs": [],
   "source": [
    "rf = RandomForestClassifier(**best_params)\n",
    "oversampled_best_rf_model_v2 = rf.fit(X_train, y_train)\n",
    "y_train_pred = oversampled_best_rf_model_v2.predict(X_train)"
   ]
  },
  {
   "cell_type": "code",
   "execution_count": 58,
   "id": "652e4980",
   "metadata": {},
   "outputs": [
    {
     "name": "stdout",
     "output_type": "stream",
     "text": [
      "[[217846   3696]\n",
      " [ 18502 208949]]\n"
     ]
    }
   ],
   "source": [
    "confusion = confusion_matrix(y_train, y_train_pred)\n",
    "print(confusion)\n",
    "TP = confusion[1,1] # true positive \n",
    "TN = confusion[0,0] # true negatives\n",
    "FP = confusion[0,1] # false positives\n",
    "FN = confusion[1,0] # false negatives"
   ]
  },
  {
   "cell_type": "code",
   "execution_count": 59,
   "id": "7e9eecc1",
   "metadata": {},
   "outputs": [
    {
     "name": "stdout",
     "output_type": "stream",
     "text": [
      "Sensitivity(Recall): 0.9186550070124994\n",
      "Percision: 0.9826189188553692\n",
      "F1-Score: 0.9495610048716644\n",
      "Accuracy: 0.9505604764439535\n",
      "Specificity: 0.983316933132318\n",
      "              precision    recall  f1-score   support\n",
      "\n",
      "           0       0.92      0.98      0.95    221542\n",
      "           1       0.98      0.92      0.95    227451\n",
      "\n",
      "    accuracy                           0.95    448993\n",
      "   macro avg       0.95      0.95      0.95    448993\n",
      "weighted avg       0.95      0.95      0.95    448993\n",
      "\n"
     ]
    }
   ],
   "source": [
    "# Sensitivity\n",
    "print(\"Sensitivity(Recall):\", recall_score(y_train, y_train_pred))\n",
    "\n",
    "# Percision\n",
    "print(\"Percision:\", precision_score(y_train, y_train_pred))\n",
    "\n",
    "# F1 score\n",
    "print(\"F1-Score:\", f1_score(y_train, y_train_pred))\n",
    "\n",
    "# Accuracy\n",
    "print(\"Accuracy:\", accuracy_score(y_train, y_train_pred))\n",
    "\n",
    "# Specificity\n",
    "print(\"Specificity:\", TN / float(TN+FP))\n",
    "\n",
    "# classification_report\n",
    "print(classification_report(y_train, y_train_pred))"
   ]
  },
  {
   "cell_type": "code",
   "execution_count": 60,
   "id": "2a163bb7",
   "metadata": {},
   "outputs": [
    {
     "data": {
      "image/png": "[encoded data removed]",
      "text/plain": [
       "<Figure size 500x500 with 1 Axes>"
      ]
     },
     "metadata": {},
     "output_type": "display_data"
    }
   ],
   "source": [
    "# Predicted probability\n",
    "y_train_pred_proba = oversampled_best_rf_model_v2.predict_proba(X_train)[:,1]\n",
    "# Plot the ROC curve\n",
    "draw_roc(y_train, y_train_pred_proba)"
   ]
  },
  {
   "cell_type": "code",
   "execution_count": 61,
   "id": "3f58366a",
   "metadata": {},
   "outputs": [
    {
     "name": "stdout",
     "output_type": "stream",
     "text": [
      "test_accuracy: 0.9504\n",
      "test_precision: 0.9835\n",
      "test_recall: 0.9175\n",
      "test_f1: 0.9494\n",
      "test_roc_auc: 0.9908\n"
     ]
    }
   ],
   "source": [
    "# Define scoring metrics\n",
    "scoring = {\n",
    "    'accuracy': 'accuracy',\n",
    "    'precision': 'precision',\n",
    "    'recall': 'recall',\n",
    "    'f1': 'f1',\n",
    "    'roc_auc': 'roc_auc'\n",
    "}\n",
    "\n",
    "# Perform cross-validation\n",
    "cv_results = cross_validate(oversampled_best_rf_model_v2, X_train, y_train, cv=N_SPLITS, scoring=scoring)\n",
    "\n",
    "# Display average of each metric\n",
    "for metric, scores in cv_results.items():\n",
    "    if \"test\" in metric:\n",
    "        print(f\"{metric}: {scores.mean():.4f}\")"
   ]
  },
  {
   "cell_type": "code",
   "execution_count": 69,
   "id": "a10921f3",
   "metadata": {},
   "outputs": [
    {
     "name": "stdout",
     "output_type": "stream",
     "text": [
      "     Feature  Importance\n",
      "5  Feature_5    0.429648\n",
      "3  Feature_3    0.231194\n",
      "4  Feature_4    0.135461\n",
      "1  Feature_1    0.091883\n",
      "7  Feature_7    0.070069\n",
      "0  Feature_0    0.017383\n",
      "6  Feature_6    0.008848\n",
      "8  Feature_8    0.008263\n",
      "2  Feature_2    0.007252\n"
     ]
    }
   ],
   "source": [
    "feature_names = [f\"Feature_{i}\" for i in range(X_train.shape[1])]\n",
    "\n",
    "# Get importances\n",
    "importances = rf.feature_importances_\n",
    "\n",
    "# Put into a DataFrame\n",
    "feature_importance_df = pd.DataFrame({\n",
    "    'Feature': feature_names,\n",
    "    'Importance': importances\n",
    "})\n",
    "\n",
    "# Sort by importance\n",
    "feature_importance_df = feature_importance_df.sort_values(by='Importance', ascending=False)\n",
    "\n",
    "print(feature_importance_df)"
   ]
  },
  {
   "cell_type": "code",
   "execution_count": 70,
   "id": "226f54b3",
   "metadata": {},
   "outputs": [
    {
     "data": {
      "image/png": "[encoded data removed]",
      "text/plain": [
       "<Figure size 1000x600 with 1 Axes>"
      ]
     },
     "metadata": {},
     "output_type": "display_data"
    }
   ],
   "source": [
    "plt.figure(figsize=(10, 6))\n",
    "plt.barh(feature_importance_df['Feature'], feature_importance_df['Importance'])\n",
    "plt.xlabel('Importance')\n",
    "plt.title('Feature Importances from Random Forest')\n",
    "plt.gca().invert_yaxis()\n",
    "plt.show()"
   ]
  }
 ],
 "metadata": {
  "kernelspec": {
   "display_name": "base",
   "language": "python",
   "name": "python3"
  },
  "language_info": {
   "codemirror_mode": {
    "name": "ipython",
    "version": 3
   },
   "file_extension": ".py",
   "mimetype": "text/x-python",
   "name": "python",
   "nbconvert_exporter": "python",
   "pygments_lexer": "ipython3",
   "version": "3.12.7"
  }
 },
 "nbformat": 4,
 "nbformat_minor": 5
}
