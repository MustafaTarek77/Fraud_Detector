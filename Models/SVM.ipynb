{
 "cells": [
  {
   "cell_type": "code",
   "execution_count": 1,
   "id": "deec3d2d",
   "metadata": {},
   "outputs": [],
   "source": [
    "import os\n",
    "import pandas as pd\n",
    "import matplotlib.pyplot as plt\n",
    "from sklearn.svm import SVC\n",
    "from sklearn.model_selection import GridSearchCV, cross_val_score\n",
    "from sklearn.metrics import accuracy_score, precision_score, recall_score, f1_score, confusion_matrix, classification_report, roc_auc_score, roc_curve"
   ]
  },
  {
   "cell_type": "code",
   "execution_count": 2,
   "id": "00447fb3",
   "metadata": {},
   "outputs": [],
   "source": [
    "# Read each CSV file\n",
    "train_df = pd.read_csv(os.path.join('../Data', \"train_data.csv\"))\n",
    "undersampled_train_df = pd.read_csv(os.path.join('../Data', \"undersampled_train_data.csv\"))\n",
    "oversampled_train_df = pd.read_csv(os.path.join('../Data', \"oversampled_train_data.csv\"))\n",
    "extracted_features_train_df = pd.read_csv(os.path.join('../Data', \"extracted_features_train_data.csv\"))\n",
    "extracted_features_undersampled_train_df = pd.read_csv(os.path.join('../Data', \"extracted_features_undersampled_train_data.csv\"))\n",
    "extracted_features_oversampled_train_df = pd.read_csv(os.path.join('../Data', \"extracted_features_oversampled_train_data.csv\"))\n",
    "test_df = pd.read_csv(os.path.join('../Data', \"test_data.csv\"))"
   ]
  },
  {
   "cell_type": "code",
   "execution_count": 3,
   "id": "5eda9378",
   "metadata": {},
   "outputs": [],
   "source": [
    "N_SPLITS = 3"
   ]
  },
  {
   "cell_type": "markdown",
   "id": "c86830b9",
   "metadata": {},
   "source": [
    "# Apply on the original data"
   ]
  },
  {
   "cell_type": "code",
   "execution_count": null,
   "id": "a78a895b",
   "metadata": {},
   "outputs": [],
   "source": [
    "X_train = train_df.drop('Class', axis=1).values\n",
    "y_train = train_df['Class'].values\n",
    "\n",
    "# Define SVM hyperparameter grid\n",
    "svm_params = {\n",
    "    'C': [0.1, 0.5, 1],\n",
    "    'kernel': ['linear', 'rbf']\n",
    "}\n",
    "\n",
    "# Set up GridSearchCV with SVM\n",
    "grid_svm = GridSearchCV(\n",
    "    estimator=SVC(probability=True),  # enable probability for roc_auc\n",
    "    param_grid=svm_params,\n",
    "    scoring='roc_auc',\n",
    "    cv=N_SPLITS,\n",
    "    verbose=1,\n",
    "    return_train_score=True\n",
    ")\n",
    "\n",
    "# Fit the model\n",
    "grid_svm.fit(X_train, y_train)\n",
    "\n",
    "# Get the best model\n",
    "svm_model = grid_svm.best_estimator_\n",
    "\n",
    "print(\"Best Estimator: \", svm_model)"
   ]
  },
  {
   "cell_type": "code",
   "execution_count": null,
   "id": "44d4b510",
   "metadata": {},
   "outputs": [],
   "source": [
    "# results of grid search CV\n",
    "cv_results = pd.DataFrame(grid_svm.cv_results_)\n",
    "cv_results"
   ]
  },
  {
   "cell_type": "code",
   "execution_count": null,
   "id": "07ff7a02",
   "metadata": {},
   "outputs": [],
   "source": [
    "# Printing the optimal sensitivity score and hyperparameters\n",
    "print(\"Best roc_auc:-\", grid_svm.best_score_)\n",
    "print(grid_svm.best_estimator_)"
   ]
  },
  {
   "cell_type": "code",
   "execution_count": null,
   "id": "a3cf4fb4",
   "metadata": {},
   "outputs": [],
   "source": [
    "# Best score with best parameters\n",
    "best_score = grid_svm.best_score_\n",
    "best_params = grid_svm.best_params_\n",
    "\n",
    "print(\"The highest test roc_auc is {0} with parameters {1}\".format(best_score, best_params))"
   ]
  },
  {
   "cell_type": "code",
   "execution_count": null,
   "id": "1aaeee37",
   "metadata": {},
   "outputs": [],
   "source": [
    "svm = SVC(**best_params)\n",
    "original_best_svm_model = svm.fit(X_train, y_train)\n",
    "y_train_pred = original_best_svm_model.predict(X_train)"
   ]
  },
  {
   "cell_type": "code",
   "execution_count": null,
   "id": "f34161f8",
   "metadata": {},
   "outputs": [],
   "source": [
    "confusion = confusion_matrix(y_train, y_train_pred)\n",
    "print(confusion)\n",
    "TP = confusion[1,1] # true positive \n",
    "TN = confusion[0,0] # true negatives\n",
    "FP = confusion[0,1] # false positives\n",
    "FN = confusion[1,0] # false negatives"
   ]
  },
  {
   "cell_type": "code",
   "execution_count": null,
   "id": "f9b997ba",
   "metadata": {},
   "outputs": [],
   "source": [
    "# Sensitivity\n",
    "print(\"Sensitivity(Recall):\", recall_score(y_train, y_train_pred))\n",
    "\n",
    "# Percision\n",
    "print(\"Percision:\", precision_score(y_train, y_train_pred))\n",
    "\n",
    "# F1 score\n",
    "print(\"F1-Score:\", f1_score(y_train, y_train_pred))\n",
    "\n",
    "# Accuracy\n",
    "print(\"Accuracy:\", accuracy_score(y_train, y_train_pred))\n",
    "\n",
    "# Specificity\n",
    "print(\"Specificity:\", TN / float(TN+FP))\n",
    "\n",
    "# classification_report\n",
    "print(classification_report(y_train, y_train_pred))"
   ]
  },
  {
   "cell_type": "code",
   "execution_count": 18,
   "id": "ef4fc171",
   "metadata": {},
   "outputs": [],
   "source": [
    "# ROC Curve function\n",
    "def draw_roc( actual, probs ):\n",
    "    fpr, tpr, thresholds = roc_curve( actual, probs,\n",
    "                                              drop_intermediate = False )\n",
    "    auc_score = roc_auc_score( actual, probs )\n",
    "    plt.figure(figsize=(5, 5))\n",
    "    plt.plot( fpr, tpr, label='ROC curve (area = %0.2f)' % auc_score )\n",
    "    plt.plot([0, 1], [0, 1], 'k--')\n",
    "    plt.xlim([0.0, 1.0])\n",
    "    plt.ylim([0.0, 1.05])\n",
    "    plt.xlabel('False Positive Rate or [1 - True Negative Rate]')\n",
    "    plt.ylabel('True Positive Rate')\n",
    "    plt.title('Receiver operating characteristic example')\n",
    "    plt.legend(loc=\"lower right\")\n",
    "    plt.show()\n",
    "\n",
    "    return None"
   ]
  },
  {
   "cell_type": "code",
   "execution_count": null,
   "id": "82fe4688",
   "metadata": {},
   "outputs": [],
   "source": [
    "# Predicted probability\n",
    "y_train_pred_proba = original_best_svm_model.predict_proba(X_train)[:,1]\n",
    "# Plot the ROC curve\n",
    "draw_roc(y_train, y_train_pred_proba)"
   ]
  },
  {
   "cell_type": "code",
   "execution_count": null,
   "id": "929aebb1",
   "metadata": {},
   "outputs": [],
   "source": [
    "svm_score = cross_val_score(original_best_svm_model, X_train, y_train, cv=N_SPLITS)\n",
    "print(f'SVM Cross Validation Score: {svm_score.mean() * 100}%')"
   ]
  },
  {
   "cell_type": "markdown",
   "id": "f0174c32",
   "metadata": {},
   "source": [
    "### Consider the most important features only (V3, V4, V7, V10, V12,V14, V16, V17, V18) on the origial data"
   ]
  },
  {
   "cell_type": "code",
   "execution_count": null,
   "id": "1ab35bed",
   "metadata": {},
   "outputs": [],
   "source": [
    "X_train = extracted_features_train_df.drop('Class', axis=1).values\n",
    "y_train = extracted_features_train_df['Class'].values\n",
    "\n",
    "# Define SVM hyperparameter grid\n",
    "svm_params = {\n",
    "    'C': [0.1, 0.5, 1],\n",
    "    'kernel': ['linear', 'rbf']\n",
    "}\n",
    "\n",
    "# Set up GridSearchCV with SVM\n",
    "grid_svm = GridSearchCV(\n",
    "    estimator=SVC(probability=True),  # enable probability for roc_auc\n",
    "    param_grid=svm_params,\n",
    "    scoring='roc_auc',\n",
    "    cv=N_SPLITS,\n",
    "    verbose=1,\n",
    "    return_train_score=True\n",
    ")\n",
    "\n",
    "# Fit the model\n",
    "grid_svm.fit(X_train, y_train)\n",
    "\n",
    "# Get the best model\n",
    "svm_model = grid_svm.best_estimator_\n",
    "\n",
    "print(\"Best Estimator: \", svm_model)"
   ]
  },
  {
   "cell_type": "code",
   "execution_count": null,
   "id": "13bcb8e3",
   "metadata": {},
   "outputs": [],
   "source": [
    "# results of grid search CV\n",
    "cv_results = pd.DataFrame(grid_svm.cv_results_)\n",
    "cv_results"
   ]
  },
  {
   "cell_type": "code",
   "execution_count": null,
   "id": "9f367b96",
   "metadata": {},
   "outputs": [],
   "source": [
    "# Printing the optimal sensitivity score and hyperparameters\n",
    "print(\"Best roc_auc:-\", grid_svm.best_score_)\n",
    "print(grid_svm.best_estimator_)"
   ]
  },
  {
   "cell_type": "code",
   "execution_count": null,
   "id": "9cccf81e",
   "metadata": {},
   "outputs": [],
   "source": [
    "svm = SVC(**best_params)\n",
    "original_best_svm_model_v2 = svm.fit(X_train, y_train)\n",
    "y_train_pred = original_best_svm_model_v2.predict(X_train)"
   ]
  },
  {
   "cell_type": "code",
   "execution_count": null,
   "id": "991f5ab1",
   "metadata": {},
   "outputs": [],
   "source": [
    "confusion = confusion_matrix(y_train, y_train_pred)\n",
    "print(confusion)\n",
    "TP = confusion[1,1] # true positive \n",
    "TN = confusion[0,0] # true negatives\n",
    "FP = confusion[0,1] # false positives\n",
    "FN = confusion[1,0] # false negatives"
   ]
  },
  {
   "cell_type": "code",
   "execution_count": null,
   "id": "7294b363",
   "metadata": {},
   "outputs": [],
   "source": [
    "# Sensitivity\n",
    "print(\"Sensitivity(Recall):\", recall_score(y_train, y_train_pred))\n",
    "\n",
    "# Percision\n",
    "print(\"Percision:\", precision_score(y_train, y_train_pred))\n",
    "\n",
    "# F1 score\n",
    "print(\"F1-Score:\", f1_score(y_train, y_train_pred))\n",
    "\n",
    "# Accuracy\n",
    "print(\"Accuracy:\", accuracy_score(y_train, y_train_pred))\n",
    "\n",
    "# Specificity\n",
    "print(\"Specificity:\", TN / float(TN+FP))\n",
    "\n",
    "# classification_report\n",
    "print(classification_report(y_train, y_train_pred))"
   ]
  },
  {
   "cell_type": "code",
   "execution_count": null,
   "id": "0ffa93aa",
   "metadata": {},
   "outputs": [],
   "source": [
    "# Predicted probability\n",
    "y_train_pred_proba = original_best_svm_model_v2.predict_proba(X_train)[:,1]\n",
    "# Plot the ROC curve\n",
    "draw_roc(y_train, y_train_pred_proba)"
   ]
  },
  {
   "cell_type": "code",
   "execution_count": null,
   "id": "f8522d58",
   "metadata": {},
   "outputs": [],
   "source": [
    "svm_score = cross_val_score(original_best_svm_model_v2, X_train, y_train, cv=N_SPLITS)\n",
    "print(f'SVM Cross Validation Score: {svm_score.mean() * 100}%')"
   ]
  },
  {
   "cell_type": "markdown",
   "id": "6fbc1c66",
   "metadata": {},
   "source": [
    "# Apply on the under-sampled data"
   ]
  },
  {
   "cell_type": "code",
   "execution_count": 6,
   "id": "1e0c7257",
   "metadata": {},
   "outputs": [
    {
     "name": "stdout",
     "output_type": "stream",
     "text": [
      "Fitting 3 folds for each of 6 candidates, totalling 18 fits\n",
      "Best Estimator:  SVC(C=10, probability=True)\n"
     ]
    }
   ],
   "source": [
    "X_train = undersampled_train_df.drop('Class', axis=1).values\n",
    "y_train = undersampled_train_df['Class'].values\n",
    "\n",
    "# Define SVM hyperparameter grid\n",
    "svm_params = {\n",
    "    'C': [0.1, 1, 10],\n",
    "    'kernel': ['linear', 'rbf']\n",
    "}\n",
    "\n",
    "# Set up GridSearchCV with SVM\n",
    "grid_svm = GridSearchCV(\n",
    "    estimator=SVC(probability=True),  # enable probability for roc_auc\n",
    "    param_grid=svm_params,\n",
    "    scoring='roc_auc',\n",
    "    cv=N_SPLITS,\n",
    "    verbose=1,\n",
    "    return_train_score=True\n",
    ")\n",
    "\n",
    "# Fit the model\n",
    "grid_svm.fit(X_train, y_train)\n",
    "\n",
    "# Get the best model\n",
    "svm_model = grid_svm.best_estimator_\n",
    "\n",
    "print(\"Best Estimator: \", svm_model)"
   ]
  },
  {
   "cell_type": "code",
   "execution_count": 7,
   "id": "8deedd64",
   "metadata": {},
   "outputs": [
    {
     "data": {
      "text/html": [
       "<div>\n",
       "<style scoped>\n",
       "    .dataframe tbody tr th:only-of-type {\n",
       "        vertical-align: middle;\n",
       "    }\n",
       "\n",
       "    .dataframe tbody tr th {\n",
       "        vertical-align: top;\n",
       "    }\n",
       "\n",
       "    .dataframe thead th {\n",
       "        text-align: right;\n",
       "    }\n",
       "</style>\n",
       "<table border=\"1\" class=\"dataframe\">\n",
       "  <thead>\n",
       "    <tr style=\"text-align: right;\">\n",
       "      <th></th>\n",
       "      <th>mean_fit_time</th>\n",
       "      <th>std_fit_time</th>\n",
       "      <th>mean_score_time</th>\n",
       "      <th>std_score_time</th>\n",
       "      <th>param_C</th>\n",
       "      <th>param_kernel</th>\n",
       "      <th>params</th>\n",
       "      <th>split0_test_score</th>\n",
       "      <th>split1_test_score</th>\n",
       "      <th>split2_test_score</th>\n",
       "      <th>mean_test_score</th>\n",
       "      <th>std_test_score</th>\n",
       "      <th>rank_test_score</th>\n",
       "      <th>split0_train_score</th>\n",
       "      <th>split1_train_score</th>\n",
       "      <th>split2_train_score</th>\n",
       "      <th>mean_train_score</th>\n",
       "      <th>std_train_score</th>\n",
       "    </tr>\n",
       "  </thead>\n",
       "  <tbody>\n",
       "    <tr>\n",
       "      <th>0</th>\n",
       "      <td>0.018070</td>\n",
       "      <td>0.002539</td>\n",
       "      <td>0.002638</td>\n",
       "      <td>0.000513</td>\n",
       "      <td>0.1</td>\n",
       "      <td>linear</td>\n",
       "      <td>{'C': 0.1, 'kernel': 'linear'}</td>\n",
       "      <td>0.970738</td>\n",
       "      <td>0.975364</td>\n",
       "      <td>0.985840</td>\n",
       "      <td>0.977314</td>\n",
       "      <td>0.006318</td>\n",
       "      <td>4</td>\n",
       "      <td>0.991946</td>\n",
       "      <td>0.988114</td>\n",
       "      <td>0.985196</td>\n",
       "      <td>0.988418</td>\n",
       "      <td>0.002764</td>\n",
       "    </tr>\n",
       "    <tr>\n",
       "      <th>1</th>\n",
       "      <td>0.032166</td>\n",
       "      <td>0.001593</td>\n",
       "      <td>0.004693</td>\n",
       "      <td>0.003386</td>\n",
       "      <td>0.1</td>\n",
       "      <td>rbf</td>\n",
       "      <td>{'C': 0.1, 'kernel': 'rbf'}</td>\n",
       "      <td>0.967789</td>\n",
       "      <td>0.982246</td>\n",
       "      <td>0.990269</td>\n",
       "      <td>0.980101</td>\n",
       "      <td>0.009302</td>\n",
       "      <td>3</td>\n",
       "      <td>0.989203</td>\n",
       "      <td>0.981772</td>\n",
       "      <td>0.979153</td>\n",
       "      <td>0.983376</td>\n",
       "      <td>0.004257</td>\n",
       "    </tr>\n",
       "    <tr>\n",
       "      <th>2</th>\n",
       "      <td>0.021082</td>\n",
       "      <td>0.002271</td>\n",
       "      <td>0.000000</td>\n",
       "      <td>0.000000</td>\n",
       "      <td>1.0</td>\n",
       "      <td>linear</td>\n",
       "      <td>{'C': 1, 'kernel': 'linear'}</td>\n",
       "      <td>0.962931</td>\n",
       "      <td>0.976579</td>\n",
       "      <td>0.982111</td>\n",
       "      <td>0.973873</td>\n",
       "      <td>0.008060</td>\n",
       "      <td>5</td>\n",
       "      <td>0.994340</td>\n",
       "      <td>0.988013</td>\n",
       "      <td>0.985022</td>\n",
       "      <td>0.989125</td>\n",
       "      <td>0.003884</td>\n",
       "    </tr>\n",
       "    <tr>\n",
       "      <th>3</th>\n",
       "      <td>0.019435</td>\n",
       "      <td>0.004561</td>\n",
       "      <td>0.008392</td>\n",
       "      <td>0.006945</td>\n",
       "      <td>1.0</td>\n",
       "      <td>rbf</td>\n",
       "      <td>{'C': 1, 'kernel': 'rbf'}</td>\n",
       "      <td>0.970217</td>\n",
       "      <td>0.986410</td>\n",
       "      <td>0.992075</td>\n",
       "      <td>0.982901</td>\n",
       "      <td>0.009262</td>\n",
       "      <td>2</td>\n",
       "      <td>0.992802</td>\n",
       "      <td>0.987360</td>\n",
       "      <td>0.986150</td>\n",
       "      <td>0.988770</td>\n",
       "      <td>0.002893</td>\n",
       "    </tr>\n",
       "    <tr>\n",
       "      <th>4</th>\n",
       "      <td>0.185897</td>\n",
       "      <td>0.070988</td>\n",
       "      <td>0.002811</td>\n",
       "      <td>0.002856</td>\n",
       "      <td>10.0</td>\n",
       "      <td>linear</td>\n",
       "      <td>{'C': 10, 'kernel': 'linear'}</td>\n",
       "      <td>0.956859</td>\n",
       "      <td>0.980453</td>\n",
       "      <td>0.983334</td>\n",
       "      <td>0.973549</td>\n",
       "      <td>0.011860</td>\n",
       "      <td>6</td>\n",
       "      <td>0.994572</td>\n",
       "      <td>0.987635</td>\n",
       "      <td>0.984979</td>\n",
       "      <td>0.989062</td>\n",
       "      <td>0.004044</td>\n",
       "    </tr>\n",
       "    <tr>\n",
       "      <th>5</th>\n",
       "      <td>0.017099</td>\n",
       "      <td>0.000250</td>\n",
       "      <td>0.008475</td>\n",
       "      <td>0.000462</td>\n",
       "      <td>10.0</td>\n",
       "      <td>rbf</td>\n",
       "      <td>{'C': 10, 'kernel': 'rbf'}</td>\n",
       "      <td>0.971895</td>\n",
       "      <td>0.989648</td>\n",
       "      <td>0.989161</td>\n",
       "      <td>0.983568</td>\n",
       "      <td>0.008257</td>\n",
       "      <td>1</td>\n",
       "      <td>0.995400</td>\n",
       "      <td>0.990509</td>\n",
       "      <td>0.989244</td>\n",
       "      <td>0.991717</td>\n",
       "      <td>0.002654</td>\n",
       "    </tr>\n",
       "  </tbody>\n",
       "</table>\n",
       "</div>"
      ],
      "text/plain": [
       "   mean_fit_time  std_fit_time  mean_score_time  std_score_time  param_C  \\\n",
       "0       0.018070      0.002539         0.002638        0.000513      0.1   \n",
       "1       0.032166      0.001593         0.004693        0.003386      0.1   \n",
       "2       0.021082      0.002271         0.000000        0.000000      1.0   \n",
       "3       0.019435      0.004561         0.008392        0.006945      1.0   \n",
       "4       0.185897      0.070988         0.002811        0.002856     10.0   \n",
       "5       0.017099      0.000250         0.008475        0.000462     10.0   \n",
       "\n",
       "  param_kernel                          params  split0_test_score  \\\n",
       "0       linear  {'C': 0.1, 'kernel': 'linear'}           0.970738   \n",
       "1          rbf     {'C': 0.1, 'kernel': 'rbf'}           0.967789   \n",
       "2       linear    {'C': 1, 'kernel': 'linear'}           0.962931   \n",
       "3          rbf       {'C': 1, 'kernel': 'rbf'}           0.970217   \n",
       "4       linear   {'C': 10, 'kernel': 'linear'}           0.956859   \n",
       "5          rbf      {'C': 10, 'kernel': 'rbf'}           0.971895   \n",
       "\n",
       "   split1_test_score  split2_test_score  mean_test_score  std_test_score  \\\n",
       "0           0.975364           0.985840         0.977314        0.006318   \n",
       "1           0.982246           0.990269         0.980101        0.009302   \n",
       "2           0.976579           0.982111         0.973873        0.008060   \n",
       "3           0.986410           0.992075         0.982901        0.009262   \n",
       "4           0.980453           0.983334         0.973549        0.011860   \n",
       "5           0.989648           0.989161         0.983568        0.008257   \n",
       "\n",
       "   rank_test_score  split0_train_score  split1_train_score  \\\n",
       "0                4            0.991946            0.988114   \n",
       "1                3            0.989203            0.981772   \n",
       "2                5            0.994340            0.988013   \n",
       "3                2            0.992802            0.987360   \n",
       "4                6            0.994572            0.987635   \n",
       "5                1            0.995400            0.990509   \n",
       "\n",
       "   split2_train_score  mean_train_score  std_train_score  \n",
       "0            0.985196          0.988418         0.002764  \n",
       "1            0.979153          0.983376         0.004257  \n",
       "2            0.985022          0.989125         0.003884  \n",
       "3            0.986150          0.988770         0.002893  \n",
       "4            0.984979          0.989062         0.004044  \n",
       "5            0.989244          0.991717         0.002654  "
      ]
     },
     "execution_count": 7,
     "metadata": {},
     "output_type": "execute_result"
    }
   ],
   "source": [
    "# results of grid search CV\n",
    "cv_results = pd.DataFrame(grid_svm.cv_results_)\n",
    "cv_results"
   ]
  },
  {
   "cell_type": "code",
   "execution_count": 8,
   "id": "17af84ac",
   "metadata": {},
   "outputs": [
    {
     "name": "stdout",
     "output_type": "stream",
     "text": [
      "Best roc_auc:- 0.9835681269309845\n",
      "SVC(C=10, probability=True)\n"
     ]
    }
   ],
   "source": [
    "# Printing the optimal sensitivity score and hyperparameters\n",
    "print(\"Best roc_auc:-\", grid_svm.best_score_)\n",
    "print(grid_svm.best_estimator_)"
   ]
  },
  {
   "cell_type": "code",
   "execution_count": 9,
   "id": "2cebee2b",
   "metadata": {},
   "outputs": [
    {
     "name": "stdout",
     "output_type": "stream",
     "text": [
      "The highest test roc_auc is 0.9835681269309845 with parameters {'C': 10, 'kernel': 'rbf'}\n"
     ]
    }
   ],
   "source": [
    "# Best score with best parameters\n",
    "best_score = grid_svm.best_score_\n",
    "best_params = grid_svm.best_params_\n",
    "\n",
    "print(\"The highest test roc_auc is {0} with parameters {1}\".format(best_score, best_params))"
   ]
  },
  {
   "cell_type": "code",
   "execution_count": 14,
   "id": "49005529",
   "metadata": {},
   "outputs": [],
   "source": [
    "undersampled_best_svm_model = grid_svm.best_estimator_\n",
    "y_train_pred = undersampled_best_svm_model.predict(X_train)"
   ]
  },
  {
   "cell_type": "code",
   "execution_count": 15,
   "id": "0b997dc8",
   "metadata": {},
   "outputs": [
    {
     "name": "stdout",
     "output_type": "stream",
     "text": [
      "[[391   3]\n",
      " [ 28 366]]\n"
     ]
    }
   ],
   "source": [
    "confusion = confusion_matrix(y_train, y_train_pred)\n",
    "print(confusion)\n",
    "TP = confusion[1,1] # true positive \n",
    "TN = confusion[0,0] # true negatives\n",
    "FP = confusion[0,1] # false positives\n",
    "FN = confusion[1,0] # false negatives"
   ]
  },
  {
   "cell_type": "code",
   "execution_count": 16,
   "id": "f78fe3cd",
   "metadata": {},
   "outputs": [
    {
     "name": "stdout",
     "output_type": "stream",
     "text": [
      "Sensitivity(Recall): 0.9289340101522843\n",
      "Percision: 0.991869918699187\n",
      "F1-Score: 0.9593709043250328\n",
      "Accuracy: 0.9606598984771574\n",
      "Specificity: 0.9923857868020305\n",
      "              precision    recall  f1-score   support\n",
      "\n",
      "           0       0.93      0.99      0.96       394\n",
      "           1       0.99      0.93      0.96       394\n",
      "\n",
      "    accuracy                           0.96       788\n",
      "   macro avg       0.96      0.96      0.96       788\n",
      "weighted avg       0.96      0.96      0.96       788\n",
      "\n"
     ]
    }
   ],
   "source": [
    "# Sensitivity\n",
    "print(\"Sensitivity(Recall):\", recall_score(y_train, y_train_pred))\n",
    "\n",
    "# Percision\n",
    "print(\"Percision:\", precision_score(y_train, y_train_pred))\n",
    "\n",
    "# F1 score\n",
    "print(\"F1-Score:\", f1_score(y_train, y_train_pred))\n",
    "\n",
    "# Accuracy\n",
    "print(\"Accuracy:\", accuracy_score(y_train, y_train_pred))\n",
    "\n",
    "# Specificity\n",
    "print(\"Specificity:\", TN / float(TN+FP))\n",
    "\n",
    "# classification_report\n",
    "print(classification_report(y_train, y_train_pred))"
   ]
  },
  {
   "cell_type": "code",
   "execution_count": 19,
   "id": "07d14568",
   "metadata": {},
   "outputs": [
    {
     "data": {
      "image/png": "[encoded data removed]",
      "text/plain": [
       "<Figure size 500x500 with 1 Axes>"
      ]
     },
     "metadata": {},
     "output_type": "display_data"
    }
   ],
   "source": [
    "# Predicted probability\n",
    "y_train_pred_proba = undersampled_best_svm_model.predict_proba(X_train)[:,1]\n",
    "# Plot the ROC curve\n",
    "draw_roc(y_train, y_train_pred_proba)"
   ]
  },
  {
   "cell_type": "code",
   "execution_count": 20,
   "id": "01fe75ca",
   "metadata": {},
   "outputs": [
    {
     "name": "stdout",
     "output_type": "stream",
     "text": [
      "Logistic Regression Cross Validation Score: 94.41703189852842%\n"
     ]
    }
   ],
   "source": [
    "svm_score = cross_val_score(undersampled_best_svm_model, X_train, y_train, cv=N_SPLITS)\n",
    "print(f'Logistic Regression Cross Validation Score: {svm_score.mean() * 100}%')"
   ]
  },
  {
   "cell_type": "markdown",
   "id": "b3c407f6",
   "metadata": {},
   "source": [
    "### Consider the most important features only (V3, V4, V7, V10, V12,V14, V16, V17, V18) on the undersampled data"
   ]
  },
  {
   "cell_type": "code",
   "execution_count": 21,
   "id": "8ae504c2",
   "metadata": {},
   "outputs": [
    {
     "name": "stdout",
     "output_type": "stream",
     "text": [
      "Fitting 3 folds for each of 1 candidates, totalling 3 fits\n",
      "Best Estimator:  SVC(C=0.5, kernel='linear', probability=True)\n"
     ]
    }
   ],
   "source": [
    "X_train = extracted_features_undersampled_train_df.drop('Class', axis=1).values\n",
    "y_train = extracted_features_undersampled_train_df['Class'].values\n",
    "\n",
    "# Define SVM hyperparameter grid\n",
    "svm_params = {\n",
    "    'C': [0.5],\n",
    "    'kernel': ['linear']\n",
    "}\n",
    "\n",
    "# Set up GridSearchCV with SVM\n",
    "grid_svm = GridSearchCV(\n",
    "    estimator=SVC(probability=True),  # enable probability for roc_auc\n",
    "    param_grid=svm_params,\n",
    "    scoring='roc_auc',\n",
    "    cv=N_SPLITS,\n",
    "    verbose=1,\n",
    "    return_train_score=True\n",
    ")\n",
    "\n",
    "# Fit the model\n",
    "grid_svm.fit(X_train, y_train)\n",
    "\n",
    "# Get the best model\n",
    "svm_model = grid_svm.best_estimator_\n",
    "\n",
    "print(\"Best Estimator: \", svm_model)"
   ]
  },
  {
   "cell_type": "code",
   "execution_count": 22,
   "id": "f05a3d52",
   "metadata": {},
   "outputs": [
    {
     "data": {
      "text/html": [
       "<div>\n",
       "<style scoped>\n",
       "    .dataframe tbody tr th:only-of-type {\n",
       "        vertical-align: middle;\n",
       "    }\n",
       "\n",
       "    .dataframe tbody tr th {\n",
       "        vertical-align: top;\n",
       "    }\n",
       "\n",
       "    .dataframe thead th {\n",
       "        text-align: right;\n",
       "    }\n",
       "</style>\n",
       "<table border=\"1\" class=\"dataframe\">\n",
       "  <thead>\n",
       "    <tr style=\"text-align: right;\">\n",
       "      <th></th>\n",
       "      <th>mean_fit_time</th>\n",
       "      <th>std_fit_time</th>\n",
       "      <th>mean_score_time</th>\n",
       "      <th>std_score_time</th>\n",
       "      <th>param_C</th>\n",
       "      <th>param_kernel</th>\n",
       "      <th>params</th>\n",
       "      <th>split0_test_score</th>\n",
       "      <th>split1_test_score</th>\n",
       "      <th>split2_test_score</th>\n",
       "      <th>mean_test_score</th>\n",
       "      <th>std_test_score</th>\n",
       "      <th>rank_test_score</th>\n",
       "      <th>split0_train_score</th>\n",
       "      <th>split1_train_score</th>\n",
       "      <th>split2_train_score</th>\n",
       "      <th>mean_train_score</th>\n",
       "      <th>std_train_score</th>\n",
       "    </tr>\n",
       "  </thead>\n",
       "  <tbody>\n",
       "    <tr>\n",
       "      <th>0</th>\n",
       "      <td>0.01259</td>\n",
       "      <td>0.001117</td>\n",
       "      <td>0.001822</td>\n",
       "      <td>0.000252</td>\n",
       "      <td>0.5</td>\n",
       "      <td>linear</td>\n",
       "      <td>{'C': 0.5, 'kernel': 'linear'}</td>\n",
       "      <td>0.975083</td>\n",
       "      <td>0.977636</td>\n",
       "      <td>0.98688</td>\n",
       "      <td>0.979866</td>\n",
       "      <td>0.005068</td>\n",
       "      <td>1</td>\n",
       "      <td>0.98515</td>\n",
       "      <td>0.984405</td>\n",
       "      <td>0.978048</td>\n",
       "      <td>0.982534</td>\n",
       "      <td>0.003187</td>\n",
       "    </tr>\n",
       "  </tbody>\n",
       "</table>\n",
       "</div>"
      ],
      "text/plain": [
       "   mean_fit_time  std_fit_time  mean_score_time  std_score_time  param_C  \\\n",
       "0        0.01259      0.001117         0.001822        0.000252      0.5   \n",
       "\n",
       "  param_kernel                          params  split0_test_score  \\\n",
       "0       linear  {'C': 0.5, 'kernel': 'linear'}           0.975083   \n",
       "\n",
       "   split1_test_score  split2_test_score  mean_test_score  std_test_score  \\\n",
       "0           0.977636            0.98688         0.979866        0.005068   \n",
       "\n",
       "   rank_test_score  split0_train_score  split1_train_score  \\\n",
       "0                1             0.98515            0.984405   \n",
       "\n",
       "   split2_train_score  mean_train_score  std_train_score  \n",
       "0            0.978048          0.982534         0.003187  "
      ]
     },
     "execution_count": 22,
     "metadata": {},
     "output_type": "execute_result"
    }
   ],
   "source": [
    "# results of grid search CV\n",
    "cv_results = pd.DataFrame(grid_svm.cv_results_)\n",
    "cv_results"
   ]
  },
  {
   "cell_type": "code",
   "execution_count": 23,
   "id": "d26d8963",
   "metadata": {},
   "outputs": [
    {
     "name": "stdout",
     "output_type": "stream",
     "text": [
      "Best roc_auc:- 0.9798662013744314\n",
      "SVC(C=0.5, kernel='linear', probability=True)\n"
     ]
    }
   ],
   "source": [
    "# Printing the optimal sensitivity score and hyperparameters\n",
    "print(\"Best roc_auc:-\", grid_svm.best_score_)\n",
    "print(grid_svm.best_estimator_)"
   ]
  },
  {
   "cell_type": "code",
   "execution_count": 27,
   "id": "dc6addc8",
   "metadata": {},
   "outputs": [],
   "source": [
    "undersampled_best_svm_model_v2 = grid_svm.best_estimator_\n",
    "y_train_pred = undersampled_best_svm_model_v2.predict(X_train)"
   ]
  },
  {
   "cell_type": "code",
   "execution_count": 28,
   "id": "b16e473d",
   "metadata": {},
   "outputs": [
    {
     "name": "stdout",
     "output_type": "stream",
     "text": [
      "[[379   5]\n",
      " [ 38 356]]\n"
     ]
    }
   ],
   "source": [
    "confusion = confusion_matrix(y_train, y_train_pred)\n",
    "print(confusion)\n",
    "TP = confusion[1,1] # true positive \n",
    "TN = confusion[0,0] # true negatives\n",
    "FP = confusion[0,1] # false positives\n",
    "FN = confusion[1,0] # false negatives"
   ]
  },
  {
   "cell_type": "code",
   "execution_count": 29,
   "id": "98eaae96",
   "metadata": {},
   "outputs": [
    {
     "name": "stdout",
     "output_type": "stream",
     "text": [
      "Sensitivity(Recall): 0.9035532994923858\n",
      "Percision: 0.9861495844875346\n",
      "F1-Score: 0.9430463576158941\n",
      "Accuracy: 0.9447300771208226\n",
      "Specificity: 0.9869791666666666\n",
      "              precision    recall  f1-score   support\n",
      "\n",
      "           0       0.91      0.99      0.95       384\n",
      "           1       0.99      0.90      0.94       394\n",
      "\n",
      "    accuracy                           0.94       778\n",
      "   macro avg       0.95      0.95      0.94       778\n",
      "weighted avg       0.95      0.94      0.94       778\n",
      "\n"
     ]
    }
   ],
   "source": [
    "# Sensitivity\n",
    "print(\"Sensitivity(Recall):\", recall_score(y_train, y_train_pred))\n",
    "\n",
    "# Percision\n",
    "print(\"Percision:\", precision_score(y_train, y_train_pred))\n",
    "\n",
    "# F1 score\n",
    "print(\"F1-Score:\", f1_score(y_train, y_train_pred))\n",
    "\n",
    "# Accuracy\n",
    "print(\"Accuracy:\", accuracy_score(y_train, y_train_pred))\n",
    "\n",
    "# Specificity\n",
    "print(\"Specificity:\", TN / float(TN+FP))\n",
    "\n",
    "# classification_report\n",
    "print(classification_report(y_train, y_train_pred))"
   ]
  },
  {
   "cell_type": "code",
   "execution_count": 31,
   "id": "fb9c31da",
   "metadata": {},
   "outputs": [
    {
     "data": {
      "image/png": "[encoded data removed]",
      "text/plain": [
       "<Figure size 500x500 with 1 Axes>"
      ]
     },
     "metadata": {},
     "output_type": "display_data"
    }
   ],
   "source": [
    "# Predicted probability\n",
    "y_train_pred_proba = undersampled_best_svm_model_v2.predict_proba(X_train)[:,1]\n",
    "# Plot the ROC curve\n",
    "draw_roc(y_train, y_train_pred_proba)"
   ]
  },
  {
   "cell_type": "code",
   "execution_count": 32,
   "id": "56f9831e",
   "metadata": {},
   "outputs": [
    {
     "name": "stdout",
     "output_type": "stream",
     "text": [
      "SVM Cross Validation Score: 94.73071973071973%\n"
     ]
    }
   ],
   "source": [
    "svm_score = cross_val_score(undersampled_best_svm_model_v2, X_train, y_train, cv=N_SPLITS)\n",
    "print(f'SVM Cross Validation Score: {svm_score.mean() * 100}%')"
   ]
  },
  {
   "cell_type": "markdown",
   "id": "91a35eac",
   "metadata": {},
   "source": [
    "# Apply on the over-sampled data"
   ]
  },
  {
   "cell_type": "code",
   "execution_count": null,
   "id": "38a035f5",
   "metadata": {},
   "outputs": [],
   "source": [
    "X_train = oversampled_train_df.drop('Class', axis=1).values\n",
    "y_train = oversampled_train_df['Class'].values\n",
    "\n",
    "# Define SVM hyperparameter grid\n",
    "svm_params = {\n",
    "    'C': [0.5],\n",
    "    'kernel': ['linear']\n",
    "}\n",
    "\n",
    "# Set up GridSearchCV with SVM\n",
    "grid_svm = GridSearchCV(\n",
    "    estimator=SVC(probability=True),  # enable probability for roc_auc\n",
    "    param_grid=svm_params,\n",
    "    scoring='roc_auc',\n",
    "    cv=N_SPLITS,\n",
    "    verbose=1,\n",
    "    return_train_score=True\n",
    ")\n",
    "\n",
    "# Fit the model\n",
    "grid_svm.fit(X_train, y_train)\n",
    "\n",
    "# Get the best model\n",
    "svm_model = grid_svm.best_estimator_\n",
    "\n",
    "print(\"Best Estimator: \", svm_model)"
   ]
  },
  {
   "cell_type": "code",
   "execution_count": null,
   "id": "7ac4e6ad",
   "metadata": {},
   "outputs": [],
   "source": [
    "# results of grid search CV\n",
    "cv_results = pd.DataFrame(grid_svm.cv_results_)\n",
    "cv_results"
   ]
  },
  {
   "cell_type": "code",
   "execution_count": null,
   "id": "b7eddbdb",
   "metadata": {},
   "outputs": [],
   "source": [
    "# Printing the optimal sensitivity score and hyperparameters\n",
    "print(\"Best roc_auc:-\", grid_svm.best_score_)\n",
    "print(grid_svm.best_estimator_)"
   ]
  },
  {
   "cell_type": "code",
   "execution_count": null,
   "id": "c348f2d7",
   "metadata": {},
   "outputs": [],
   "source": [
    "# Best score with best parameters\n",
    "best_score = grid_svm.best_score_\n",
    "best_params = grid_svm.best_params_\n",
    "\n",
    "print(\"The highest test roc_auc is {0} with parameters {1}\".format(best_score, best_params))"
   ]
  },
  {
   "cell_type": "code",
   "execution_count": null,
   "id": "3f575b7f",
   "metadata": {},
   "outputs": [],
   "source": [
    "svm = SVC(**best_params)\n",
    "oversampled_best_svm_model = svm.fit(X_train, y_train)\n",
    "y_train_pred = oversampled_best_svm_model.predict(X_train)"
   ]
  },
  {
   "cell_type": "code",
   "execution_count": null,
   "id": "a09edd22",
   "metadata": {},
   "outputs": [],
   "source": [
    "confusion = confusion_matrix(y_train, y_train_pred)\n",
    "print(confusion)\n",
    "TP = confusion[1,1] # true positive \n",
    "TN = confusion[0,0] # true negatives\n",
    "FP = confusion[0,1] # false positives\n",
    "FN = confusion[1,0] # false negatives"
   ]
  },
  {
   "cell_type": "code",
   "execution_count": null,
   "id": "b50b0cff",
   "metadata": {},
   "outputs": [],
   "source": [
    "# Sensitivity\n",
    "print(\"Sensitivity(Recall):\", recall_score(y_train, y_train_pred))\n",
    "\n",
    "# Percision\n",
    "print(\"Percision:\", precision_score(y_train, y_train_pred))\n",
    "\n",
    "# F1 score\n",
    "print(\"F1-Score:\", f1_score(y_train, y_train_pred))\n",
    "\n",
    "# Accuracy\n",
    "print(\"Accuracy:\", accuracy_score(y_train, y_train_pred))\n",
    "\n",
    "# Specificity\n",
    "print(\"Specificity:\", TN / float(TN+FP))\n",
    "\n",
    "# classification_report\n",
    "print(classification_report(y_train, y_train_pred))"
   ]
  },
  {
   "cell_type": "code",
   "execution_count": null,
   "id": "58bcabd9",
   "metadata": {},
   "outputs": [],
   "source": [
    "# Predicted probability\n",
    "y_train_pred_proba = oversampled_best_svm_model.predict_proba(X_train)[:,1]\n",
    "# Plot the ROC curve\n",
    "draw_roc(y_train, y_train_pred_proba)"
   ]
  },
  {
   "cell_type": "code",
   "execution_count": null,
   "id": "6f9a24b3",
   "metadata": {},
   "outputs": [],
   "source": [
    "svm_score = cross_val_score(oversampled_best_svm_model, X_train, y_train, cv=N_SPLITS)\n",
    "print(f'SVM Cross Validation Score: {svm_score.mean() * 100}%')"
   ]
  },
  {
   "cell_type": "markdown",
   "id": "0d5769a9",
   "metadata": {},
   "source": [
    "### Consider the most important features only (V3, V4, V7, V10, V12,V14, V16, V17, V18) on the oversampled data"
   ]
  },
  {
   "cell_type": "code",
   "execution_count": null,
   "id": "a1ebe7d0",
   "metadata": {},
   "outputs": [],
   "source": [
    "X_train = extracted_features_oversampled_train_df.drop('Class', axis=1).values\n",
    "y_train = extracted_features_oversampled_train_df['Class'].values\n",
    "\n",
    "# Define SVM hyperparameter grid\n",
    "svm_params = {\n",
    "    'C': [0.5],\n",
    "    'kernel': ['linear']\n",
    "}\n",
    "\n",
    "# Set up GridSearchCV with SVM\n",
    "grid_svm = GridSearchCV(\n",
    "    estimator=SVC(probability=True),  # enable probability for roc_auc\n",
    "    param_grid=svm_params,\n",
    "    scoring='roc_auc',\n",
    "    cv=N_SPLITS,\n",
    "    verbose=1,\n",
    "    return_train_score=True\n",
    ")\n",
    "\n",
    "# Fit the model\n",
    "grid_svm.fit(X_train, y_train)\n",
    "\n",
    "# Get the best model\n",
    "svm_model = grid_svm.best_estimator_\n",
    "\n",
    "print(\"Best Estimator: \", svm_model)"
   ]
  },
  {
   "cell_type": "code",
   "execution_count": null,
   "id": "9073e664",
   "metadata": {},
   "outputs": [],
   "source": [
    "# results of grid search CV\n",
    "cv_results = pd.DataFrame(grid_svm.cv_results_)\n",
    "cv_results"
   ]
  },
  {
   "cell_type": "code",
   "execution_count": null,
   "id": "597881a0",
   "metadata": {},
   "outputs": [],
   "source": [
    "# Printing the optimal sensitivity score and hyperparameters\n",
    "print(\"Best roc_auc:-\", grid_svm.best_score_)\n",
    "print(grid_svm.best_estimator_)"
   ]
  },
  {
   "cell_type": "code",
   "execution_count": null,
   "id": "0e20ac13",
   "metadata": {},
   "outputs": [],
   "source": [
    "svm = SVC(**best_params)\n",
    "oversampled_best_svm_model_v2 = svm.fit(X_train, y_train)\n",
    "y_train_pred = oversampled_best_svm_model_v2.predict(X_train)"
   ]
  },
  {
   "cell_type": "code",
   "execution_count": null,
   "id": "92003aec",
   "metadata": {},
   "outputs": [],
   "source": [
    "confusion = confusion_matrix(y_train, y_train_pred)\n",
    "print(confusion)\n",
    "TP = confusion[1,1] # true positive \n",
    "TN = confusion[0,0] # true negatives\n",
    "FP = confusion[0,1] # false positives\n",
    "FN = confusion[1,0] # false negatives"
   ]
  },
  {
   "cell_type": "code",
   "execution_count": null,
   "id": "62301b63",
   "metadata": {},
   "outputs": [],
   "source": [
    "# Sensitivity\n",
    "print(\"Sensitivity(Recall):\", recall_score(y_train, y_train_pred))\n",
    "\n",
    "# Percision\n",
    "print(\"Percision:\", precision_score(y_train, y_train_pred))\n",
    "\n",
    "# F1 score\n",
    "print(\"F1-Score:\", f1_score(y_train, y_train_pred))\n",
    "\n",
    "# Accuracy\n",
    "print(\"Accuracy:\", accuracy_score(y_train, y_train_pred))\n",
    "\n",
    "# Specificity\n",
    "print(\"Specificity:\", TN / float(TN+FP))\n",
    "\n",
    "# classification_report\n",
    "print(classification_report(y_train, y_train_pred))"
   ]
  },
  {
   "cell_type": "code",
   "execution_count": null,
   "id": "f5a30f5a",
   "metadata": {},
   "outputs": [],
   "source": [
    "# Predicted probability\n",
    "y_train_pred_proba = oversampled_best_svm_model_v2.predict_proba(X_train)[:,1]\n",
    "# Plot the ROC curve\n",
    "draw_roc(y_train, y_train_pred_proba)"
   ]
  },
  {
   "cell_type": "code",
   "execution_count": null,
   "id": "e154bce0",
   "metadata": {},
   "outputs": [],
   "source": [
    "svm_score = cross_val_score(oversampled_best_svm_model_v2, X_train, y_train, cv=N_SPLITS)\n",
    "print(f'SVM Cross Validation Score: {svm_score.mean() * 100}%')"
   ]
  }
 ],
 "metadata": {
  "kernelspec": {
   "display_name": "base",
   "language": "python",
   "name": "python3"
  },
  "language_info": {
   "codemirror_mode": {
    "name": "ipython",
    "version": 3
   },
   "file_extension": ".py",
   "mimetype": "text/x-python",
   "name": "python",
   "nbconvert_exporter": "python",
   "pygments_lexer": "ipython3",
   "version": "3.12.7"
  }
 },
 "nbformat": 4,
 "nbformat_minor": 5
}
