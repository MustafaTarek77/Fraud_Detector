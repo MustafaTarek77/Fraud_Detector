{
 "cells": [
  {
   "cell_type": "code",
   "execution_count": 1,
   "id": "deec3d2d",
   "metadata": {},
   "outputs": [],
   "source": [
    "import os\n",
    "import pandas as pd\n",
    "import matplotlib.pyplot as plt\n",
    "from sklearn.neighbors import KNeighborsClassifier\n",
    "from sklearn.model_selection import GridSearchCV, cross_val_score\n",
    "from sklearn.metrics import accuracy_score, precision_score, recall_score, f1_score, confusion_matrix, classification_report, roc_auc_score, roc_curve\n",
    "from sklearn.model_selection import cross_validate\n",
    "from sklearn.metrics import precision_score, recall_score, f1_score, roc_auc_score"
   ]
  },
  {
   "cell_type": "code",
   "execution_count": 2,
   "id": "00447fb3",
   "metadata": {},
   "outputs": [],
   "source": [
    "# Read each CSV file\n",
    "train_df = pd.read_csv(os.path.join('../Data', \"train_data.csv\"))\n",
    "undersampled_train_df = pd.read_csv(os.path.join('../Data', \"undersampled_train_data.csv\"))\n",
    "oversampled_train_df = pd.read_csv(os.path.join('../Data', \"oversampled_train_data.csv\"))\n",
    "extracted_features_train_df = pd.read_csv(os.path.join('../Data', \"extracted_features_train_data.csv\"))\n",
    "extracted_features_undersampled_train_df = pd.read_csv(os.path.join('../Data', \"extracted_features_undersampled_train_data.csv\"))\n",
    "extracted_features_oversampled_train_df = pd.read_csv(os.path.join('../Data', \"extracted_features_oversampled_train_data.csv\"))\n",
    "test_df = pd.read_csv(os.path.join('../Data', \"test_data.csv\"))"
   ]
  },
  {
   "cell_type": "code",
   "execution_count": 3,
   "id": "5eda9378",
   "metadata": {},
   "outputs": [],
   "source": [
    "N_SPLITS = 3"
   ]
  },
  {
   "cell_type": "markdown",
   "id": "c86830b9",
   "metadata": {},
   "source": [
    "# Apply on the original data"
   ]
  },
  {
   "cell_type": "code",
   "execution_count": 4,
   "id": "a78a895b",
   "metadata": {},
   "outputs": [
    {
     "name": "stdout",
     "output_type": "stream",
     "text": [
      "Fitting 3 folds for each of 3 candidates, totalling 9 fits\n",
      "Best Estimator:  KNeighborsClassifier(n_neighbors=9, weights='distance')\n"
     ]
    }
   ],
   "source": [
    "X_train = train_df.drop('Class', axis=1).values\n",
    "y_train = train_df['Class'].values\n",
    "\n",
    "# Define KNN hyperparameters to search\n",
    "knn_params = {\n",
    "    'n_neighbors': [5, 7, 9],\n",
    "    'weights': ['distance'],\n",
    "}\n",
    "\n",
    "# Set up GridSearchCV with KNN\n",
    "grid_knn = GridSearchCV(\n",
    "    estimator=KNeighborsClassifier(),\n",
    "    param_grid=knn_params,\n",
    "    scoring='roc_auc',\n",
    "    cv=N_SPLITS,\n",
    "    verbose=1,\n",
    "    return_train_score=True\n",
    ")\n",
    "\n",
    "# Train KNN with cross-validation\n",
    "grid_knn.fit(X_train, y_train)\n",
    "\n",
    "# Best KNN model from the grid search\n",
    "knn_model = grid_knn.best_estimator_\n",
    "\n",
    "print(\"Best Estimator: \", knn_model)"
   ]
  },
  {
   "cell_type": "code",
   "execution_count": 5,
   "id": "44d4b510",
   "metadata": {},
   "outputs": [
    {
     "data": {
      "text/html": [
       "<div>\n",
       "<style scoped>\n",
       "    .dataframe tbody tr th:only-of-type {\n",
       "        vertical-align: middle;\n",
       "    }\n",
       "\n",
       "    .dataframe tbody tr th {\n",
       "        vertical-align: top;\n",
       "    }\n",
       "\n",
       "    .dataframe thead th {\n",
       "        text-align: right;\n",
       "    }\n",
       "</style>\n",
       "<table border=\"1\" class=\"dataframe\">\n",
       "  <thead>\n",
       "    <tr style=\"text-align: right;\">\n",
       "      <th></th>\n",
       "      <th>mean_fit_time</th>\n",
       "      <th>std_fit_time</th>\n",
       "      <th>mean_score_time</th>\n",
       "      <th>std_score_time</th>\n",
       "      <th>param_n_neighbors</th>\n",
       "      <th>param_weights</th>\n",
       "      <th>params</th>\n",
       "      <th>split0_test_score</th>\n",
       "      <th>split1_test_score</th>\n",
       "      <th>split2_test_score</th>\n",
       "      <th>mean_test_score</th>\n",
       "      <th>std_test_score</th>\n",
       "      <th>rank_test_score</th>\n",
       "      <th>split0_train_score</th>\n",
       "      <th>split1_train_score</th>\n",
       "      <th>split2_train_score</th>\n",
       "      <th>mean_train_score</th>\n",
       "      <th>std_train_score</th>\n",
       "    </tr>\n",
       "  </thead>\n",
       "  <tbody>\n",
       "    <tr>\n",
       "      <th>0</th>\n",
       "      <td>0.026356</td>\n",
       "      <td>0.003267</td>\n",
       "      <td>7.996644</td>\n",
       "      <td>1.054228</td>\n",
       "      <td>5</td>\n",
       "      <td>distance</td>\n",
       "      <td>{'n_neighbors': 5, 'weights': 'distance'}</td>\n",
       "      <td>0.908937</td>\n",
       "      <td>0.908237</td>\n",
       "      <td>0.931203</td>\n",
       "      <td>0.916126</td>\n",
       "      <td>0.010665</td>\n",
       "      <td>3</td>\n",
       "      <td>1.0</td>\n",
       "      <td>1.0</td>\n",
       "      <td>1.0</td>\n",
       "      <td>1.0</td>\n",
       "      <td>0.0</td>\n",
       "    </tr>\n",
       "    <tr>\n",
       "      <th>1</th>\n",
       "      <td>0.024673</td>\n",
       "      <td>0.000736</td>\n",
       "      <td>7.908990</td>\n",
       "      <td>1.130244</td>\n",
       "      <td>7</td>\n",
       "      <td>distance</td>\n",
       "      <td>{'n_neighbors': 7, 'weights': 'distance'}</td>\n",
       "      <td>0.916483</td>\n",
       "      <td>0.908203</td>\n",
       "      <td>0.934988</td>\n",
       "      <td>0.919891</td>\n",
       "      <td>0.011198</td>\n",
       "      <td>2</td>\n",
       "      <td>1.0</td>\n",
       "      <td>1.0</td>\n",
       "      <td>1.0</td>\n",
       "      <td>1.0</td>\n",
       "      <td>0.0</td>\n",
       "    </tr>\n",
       "    <tr>\n",
       "      <th>2</th>\n",
       "      <td>0.025082</td>\n",
       "      <td>0.001031</td>\n",
       "      <td>7.064389</td>\n",
       "      <td>0.071691</td>\n",
       "      <td>9</td>\n",
       "      <td>distance</td>\n",
       "      <td>{'n_neighbors': 9, 'weights': 'distance'}</td>\n",
       "      <td>0.916443</td>\n",
       "      <td>0.908172</td>\n",
       "      <td>0.938771</td>\n",
       "      <td>0.921129</td>\n",
       "      <td>0.012924</td>\n",
       "      <td>1</td>\n",
       "      <td>1.0</td>\n",
       "      <td>1.0</td>\n",
       "      <td>1.0</td>\n",
       "      <td>1.0</td>\n",
       "      <td>0.0</td>\n",
       "    </tr>\n",
       "  </tbody>\n",
       "</table>\n",
       "</div>"
      ],
      "text/plain": [
       "   mean_fit_time  std_fit_time  mean_score_time  std_score_time  \\\n",
       "0       0.026356      0.003267         7.996644        1.054228   \n",
       "1       0.024673      0.000736         7.908990        1.130244   \n",
       "2       0.025082      0.001031         7.064389        0.071691   \n",
       "\n",
       "  param_n_neighbors param_weights                                     params  \\\n",
       "0                 5      distance  {'n_neighbors': 5, 'weights': 'distance'}   \n",
       "1                 7      distance  {'n_neighbors': 7, 'weights': 'distance'}   \n",
       "2                 9      distance  {'n_neighbors': 9, 'weights': 'distance'}   \n",
       "\n",
       "   split0_test_score  split1_test_score  split2_test_score  mean_test_score  \\\n",
       "0           0.908937           0.908237           0.931203         0.916126   \n",
       "1           0.916483           0.908203           0.934988         0.919891   \n",
       "2           0.916443           0.908172           0.938771         0.921129   \n",
       "\n",
       "   std_test_score  rank_test_score  split0_train_score  split1_train_score  \\\n",
       "0        0.010665                3                 1.0                 1.0   \n",
       "1        0.011198                2                 1.0                 1.0   \n",
       "2        0.012924                1                 1.0                 1.0   \n",
       "\n",
       "   split2_train_score  mean_train_score  std_train_score  \n",
       "0                 1.0               1.0              0.0  \n",
       "1                 1.0               1.0              0.0  \n",
       "2                 1.0               1.0              0.0  "
      ]
     },
     "execution_count": 5,
     "metadata": {},
     "output_type": "execute_result"
    }
   ],
   "source": [
    "# results of grid search CV\n",
    "cv_results = pd.DataFrame(grid_knn.cv_results_)\n",
    "cv_results"
   ]
  },
  {
   "cell_type": "code",
   "execution_count": 6,
   "id": "07ff7a02",
   "metadata": {},
   "outputs": [
    {
     "name": "stdout",
     "output_type": "stream",
     "text": [
      "Best roc_auc:- 0.9211287221011218\n",
      "KNeighborsClassifier(n_neighbors=9, weights='distance')\n"
     ]
    }
   ],
   "source": [
    "# Printing the optimal sensitivity score and hyperparameters\n",
    "print(\"Best roc_auc:-\", grid_knn.best_score_)\n",
    "print(grid_knn.best_estimator_)"
   ]
  },
  {
   "cell_type": "code",
   "execution_count": 7,
   "id": "a3cf4fb4",
   "metadata": {},
   "outputs": [
    {
     "name": "stdout",
     "output_type": "stream",
     "text": [
      "The highest test roc_auc is 0.9211287221011218 with parameters {'n_neighbors': 9, 'weights': 'distance'}\n"
     ]
    }
   ],
   "source": [
    "# Best score with best params\n",
    "best_score = grid_knn.best_score_\n",
    "best_params = grid_knn.best_params_\n",
    "\n",
    "print(\"The highest test roc_auc is {0} with parameters {1}\".format(best_score, best_params))"
   ]
  },
  {
   "cell_type": "code",
   "execution_count": 8,
   "id": "1aaeee37",
   "metadata": {},
   "outputs": [],
   "source": [
    "knn = KNeighborsClassifier(**best_params)\n",
    "original_best_knn_model = knn.fit(X_train, y_train)\n",
    "y_train_pred = original_best_knn_model.predict(X_train)"
   ]
  },
  {
   "cell_type": "code",
   "execution_count": 9,
   "id": "f34161f8",
   "metadata": {},
   "outputs": [
    {
     "name": "stdout",
     "output_type": "stream",
     "text": [
      "[[227451      0]\n",
      " [     0    394]]\n"
     ]
    }
   ],
   "source": [
    "confusion = confusion_matrix(y_train, y_train_pred)\n",
    "print(confusion)\n",
    "TP = confusion[1,1] # true positive \n",
    "TN = confusion[0,0] # true negatives\n",
    "FP = confusion[0,1] # false positives\n",
    "FN = confusion[1,0] # false negatives"
   ]
  },
  {
   "cell_type": "code",
   "execution_count": 10,
   "id": "f9b997ba",
   "metadata": {},
   "outputs": [
    {
     "name": "stdout",
     "output_type": "stream",
     "text": [
      "Sensitivity(Recall): 1.0\n",
      "Percision: 1.0\n",
      "F1-Score: 1.0\n",
      "Accuracy: 1.0\n",
      "Specificity: 1.0\n",
      "              precision    recall  f1-score   support\n",
      "\n",
      "           0       1.00      1.00      1.00    227451\n",
      "           1       1.00      1.00      1.00       394\n",
      "\n",
      "    accuracy                           1.00    227845\n",
      "   macro avg       1.00      1.00      1.00    227845\n",
      "weighted avg       1.00      1.00      1.00    227845\n",
      "\n"
     ]
    }
   ],
   "source": [
    "# Sensitivity\n",
    "print(\"Sensitivity(Recall):\", recall_score(y_train, y_train_pred))\n",
    "\n",
    "# Percision\n",
    "print(\"Percision:\", precision_score(y_train, y_train_pred))\n",
    "\n",
    "# F1 score\n",
    "print(\"F1-Score:\", f1_score(y_train, y_train_pred))\n",
    "\n",
    "# Accuracy\n",
    "print(\"Accuracy:\", accuracy_score(y_train, y_train_pred))\n",
    "\n",
    "# Specificity\n",
    "print(\"Specificity:\", TN / float(TN+FP))\n",
    "\n",
    "# classification_report\n",
    "print(classification_report(y_train, y_train_pred))"
   ]
  },
  {
   "cell_type": "code",
   "execution_count": 11,
   "id": "ef4fc171",
   "metadata": {},
   "outputs": [],
   "source": [
    "# ROC Curve function\n",
    "def draw_roc( actual, probs ):\n",
    "    fpr, tpr, thresholds = roc_curve( actual, probs,\n",
    "                                              drop_intermediate = False )\n",
    "    auc_score = roc_auc_score( actual, probs )\n",
    "    plt.figure(figsize=(5, 5))\n",
    "    plt.plot( fpr, tpr, label='ROC curve (area = %0.2f)' % auc_score )\n",
    "    plt.plot([0, 1], [0, 1], 'k--')\n",
    "    plt.xlim([0.0, 1.0])\n",
    "    plt.ylim([0.0, 1.05])\n",
    "    plt.xlabel('False Positive Rate or [1 - True Negative Rate]')\n",
    "    plt.ylabel('True Positive Rate')\n",
    "    plt.title('Receiver operating characteristic example')\n",
    "    plt.legend(loc=\"lower right\")\n",
    "    plt.show()\n",
    "\n",
    "    return None"
   ]
  },
  {
   "cell_type": "code",
   "execution_count": 12,
   "id": "82fe4688",
   "metadata": {},
   "outputs": [
    {
     "data": {
      "image/png": "[encoded data removed]",
      "text/plain": [
       "<Figure size 500x500 with 1 Axes>"
      ]
     },
     "metadata": {},
     "output_type": "display_data"
    }
   ],
   "source": [
    "# Predicted probability\n",
    "y_train_pred_proba = original_best_knn_model.predict_proba(X_train)[:,1]\n",
    "# Plot the ROC curve\n",
    "draw_roc(y_train, y_train_pred_proba)"
   ]
  },
  {
   "cell_type": "code",
   "execution_count": 13,
   "id": "929aebb1",
   "metadata": {},
   "outputs": [
    {
     "name": "stdout",
     "output_type": "stream",
     "text": [
      "test_accuracy: 0.9994\n",
      "test_precision: 0.8949\n",
      "test_recall: 0.7665\n",
      "test_f1: 0.8253\n",
      "test_roc_auc: 0.9211\n"
     ]
    }
   ],
   "source": [
    "# Define scoring metrics\n",
    "scoring = {\n",
    "    'accuracy': 'accuracy',\n",
    "    'precision': 'precision',\n",
    "    'recall': 'recall',\n",
    "    'f1': 'f1',\n",
    "    'roc_auc': 'roc_auc'\n",
    "}\n",
    "\n",
    "# Perform cross-validation\n",
    "cv_results = cross_validate(original_best_knn_model, X_train, y_train, cv=N_SPLITS, scoring=scoring)\n",
    "\n",
    "# Display average of each metric\n",
    "for metric, scores in cv_results.items():\n",
    "    if \"test\" in metric:\n",
    "        print(f\"{metric}: {scores.mean():.4f}\")"
   ]
  },
  {
   "cell_type": "markdown",
   "id": "f0174c32",
   "metadata": {},
   "source": [
    "### Consider the most important features only (V3, V4, V7, V10, V12,V14, V16, V17, V18) on the original data"
   ]
  },
  {
   "cell_type": "code",
   "execution_count": 14,
   "id": "fa851c8c",
   "metadata": {},
   "outputs": [
    {
     "name": "stdout",
     "output_type": "stream",
     "text": [
      "Fitting 3 folds for each of 3 candidates, totalling 9 fits\n",
      "Best Estimator:  KNeighborsClassifier(weights='distance')\n"
     ]
    }
   ],
   "source": [
    "X_train = extracted_features_train_df.drop('Class', axis=1).values\n",
    "y_train = extracted_features_train_df['Class'].values\n",
    "\n",
    "# Define KNN hyperparameters to search\n",
    "knn_params = {\n",
    "    'n_neighbors': [5, 7, 9],\n",
    "    'weights': ['distance'],\n",
    "}\n",
    "\n",
    "# Set up GridSearchCV with KNN\n",
    "grid_knn = GridSearchCV(\n",
    "    estimator=KNeighborsClassifier(),\n",
    "    param_grid=knn_params,\n",
    "    scoring='roc_auc',\n",
    "    cv=N_SPLITS,\n",
    "    verbose=1,\n",
    "    return_train_score=True\n",
    ")\n",
    "\n",
    "# Train KNN with cross-validation\n",
    "grid_knn.fit(X_train, y_train)\n",
    "\n",
    "# Best KNN model from the grid search\n",
    "knn_model = grid_knn.best_estimator_\n",
    "\n",
    "print(\"Best Estimator: \", knn_model)"
   ]
  },
  {
   "cell_type": "code",
   "execution_count": 15,
   "id": "2030c219",
   "metadata": {},
   "outputs": [
    {
     "data": {
      "text/html": [
       "<div>\n",
       "<style scoped>\n",
       "    .dataframe tbody tr th:only-of-type {\n",
       "        vertical-align: middle;\n",
       "    }\n",
       "\n",
       "    .dataframe tbody tr th {\n",
       "        vertical-align: top;\n",
       "    }\n",
       "\n",
       "    .dataframe thead th {\n",
       "        text-align: right;\n",
       "    }\n",
       "</style>\n",
       "<table border=\"1\" class=\"dataframe\">\n",
       "  <thead>\n",
       "    <tr style=\"text-align: right;\">\n",
       "      <th></th>\n",
       "      <th>mean_fit_time</th>\n",
       "      <th>std_fit_time</th>\n",
       "      <th>mean_score_time</th>\n",
       "      <th>std_score_time</th>\n",
       "      <th>param_n_neighbors</th>\n",
       "      <th>param_weights</th>\n",
       "      <th>params</th>\n",
       "      <th>split0_test_score</th>\n",
       "      <th>split1_test_score</th>\n",
       "      <th>split2_test_score</th>\n",
       "      <th>mean_test_score</th>\n",
       "      <th>std_test_score</th>\n",
       "      <th>rank_test_score</th>\n",
       "      <th>split0_train_score</th>\n",
       "      <th>split1_train_score</th>\n",
       "      <th>split2_train_score</th>\n",
       "      <th>mean_train_score</th>\n",
       "      <th>std_train_score</th>\n",
       "    </tr>\n",
       "  </thead>\n",
       "  <tbody>\n",
       "    <tr>\n",
       "      <th>0</th>\n",
       "      <td>0.295340</td>\n",
       "      <td>0.006488</td>\n",
       "      <td>9.439356</td>\n",
       "      <td>0.221657</td>\n",
       "      <td>5</td>\n",
       "      <td>distance</td>\n",
       "      <td>{'n_neighbors': 5, 'weights': 'distance'}</td>\n",
       "      <td>0.919738</td>\n",
       "      <td>0.920359</td>\n",
       "      <td>0.935011</td>\n",
       "      <td>0.925036</td>\n",
       "      <td>0.007058</td>\n",
       "      <td>1</td>\n",
       "      <td>1.0</td>\n",
       "      <td>1.0</td>\n",
       "      <td>1.0</td>\n",
       "      <td>1.0</td>\n",
       "      <td>0.0</td>\n",
       "    </tr>\n",
       "    <tr>\n",
       "      <th>1</th>\n",
       "      <td>0.272798</td>\n",
       "      <td>0.006561</td>\n",
       "      <td>10.537440</td>\n",
       "      <td>0.221380</td>\n",
       "      <td>7</td>\n",
       "      <td>distance</td>\n",
       "      <td>{'n_neighbors': 7, 'weights': 'distance'}</td>\n",
       "      <td>0.919706</td>\n",
       "      <td>0.920330</td>\n",
       "      <td>0.934998</td>\n",
       "      <td>0.925011</td>\n",
       "      <td>0.007066</td>\n",
       "      <td>2</td>\n",
       "      <td>1.0</td>\n",
       "      <td>1.0</td>\n",
       "      <td>1.0</td>\n",
       "      <td>1.0</td>\n",
       "      <td>0.0</td>\n",
       "    </tr>\n",
       "    <tr>\n",
       "      <th>2</th>\n",
       "      <td>0.284194</td>\n",
       "      <td>0.016437</td>\n",
       "      <td>12.593361</td>\n",
       "      <td>0.539072</td>\n",
       "      <td>9</td>\n",
       "      <td>distance</td>\n",
       "      <td>{'n_neighbors': 9, 'weights': 'distance'}</td>\n",
       "      <td>0.919673</td>\n",
       "      <td>0.920302</td>\n",
       "      <td>0.934968</td>\n",
       "      <td>0.924981</td>\n",
       "      <td>0.007066</td>\n",
       "      <td>3</td>\n",
       "      <td>1.0</td>\n",
       "      <td>1.0</td>\n",
       "      <td>1.0</td>\n",
       "      <td>1.0</td>\n",
       "      <td>0.0</td>\n",
       "    </tr>\n",
       "  </tbody>\n",
       "</table>\n",
       "</div>"
      ],
      "text/plain": [
       "   mean_fit_time  std_fit_time  mean_score_time  std_score_time  \\\n",
       "0       0.295340      0.006488         9.439356        0.221657   \n",
       "1       0.272798      0.006561        10.537440        0.221380   \n",
       "2       0.284194      0.016437        12.593361        0.539072   \n",
       "\n",
       "  param_n_neighbors param_weights                                     params  \\\n",
       "0                 5      distance  {'n_neighbors': 5, 'weights': 'distance'}   \n",
       "1                 7      distance  {'n_neighbors': 7, 'weights': 'distance'}   \n",
       "2                 9      distance  {'n_neighbors': 9, 'weights': 'distance'}   \n",
       "\n",
       "   split0_test_score  split1_test_score  split2_test_score  mean_test_score  \\\n",
       "0           0.919738           0.920359           0.935011         0.925036   \n",
       "1           0.919706           0.920330           0.934998         0.925011   \n",
       "2           0.919673           0.920302           0.934968         0.924981   \n",
       "\n",
       "   std_test_score  rank_test_score  split0_train_score  split1_train_score  \\\n",
       "0        0.007058                1                 1.0                 1.0   \n",
       "1        0.007066                2                 1.0                 1.0   \n",
       "2        0.007066                3                 1.0                 1.0   \n",
       "\n",
       "   split2_train_score  mean_train_score  std_train_score  \n",
       "0                 1.0               1.0              0.0  \n",
       "1                 1.0               1.0              0.0  \n",
       "2                 1.0               1.0              0.0  "
      ]
     },
     "execution_count": 15,
     "metadata": {},
     "output_type": "execute_result"
    }
   ],
   "source": [
    "# results of grid search CV\n",
    "cv_results = pd.DataFrame(grid_knn.cv_results_)\n",
    "cv_results"
   ]
  },
  {
   "cell_type": "code",
   "execution_count": 16,
   "id": "67b4d870",
   "metadata": {},
   "outputs": [
    {
     "name": "stdout",
     "output_type": "stream",
     "text": [
      "Best roc_auc:- 0.9250361141651745\n",
      "KNeighborsClassifier(weights='distance')\n"
     ]
    }
   ],
   "source": [
    "# Printing the optimal sensitivity score and hyperparameters\n",
    "print(\"Best roc_auc:-\", grid_knn.best_score_)\n",
    "print(grid_knn.best_estimator_)"
   ]
  },
  {
   "cell_type": "code",
   "execution_count": 17,
   "id": "f2f2fb15",
   "metadata": {},
   "outputs": [
    {
     "name": "stdout",
     "output_type": "stream",
     "text": [
      "The highest test roc_auc is 0.9250361141651745 with parameters {'n_neighbors': 5, 'weights': 'distance'}\n"
     ]
    }
   ],
   "source": [
    "# Best score with best params\n",
    "best_score = grid_knn.best_score_\n",
    "best_params = grid_knn.best_params_\n",
    "\n",
    "print(\"The highest test roc_auc is {0} with parameters {1}\".format(best_score, best_params))"
   ]
  },
  {
   "cell_type": "code",
   "execution_count": 18,
   "id": "b1cd3744",
   "metadata": {},
   "outputs": [],
   "source": [
    "knn = KNeighborsClassifier(**best_params)\n",
    "original_best_knn_model_v2 = knn.fit(X_train, y_train)\n",
    "y_train_pred = original_best_knn_model_v2.predict(X_train)"
   ]
  },
  {
   "cell_type": "code",
   "execution_count": 19,
   "id": "991f5ab1",
   "metadata": {},
   "outputs": [
    {
     "name": "stdout",
     "output_type": "stream",
     "text": [
      "[[221542      0]\n",
      " [     0    394]]\n"
     ]
    }
   ],
   "source": [
    "confusion = confusion_matrix(y_train, y_train_pred)\n",
    "print(confusion)\n",
    "TP = confusion[1,1] # true positive \n",
    "TN = confusion[0,0] # true negatives\n",
    "FP = confusion[0,1] # false positives\n",
    "FN = confusion[1,0] # false negatives"
   ]
  },
  {
   "cell_type": "code",
   "execution_count": 20,
   "id": "7294b363",
   "metadata": {},
   "outputs": [
    {
     "name": "stdout",
     "output_type": "stream",
     "text": [
      "Sensitivity(Recall): 1.0\n",
      "Percision: 1.0\n",
      "F1-Score: 1.0\n",
      "Accuracy: 1.0\n",
      "Specificity: 1.0\n",
      "              precision    recall  f1-score   support\n",
      "\n",
      "           0       1.00      1.00      1.00    221542\n",
      "           1       1.00      1.00      1.00       394\n",
      "\n",
      "    accuracy                           1.00    221936\n",
      "   macro avg       1.00      1.00      1.00    221936\n",
      "weighted avg       1.00      1.00      1.00    221936\n",
      "\n"
     ]
    }
   ],
   "source": [
    "# Sensitivity\n",
    "print(\"Sensitivity(Recall):\", recall_score(y_train, y_train_pred))\n",
    "\n",
    "# Percision\n",
    "print(\"Percision:\", precision_score(y_train, y_train_pred))\n",
    "\n",
    "# F1 score\n",
    "print(\"F1-Score:\", f1_score(y_train, y_train_pred))\n",
    "\n",
    "# Accuracy\n",
    "print(\"Accuracy:\", accuracy_score(y_train, y_train_pred))\n",
    "\n",
    "# Specificity\n",
    "print(\"Specificity:\", TN / float(TN+FP))\n",
    "\n",
    "# classification_report\n",
    "print(classification_report(y_train, y_train_pred))"
   ]
  },
  {
   "cell_type": "code",
   "execution_count": 21,
   "id": "0ffa93aa",
   "metadata": {},
   "outputs": [
    {
     "data": {
      "image/png": "[encoded data removed]",
      "text/plain": [
       "<Figure size 500x500 with 1 Axes>"
      ]
     },
     "metadata": {},
     "output_type": "display_data"
    }
   ],
   "source": [
    "# Predicted probability\n",
    "y_train_pred_proba = original_best_knn_model_v2.predict_proba(X_train)[:,1]\n",
    "# Plot the ROC curve\n",
    "draw_roc(y_train, y_train_pred_proba)"
   ]
  },
  {
   "cell_type": "code",
   "execution_count": 22,
   "id": "f8522d58",
   "metadata": {},
   "outputs": [
    {
     "name": "stdout",
     "output_type": "stream",
     "text": [
      "test_accuracy: 0.9996\n",
      "test_precision: 0.9529\n",
      "test_recall: 0.8148\n",
      "test_f1: 0.8781\n",
      "test_roc_auc: 0.9250\n"
     ]
    }
   ],
   "source": [
    "# Define scoring metrics\n",
    "scoring = {\n",
    "    'accuracy': 'accuracy',\n",
    "    'precision': 'precision',\n",
    "    'recall': 'recall',\n",
    "    'f1': 'f1',\n",
    "    'roc_auc': 'roc_auc'\n",
    "}\n",
    "\n",
    "# Perform cross-validation\n",
    "cv_results = cross_validate(original_best_knn_model_v2, X_train, y_train, cv=N_SPLITS, scoring=scoring)\n",
    "\n",
    "# Display average of each metric\n",
    "for metric, scores in cv_results.items():\n",
    "    if \"test\" in metric:\n",
    "        print(f\"{metric}: {scores.mean():.4f}\")"
   ]
  },
  {
   "cell_type": "markdown",
   "id": "6fbc1c66",
   "metadata": {},
   "source": [
    "# Apply on the under-sampled data"
   ]
  },
  {
   "cell_type": "code",
   "execution_count": 23,
   "id": "1e0c7257",
   "metadata": {},
   "outputs": [
    {
     "name": "stdout",
     "output_type": "stream",
     "text": [
      "Fitting 3 folds for each of 3 candidates, totalling 9 fits\n",
      "Best Estimator:  KNeighborsClassifier(n_neighbors=9, weights='distance')\n"
     ]
    }
   ],
   "source": [
    "X_train = undersampled_train_df.drop('Class', axis=1).values\n",
    "y_train = undersampled_train_df['Class'].values\n",
    "\n",
    "# Define KNN hyperparameters to search\n",
    "knn_params = {\n",
    "    'n_neighbors': [5, 7, 9],\n",
    "    'weights': ['distance'],\n",
    "}\n",
    "\n",
    "# Set up GridSearchCV with KNN\n",
    "grid_knn = GridSearchCV(\n",
    "    estimator=KNeighborsClassifier(),\n",
    "    param_grid=knn_params,\n",
    "    scoring='roc_auc',\n",
    "    cv=N_SPLITS,\n",
    "    verbose=1,\n",
    "    return_train_score=True\n",
    ")\n",
    "\n",
    "# Train KNN with cross-validation\n",
    "grid_knn.fit(X_train, y_train)\n",
    "\n",
    "# Best KNN model from the grid search\n",
    "knn_model = grid_knn.best_estimator_\n",
    "\n",
    "print(\"Best Estimator: \", knn_model)"
   ]
  },
  {
   "cell_type": "code",
   "execution_count": 24,
   "id": "8deedd64",
   "metadata": {},
   "outputs": [
    {
     "data": {
      "text/html": [
       "<div>\n",
       "<style scoped>\n",
       "    .dataframe tbody tr th:only-of-type {\n",
       "        vertical-align: middle;\n",
       "    }\n",
       "\n",
       "    .dataframe tbody tr th {\n",
       "        vertical-align: top;\n",
       "    }\n",
       "\n",
       "    .dataframe thead th {\n",
       "        text-align: right;\n",
       "    }\n",
       "</style>\n",
       "<table border=\"1\" class=\"dataframe\">\n",
       "  <thead>\n",
       "    <tr style=\"text-align: right;\">\n",
       "      <th></th>\n",
       "      <th>mean_fit_time</th>\n",
       "      <th>std_fit_time</th>\n",
       "      <th>mean_score_time</th>\n",
       "      <th>std_score_time</th>\n",
       "      <th>param_n_neighbors</th>\n",
       "      <th>param_weights</th>\n",
       "      <th>params</th>\n",
       "      <th>split0_test_score</th>\n",
       "      <th>split1_test_score</th>\n",
       "      <th>split2_test_score</th>\n",
       "      <th>mean_test_score</th>\n",
       "      <th>std_test_score</th>\n",
       "      <th>rank_test_score</th>\n",
       "      <th>split0_train_score</th>\n",
       "      <th>split1_train_score</th>\n",
       "      <th>split2_train_score</th>\n",
       "      <th>mean_train_score</th>\n",
       "      <th>std_train_score</th>\n",
       "    </tr>\n",
       "  </thead>\n",
       "  <tbody>\n",
       "    <tr>\n",
       "      <th>0</th>\n",
       "      <td>0.000797</td>\n",
       "      <td>0.000336</td>\n",
       "      <td>0.004018</td>\n",
       "      <td>0.000160</td>\n",
       "      <td>5</td>\n",
       "      <td>distance</td>\n",
       "      <td>{'n_neighbors': 5, 'weights': 'distance'}</td>\n",
       "      <td>0.959230</td>\n",
       "      <td>0.972560</td>\n",
       "      <td>0.975176</td>\n",
       "      <td>0.968989</td>\n",
       "      <td>0.006983</td>\n",
       "      <td>3</td>\n",
       "      <td>1.0</td>\n",
       "      <td>1.0</td>\n",
       "      <td>1.0</td>\n",
       "      <td>1.0</td>\n",
       "      <td>0.0</td>\n",
       "    </tr>\n",
       "    <tr>\n",
       "      <th>1</th>\n",
       "      <td>0.000576</td>\n",
       "      <td>0.000014</td>\n",
       "      <td>0.004218</td>\n",
       "      <td>0.000211</td>\n",
       "      <td>7</td>\n",
       "      <td>distance</td>\n",
       "      <td>{'n_neighbors': 7, 'weights': 'distance'}</td>\n",
       "      <td>0.960039</td>\n",
       "      <td>0.975075</td>\n",
       "      <td>0.978702</td>\n",
       "      <td>0.971272</td>\n",
       "      <td>0.008080</td>\n",
       "      <td>2</td>\n",
       "      <td>1.0</td>\n",
       "      <td>1.0</td>\n",
       "      <td>1.0</td>\n",
       "      <td>1.0</td>\n",
       "      <td>0.0</td>\n",
       "    </tr>\n",
       "    <tr>\n",
       "      <th>2</th>\n",
       "      <td>0.000553</td>\n",
       "      <td>0.000139</td>\n",
       "      <td>0.003600</td>\n",
       "      <td>0.000320</td>\n",
       "      <td>9</td>\n",
       "      <td>distance</td>\n",
       "      <td>{'n_neighbors': 9, 'weights': 'distance'}</td>\n",
       "      <td>0.962237</td>\n",
       "      <td>0.974786</td>\n",
       "      <td>0.978061</td>\n",
       "      <td>0.971695</td>\n",
       "      <td>0.006820</td>\n",
       "      <td>1</td>\n",
       "      <td>1.0</td>\n",
       "      <td>1.0</td>\n",
       "      <td>1.0</td>\n",
       "      <td>1.0</td>\n",
       "      <td>0.0</td>\n",
       "    </tr>\n",
       "  </tbody>\n",
       "</table>\n",
       "</div>"
      ],
      "text/plain": [
       "   mean_fit_time  std_fit_time  mean_score_time  std_score_time  \\\n",
       "0       0.000797      0.000336         0.004018        0.000160   \n",
       "1       0.000576      0.000014         0.004218        0.000211   \n",
       "2       0.000553      0.000139         0.003600        0.000320   \n",
       "\n",
       "  param_n_neighbors param_weights                                     params  \\\n",
       "0                 5      distance  {'n_neighbors': 5, 'weights': 'distance'}   \n",
       "1                 7      distance  {'n_neighbors': 7, 'weights': 'distance'}   \n",
       "2                 9      distance  {'n_neighbors': 9, 'weights': 'distance'}   \n",
       "\n",
       "   split0_test_score  split1_test_score  split2_test_score  mean_test_score  \\\n",
       "0           0.959230           0.972560           0.975176         0.968989   \n",
       "1           0.960039           0.975075           0.978702         0.971272   \n",
       "2           0.962237           0.974786           0.978061         0.971695   \n",
       "\n",
       "   std_test_score  rank_test_score  split0_train_score  split1_train_score  \\\n",
       "0        0.006983                3                 1.0                 1.0   \n",
       "1        0.008080                2                 1.0                 1.0   \n",
       "2        0.006820                1                 1.0                 1.0   \n",
       "\n",
       "   split2_train_score  mean_train_score  std_train_score  \n",
       "0                 1.0               1.0              0.0  \n",
       "1                 1.0               1.0              0.0  \n",
       "2                 1.0               1.0              0.0  "
      ]
     },
     "execution_count": 24,
     "metadata": {},
     "output_type": "execute_result"
    }
   ],
   "source": [
    "# results of grid search CV\n",
    "cv_results = pd.DataFrame(grid_knn.cv_results_)\n",
    "cv_results"
   ]
  },
  {
   "cell_type": "code",
   "execution_count": 25,
   "id": "17af84ac",
   "metadata": {},
   "outputs": [
    {
     "name": "stdout",
     "output_type": "stream",
     "text": [
      "Best roc_auc:- 0.9716945399452247\n",
      "KNeighborsClassifier(n_neighbors=9, weights='distance')\n"
     ]
    }
   ],
   "source": [
    "# Printing the optimal sensitivity score and hyperparameters\n",
    "print(\"Best roc_auc:-\", grid_knn.best_score_)\n",
    "print(grid_knn.best_estimator_)"
   ]
  },
  {
   "cell_type": "code",
   "execution_count": 26,
   "id": "2cebee2b",
   "metadata": {},
   "outputs": [
    {
     "name": "stdout",
     "output_type": "stream",
     "text": [
      "The highest test roc_auc is 0.9716945399452247 with parameters {'n_neighbors': 9, 'weights': 'distance'}\n"
     ]
    }
   ],
   "source": [
    "# Best score with best C\n",
    "best_score = grid_knn.best_score_\n",
    "best_params = grid_knn.best_params_\n",
    "\n",
    "print(\"The highest test roc_auc is {0} with parameters {1}\".format(best_score, best_params))"
   ]
  },
  {
   "cell_type": "code",
   "execution_count": 27,
   "id": "49005529",
   "metadata": {},
   "outputs": [],
   "source": [
    "knn = KNeighborsClassifier(**best_params)\n",
    "undersampled_best_knn_model = knn.fit(X_train, y_train)\n",
    "y_train_pred = undersampled_best_knn_model.predict(X_train)"
   ]
  },
  {
   "cell_type": "code",
   "execution_count": 28,
   "id": "0b997dc8",
   "metadata": {},
   "outputs": [
    {
     "name": "stdout",
     "output_type": "stream",
     "text": [
      "[[394   0]\n",
      " [  0 394]]\n"
     ]
    }
   ],
   "source": [
    "confusion = confusion_matrix(y_train, y_train_pred)\n",
    "print(confusion)\n",
    "TP = confusion[1,1] # true positive \n",
    "TN = confusion[0,0] # true negatives\n",
    "FP = confusion[0,1] # false positives\n",
    "FN = confusion[1,0] # false negatives"
   ]
  },
  {
   "cell_type": "code",
   "execution_count": 29,
   "id": "f78fe3cd",
   "metadata": {},
   "outputs": [
    {
     "name": "stdout",
     "output_type": "stream",
     "text": [
      "Sensitivity(Recall): 1.0\n",
      "Percision: 1.0\n",
      "F1-Score: 1.0\n",
      "Accuracy: 1.0\n",
      "Specificity: 1.0\n",
      "              precision    recall  f1-score   support\n",
      "\n",
      "           0       1.00      1.00      1.00       394\n",
      "           1       1.00      1.00      1.00       394\n",
      "\n",
      "    accuracy                           1.00       788\n",
      "   macro avg       1.00      1.00      1.00       788\n",
      "weighted avg       1.00      1.00      1.00       788\n",
      "\n"
     ]
    }
   ],
   "source": [
    "# Sensitivity\n",
    "print(\"Sensitivity(Recall):\", recall_score(y_train, y_train_pred))\n",
    "\n",
    "# Percision\n",
    "print(\"Percision:\", precision_score(y_train, y_train_pred))\n",
    "\n",
    "# F1 score\n",
    "print(\"F1-Score:\", f1_score(y_train, y_train_pred))\n",
    "\n",
    "# Accuracy\n",
    "print(\"Accuracy:\", accuracy_score(y_train, y_train_pred))\n",
    "\n",
    "# Specificity\n",
    "print(\"Specificity:\", TN / float(TN+FP))\n",
    "\n",
    "# classification_report\n",
    "print(classification_report(y_train, y_train_pred))"
   ]
  },
  {
   "cell_type": "code",
   "execution_count": 30,
   "id": "07d14568",
   "metadata": {},
   "outputs": [
    {
     "data": {
      "image/png": "[encoded data removed]",
      "text/plain": [
       "<Figure size 500x500 with 1 Axes>"
      ]
     },
     "metadata": {},
     "output_type": "display_data"
    }
   ],
   "source": [
    "# Predicted probability\n",
    "y_train_pred_proba = undersampled_best_knn_model.predict_proba(X_train)[:,1]\n",
    "# Plot the ROC curve\n",
    "draw_roc(y_train, y_train_pred_proba)"
   ]
  },
  {
   "cell_type": "code",
   "execution_count": 31,
   "id": "01fe75ca",
   "metadata": {},
   "outputs": [
    {
     "name": "stdout",
     "output_type": "stream",
     "text": [
      "test_accuracy: 0.9366\n",
      "test_precision: 0.9943\n",
      "test_recall: 0.8782\n",
      "test_f1: 0.9326\n",
      "test_roc_auc: 0.9717\n"
     ]
    }
   ],
   "source": [
    "# Define scoring metrics\n",
    "scoring = {\n",
    "    'accuracy': 'accuracy',\n",
    "    'precision': 'precision',\n",
    "    'recall': 'recall',\n",
    "    'f1': 'f1',\n",
    "    'roc_auc': 'roc_auc'\n",
    "}\n",
    "\n",
    "# Perform cross-validation\n",
    "cv_results = cross_validate(undersampled_best_knn_model, X_train, y_train, cv=N_SPLITS, scoring=scoring)\n",
    "\n",
    "# Display average of each metric\n",
    "for metric, scores in cv_results.items():\n",
    "    if \"test\" in metric:\n",
    "        print(f\"{metric}: {scores.mean():.4f}\")"
   ]
  },
  {
   "cell_type": "markdown",
   "id": "d65689ff",
   "metadata": {},
   "source": [
    "### Consider the most important features only (V3, V4, V7, V10, V12,V14, V16, V17, V18) on the undersampled data"
   ]
  },
  {
   "cell_type": "code",
   "execution_count": 32,
   "id": "4a7f32ad",
   "metadata": {},
   "outputs": [
    {
     "name": "stdout",
     "output_type": "stream",
     "text": [
      "Fitting 3 folds for each of 3 candidates, totalling 9 fits\n",
      "Best Estimator:  KNeighborsClassifier(n_neighbors=7, weights='distance')\n"
     ]
    }
   ],
   "source": [
    "X_train = extracted_features_undersampled_train_df.drop('Class', axis=1).values\n",
    "y_train = extracted_features_undersampled_train_df['Class'].values\n",
    "\n",
    "# Define KNN hyperparameters to search\n",
    "knn_params = {\n",
    "    'n_neighbors': [5, 7, 9],\n",
    "    'weights': ['distance'],\n",
    "}\n",
    "\n",
    "# Set up GridSearchCV with KNN\n",
    "grid_knn = GridSearchCV(\n",
    "    estimator=KNeighborsClassifier(),\n",
    "    param_grid=knn_params,\n",
    "    scoring='roc_auc',\n",
    "    cv=N_SPLITS,\n",
    "    verbose=1,\n",
    "    return_train_score=True\n",
    ")\n",
    "\n",
    "# Train KNN with cross-validation\n",
    "grid_knn.fit(X_train, y_train)\n",
    "\n",
    "# Best KNN model from the grid search\n",
    "knn_model = grid_knn.best_estimator_\n",
    "\n",
    "print(\"Best Estimator: \", knn_model)"
   ]
  },
  {
   "cell_type": "code",
   "execution_count": 33,
   "id": "13795112",
   "metadata": {},
   "outputs": [
    {
     "data": {
      "text/html": [
       "<div>\n",
       "<style scoped>\n",
       "    .dataframe tbody tr th:only-of-type {\n",
       "        vertical-align: middle;\n",
       "    }\n",
       "\n",
       "    .dataframe tbody tr th {\n",
       "        vertical-align: top;\n",
       "    }\n",
       "\n",
       "    .dataframe thead th {\n",
       "        text-align: right;\n",
       "    }\n",
       "</style>\n",
       "<table border=\"1\" class=\"dataframe\">\n",
       "  <thead>\n",
       "    <tr style=\"text-align: right;\">\n",
       "      <th></th>\n",
       "      <th>mean_fit_time</th>\n",
       "      <th>std_fit_time</th>\n",
       "      <th>mean_score_time</th>\n",
       "      <th>std_score_time</th>\n",
       "      <th>param_n_neighbors</th>\n",
       "      <th>param_weights</th>\n",
       "      <th>params</th>\n",
       "      <th>split0_test_score</th>\n",
       "      <th>split1_test_score</th>\n",
       "      <th>split2_test_score</th>\n",
       "      <th>mean_test_score</th>\n",
       "      <th>std_test_score</th>\n",
       "      <th>rank_test_score</th>\n",
       "      <th>split0_train_score</th>\n",
       "      <th>split1_train_score</th>\n",
       "      <th>split2_train_score</th>\n",
       "      <th>mean_train_score</th>\n",
       "      <th>std_train_score</th>\n",
       "    </tr>\n",
       "  </thead>\n",
       "  <tbody>\n",
       "    <tr>\n",
       "      <th>0</th>\n",
       "      <td>0.000884</td>\n",
       "      <td>0.000252</td>\n",
       "      <td>0.003344</td>\n",
       "      <td>0.000377</td>\n",
       "      <td>5</td>\n",
       "      <td>distance</td>\n",
       "      <td>{'n_neighbors': 5, 'weights': 'distance'}</td>\n",
       "      <td>0.953362</td>\n",
       "      <td>0.968810</td>\n",
       "      <td>0.982914</td>\n",
       "      <td>0.968362</td>\n",
       "      <td>0.012069</td>\n",
       "      <td>3</td>\n",
       "      <td>1.0</td>\n",
       "      <td>1.0</td>\n",
       "      <td>1.0</td>\n",
       "      <td>1.0</td>\n",
       "      <td>0.0</td>\n",
       "    </tr>\n",
       "    <tr>\n",
       "      <th>1</th>\n",
       "      <td>0.000666</td>\n",
       "      <td>0.000023</td>\n",
       "      <td>0.002927</td>\n",
       "      <td>0.000277</td>\n",
       "      <td>7</td>\n",
       "      <td>distance</td>\n",
       "      <td>{'n_neighbors': 7, 'weights': 'distance'}</td>\n",
       "      <td>0.961914</td>\n",
       "      <td>0.968154</td>\n",
       "      <td>0.983391</td>\n",
       "      <td>0.971153</td>\n",
       "      <td>0.009021</td>\n",
       "      <td>1</td>\n",
       "      <td>1.0</td>\n",
       "      <td>1.0</td>\n",
       "      <td>1.0</td>\n",
       "      <td>1.0</td>\n",
       "      <td>0.0</td>\n",
       "    </tr>\n",
       "    <tr>\n",
       "      <th>2</th>\n",
       "      <td>0.000641</td>\n",
       "      <td>0.000027</td>\n",
       "      <td>0.002816</td>\n",
       "      <td>0.000080</td>\n",
       "      <td>9</td>\n",
       "      <td>distance</td>\n",
       "      <td>{'n_neighbors': 9, 'weights': 'distance'}</td>\n",
       "      <td>0.959399</td>\n",
       "      <td>0.966066</td>\n",
       "      <td>0.985538</td>\n",
       "      <td>0.970334</td>\n",
       "      <td>0.011090</td>\n",
       "      <td>2</td>\n",
       "      <td>1.0</td>\n",
       "      <td>1.0</td>\n",
       "      <td>1.0</td>\n",
       "      <td>1.0</td>\n",
       "      <td>0.0</td>\n",
       "    </tr>\n",
       "  </tbody>\n",
       "</table>\n",
       "</div>"
      ],
      "text/plain": [
       "   mean_fit_time  std_fit_time  mean_score_time  std_score_time  \\\n",
       "0       0.000884      0.000252         0.003344        0.000377   \n",
       "1       0.000666      0.000023         0.002927        0.000277   \n",
       "2       0.000641      0.000027         0.002816        0.000080   \n",
       "\n",
       "  param_n_neighbors param_weights                                     params  \\\n",
       "0                 5      distance  {'n_neighbors': 5, 'weights': 'distance'}   \n",
       "1                 7      distance  {'n_neighbors': 7, 'weights': 'distance'}   \n",
       "2                 9      distance  {'n_neighbors': 9, 'weights': 'distance'}   \n",
       "\n",
       "   split0_test_score  split1_test_score  split2_test_score  mean_test_score  \\\n",
       "0           0.953362           0.968810           0.982914         0.968362   \n",
       "1           0.961914           0.968154           0.983391         0.971153   \n",
       "2           0.959399           0.966066           0.985538         0.970334   \n",
       "\n",
       "   std_test_score  rank_test_score  split0_train_score  split1_train_score  \\\n",
       "0        0.012069                3                 1.0                 1.0   \n",
       "1        0.009021                1                 1.0                 1.0   \n",
       "2        0.011090                2                 1.0                 1.0   \n",
       "\n",
       "   split2_train_score  mean_train_score  std_train_score  \n",
       "0                 1.0               1.0              0.0  \n",
       "1                 1.0               1.0              0.0  \n",
       "2                 1.0               1.0              0.0  "
      ]
     },
     "execution_count": 33,
     "metadata": {},
     "output_type": "execute_result"
    }
   ],
   "source": [
    "# results of grid search CV\n",
    "cv_results = pd.DataFrame(grid_knn.cv_results_)\n",
    "cv_results"
   ]
  },
  {
   "cell_type": "code",
   "execution_count": 34,
   "id": "014c9136",
   "metadata": {},
   "outputs": [
    {
     "name": "stdout",
     "output_type": "stream",
     "text": [
      "Best roc_auc:- 0.9711528904262087\n",
      "KNeighborsClassifier(n_neighbors=7, weights='distance')\n"
     ]
    }
   ],
   "source": [
    "# Printing the optimal sensitivity score and hyperparameters\n",
    "print(\"Best roc_auc:-\", grid_knn.best_score_)\n",
    "print(grid_knn.best_estimator_)"
   ]
  },
  {
   "cell_type": "code",
   "execution_count": 35,
   "id": "f0aacb26",
   "metadata": {},
   "outputs": [
    {
     "name": "stdout",
     "output_type": "stream",
     "text": [
      "The highest test roc_auc is 0.9711528904262087 with parameters {'n_neighbors': 7, 'weights': 'distance'}\n"
     ]
    }
   ],
   "source": [
    "# Best score with best params\n",
    "best_score = grid_knn.best_score_\n",
    "best_params = grid_knn.best_params_\n",
    "\n",
    "print(\"The highest test roc_auc is {0} with parameters {1}\".format(best_score, best_params))"
   ]
  },
  {
   "cell_type": "code",
   "execution_count": 36,
   "id": "98012e92",
   "metadata": {},
   "outputs": [],
   "source": [
    "knn = KNeighborsClassifier(**best_params)\n",
    "undersampled_best_knn_model_v2 = knn.fit(X_train, y_train)\n",
    "y_train_pred = undersampled_best_knn_model_v2.predict(X_train)"
   ]
  },
  {
   "cell_type": "code",
   "execution_count": 37,
   "id": "ab229f0e",
   "metadata": {},
   "outputs": [
    {
     "name": "stdout",
     "output_type": "stream",
     "text": [
      "[[384   0]\n",
      " [  0 394]]\n"
     ]
    }
   ],
   "source": [
    "confusion = confusion_matrix(y_train, y_train_pred)\n",
    "print(confusion)\n",
    "TP = confusion[1,1] # true positive \n",
    "TN = confusion[0,0] # true negatives\n",
    "FP = confusion[0,1] # false positives\n",
    "FN = confusion[1,0] # false negatives"
   ]
  },
  {
   "cell_type": "code",
   "execution_count": 38,
   "id": "2eb81b75",
   "metadata": {},
   "outputs": [
    {
     "name": "stdout",
     "output_type": "stream",
     "text": [
      "Sensitivity(Recall): 1.0\n",
      "Percision: 1.0\n",
      "F1-Score: 1.0\n",
      "Accuracy: 1.0\n",
      "Specificity: 1.0\n",
      "              precision    recall  f1-score   support\n",
      "\n",
      "           0       1.00      1.00      1.00       384\n",
      "           1       1.00      1.00      1.00       394\n",
      "\n",
      "    accuracy                           1.00       778\n",
      "   macro avg       1.00      1.00      1.00       778\n",
      "weighted avg       1.00      1.00      1.00       778\n",
      "\n"
     ]
    }
   ],
   "source": [
    "# Sensitivity\n",
    "print(\"Sensitivity(Recall):\", recall_score(y_train, y_train_pred))\n",
    "\n",
    "# Percision\n",
    "print(\"Percision:\", precision_score(y_train, y_train_pred))\n",
    "\n",
    "# F1 score\n",
    "print(\"F1-Score:\", f1_score(y_train, y_train_pred))\n",
    "\n",
    "# Accuracy\n",
    "print(\"Accuracy:\", accuracy_score(y_train, y_train_pred))\n",
    "\n",
    "# Specificity\n",
    "print(\"Specificity:\", TN / float(TN+FP))\n",
    "\n",
    "# classification_report\n",
    "print(classification_report(y_train, y_train_pred))"
   ]
  },
  {
   "cell_type": "code",
   "execution_count": 39,
   "id": "6d0850e1",
   "metadata": {},
   "outputs": [
    {
     "data": {
      "image/png": "[encoded data removed]",
      "text/plain": [
       "<Figure size 500x500 with 1 Axes>"
      ]
     },
     "metadata": {},
     "output_type": "display_data"
    }
   ],
   "source": [
    "# Predicted probability\n",
    "y_train_pred_proba = undersampled_best_knn_model_v2.predict_proba(X_train)[:,1]\n",
    "# Plot the ROC curve\n",
    "draw_roc(y_train, y_train_pred_proba)"
   ]
  },
  {
   "cell_type": "code",
   "execution_count": 40,
   "id": "fade3f03",
   "metadata": {},
   "outputs": [
    {
     "name": "stdout",
     "output_type": "stream",
     "text": [
      "test_accuracy: 0.9332\n",
      "test_precision: 0.9804\n",
      "test_recall: 0.8858\n",
      "test_f1: 0.9306\n",
      "test_roc_auc: 0.9712\n"
     ]
    }
   ],
   "source": [
    "# Define scoring metrics\n",
    "scoring = {\n",
    "    'accuracy': 'accuracy',\n",
    "    'precision': 'precision',\n",
    "    'recall': 'recall',\n",
    "    'f1': 'f1',\n",
    "    'roc_auc': 'roc_auc'\n",
    "}\n",
    "\n",
    "# Perform cross-validation\n",
    "cv_results = cross_validate(undersampled_best_knn_model_v2, X_train, y_train, cv=N_SPLITS, scoring=scoring)\n",
    "\n",
    "# Display average of each metric\n",
    "for metric, scores in cv_results.items():\n",
    "    if \"test\" in metric:\n",
    "        print(f\"{metric}: {scores.mean():.4f}\")"
   ]
  },
  {
   "cell_type": "markdown",
   "id": "91a35eac",
   "metadata": {},
   "source": [
    "# Apply on the over-sampled data"
   ]
  },
  {
   "cell_type": "code",
   "execution_count": 41,
   "id": "38a035f5",
   "metadata": {},
   "outputs": [
    {
     "name": "stdout",
     "output_type": "stream",
     "text": [
      "Fitting 3 folds for each of 3 candidates, totalling 9 fits\n",
      "Best Estimator:  KNeighborsClassifier(n_neighbors=9, weights='distance')\n"
     ]
    }
   ],
   "source": [
    "X_train = oversampled_train_df.drop('Class', axis=1).values\n",
    "y_train = oversampled_train_df['Class'].values\n",
    "\n",
    "# Define KNN hyperparameters to search\n",
    "knn_params = {\n",
    "    'n_neighbors': [5, 7, 9],\n",
    "    'weights': ['distance'],\n",
    "}\n",
    "\n",
    "# Set up GridSearchCV with KNN\n",
    "grid_knn = GridSearchCV(\n",
    "    estimator=KNeighborsClassifier(),\n",
    "    param_grid=knn_params,\n",
    "    scoring='roc_auc',\n",
    "    cv=N_SPLITS,\n",
    "    verbose=1,\n",
    "    return_train_score=True\n",
    ")\n",
    "\n",
    "# Train KNN with cross-validation\n",
    "grid_knn.fit(X_train, y_train)\n",
    "\n",
    "# Best KNN model from the grid search\n",
    "knn_model = grid_knn.best_estimator_\n",
    "\n",
    "print(\"Best Estimator: \", knn_model)"
   ]
  },
  {
   "cell_type": "code",
   "execution_count": 42,
   "id": "7ac4e6ad",
   "metadata": {},
   "outputs": [
    {
     "data": {
      "text/html": [
       "<div>\n",
       "<style scoped>\n",
       "    .dataframe tbody tr th:only-of-type {\n",
       "        vertical-align: middle;\n",
       "    }\n",
       "\n",
       "    .dataframe tbody tr th {\n",
       "        vertical-align: top;\n",
       "    }\n",
       "\n",
       "    .dataframe thead th {\n",
       "        text-align: right;\n",
       "    }\n",
       "</style>\n",
       "<table border=\"1\" class=\"dataframe\">\n",
       "  <thead>\n",
       "    <tr style=\"text-align: right;\">\n",
       "      <th></th>\n",
       "      <th>mean_fit_time</th>\n",
       "      <th>std_fit_time</th>\n",
       "      <th>mean_score_time</th>\n",
       "      <th>std_score_time</th>\n",
       "      <th>param_n_neighbors</th>\n",
       "      <th>param_weights</th>\n",
       "      <th>params</th>\n",
       "      <th>split0_test_score</th>\n",
       "      <th>split1_test_score</th>\n",
       "      <th>split2_test_score</th>\n",
       "      <th>mean_test_score</th>\n",
       "      <th>std_test_score</th>\n",
       "      <th>rank_test_score</th>\n",
       "      <th>split0_train_score</th>\n",
       "      <th>split1_train_score</th>\n",
       "      <th>split2_train_score</th>\n",
       "      <th>mean_train_score</th>\n",
       "      <th>std_train_score</th>\n",
       "    </tr>\n",
       "  </thead>\n",
       "  <tbody>\n",
       "    <tr>\n",
       "      <th>0</th>\n",
       "      <td>0.050354</td>\n",
       "      <td>0.005265</td>\n",
       "      <td>26.082762</td>\n",
       "      <td>1.178806</td>\n",
       "      <td>5</td>\n",
       "      <td>distance</td>\n",
       "      <td>{'n_neighbors': 5, 'weights': 'distance'}</td>\n",
       "      <td>0.999505</td>\n",
       "      <td>0.999466</td>\n",
       "      <td>0.999585</td>\n",
       "      <td>0.999519</td>\n",
       "      <td>0.000049</td>\n",
       "      <td>3</td>\n",
       "      <td>1.0</td>\n",
       "      <td>1.0</td>\n",
       "      <td>1.0</td>\n",
       "      <td>1.0</td>\n",
       "      <td>0.0</td>\n",
       "    </tr>\n",
       "    <tr>\n",
       "      <th>1</th>\n",
       "      <td>0.046275</td>\n",
       "      <td>0.002106</td>\n",
       "      <td>27.477476</td>\n",
       "      <td>1.412545</td>\n",
       "      <td>7</td>\n",
       "      <td>distance</td>\n",
       "      <td>{'n_neighbors': 7, 'weights': 'distance'}</td>\n",
       "      <td>0.999532</td>\n",
       "      <td>0.999479</td>\n",
       "      <td>0.999591</td>\n",
       "      <td>0.999534</td>\n",
       "      <td>0.000046</td>\n",
       "      <td>2</td>\n",
       "      <td>1.0</td>\n",
       "      <td>1.0</td>\n",
       "      <td>1.0</td>\n",
       "      <td>1.0</td>\n",
       "      <td>0.0</td>\n",
       "    </tr>\n",
       "    <tr>\n",
       "      <th>2</th>\n",
       "      <td>0.046217</td>\n",
       "      <td>0.000711</td>\n",
       "      <td>31.246637</td>\n",
       "      <td>2.455377</td>\n",
       "      <td>9</td>\n",
       "      <td>distance</td>\n",
       "      <td>{'n_neighbors': 9, 'weights': 'distance'}</td>\n",
       "      <td>0.999532</td>\n",
       "      <td>0.999479</td>\n",
       "      <td>0.999611</td>\n",
       "      <td>0.999541</td>\n",
       "      <td>0.000054</td>\n",
       "      <td>1</td>\n",
       "      <td>1.0</td>\n",
       "      <td>1.0</td>\n",
       "      <td>1.0</td>\n",
       "      <td>1.0</td>\n",
       "      <td>0.0</td>\n",
       "    </tr>\n",
       "  </tbody>\n",
       "</table>\n",
       "</div>"
      ],
      "text/plain": [
       "   mean_fit_time  std_fit_time  mean_score_time  std_score_time  \\\n",
       "0       0.050354      0.005265        26.082762        1.178806   \n",
       "1       0.046275      0.002106        27.477476        1.412545   \n",
       "2       0.046217      0.000711        31.246637        2.455377   \n",
       "\n",
       "  param_n_neighbors param_weights                                     params  \\\n",
       "0                 5      distance  {'n_neighbors': 5, 'weights': 'distance'}   \n",
       "1                 7      distance  {'n_neighbors': 7, 'weights': 'distance'}   \n",
       "2                 9      distance  {'n_neighbors': 9, 'weights': 'distance'}   \n",
       "\n",
       "   split0_test_score  split1_test_score  split2_test_score  mean_test_score  \\\n",
       "0           0.999505           0.999466           0.999585         0.999519   \n",
       "1           0.999532           0.999479           0.999591         0.999534   \n",
       "2           0.999532           0.999479           0.999611         0.999541   \n",
       "\n",
       "   std_test_score  rank_test_score  split0_train_score  split1_train_score  \\\n",
       "0        0.000049                3                 1.0                 1.0   \n",
       "1        0.000046                2                 1.0                 1.0   \n",
       "2        0.000054                1                 1.0                 1.0   \n",
       "\n",
       "   split2_train_score  mean_train_score  std_train_score  \n",
       "0                 1.0               1.0              0.0  \n",
       "1                 1.0               1.0              0.0  \n",
       "2                 1.0               1.0              0.0  "
      ]
     },
     "execution_count": 42,
     "metadata": {},
     "output_type": "execute_result"
    }
   ],
   "source": [
    "# results of grid search CV\n",
    "cv_results = pd.DataFrame(grid_knn.cv_results_)\n",
    "cv_results"
   ]
  },
  {
   "cell_type": "code",
   "execution_count": 43,
   "id": "b7eddbdb",
   "metadata": {},
   "outputs": [
    {
     "name": "stdout",
     "output_type": "stream",
     "text": [
      "Best roc_auc:- 0.9995405586737592\n",
      "KNeighborsClassifier(n_neighbors=9, weights='distance')\n"
     ]
    }
   ],
   "source": [
    "# Printing the optimal sensitivity score and hyperparameters\n",
    "print(\"Best roc_auc:-\", grid_knn.best_score_)\n",
    "print(grid_knn.best_estimator_)"
   ]
  },
  {
   "cell_type": "code",
   "execution_count": 44,
   "id": "c348f2d7",
   "metadata": {},
   "outputs": [
    {
     "name": "stdout",
     "output_type": "stream",
     "text": [
      "The highest test roc_auc is 0.9995405586737592 with parameters {'n_neighbors': 9, 'weights': 'distance'}\n"
     ]
    }
   ],
   "source": [
    "# Best score with best C\n",
    "best_score = grid_knn.best_score_\n",
    "best_params = grid_knn.best_params_\n",
    "\n",
    "print(\"The highest test roc_auc is {0} with parameters {1}\".format(best_score, best_params))"
   ]
  },
  {
   "cell_type": "code",
   "execution_count": 45,
   "id": "3f575b7f",
   "metadata": {},
   "outputs": [],
   "source": [
    "knn = KNeighborsClassifier(**best_params)\n",
    "oversampled_best_knn_model = knn.fit(X_train, y_train)\n",
    "y_train_pred = oversampled_best_knn_model.predict(X_train)"
   ]
  },
  {
   "cell_type": "code",
   "execution_count": 46,
   "id": "a09edd22",
   "metadata": {},
   "outputs": [
    {
     "name": "stdout",
     "output_type": "stream",
     "text": [
      "[[227451      0]\n",
      " [     0 227451]]\n"
     ]
    }
   ],
   "source": [
    "confusion = confusion_matrix(y_train, y_train_pred)\n",
    "print(confusion)\n",
    "TP = confusion[1,1] # true positive \n",
    "TN = confusion[0,0] # true negatives\n",
    "FP = confusion[0,1] # false positives\n",
    "FN = confusion[1,0] # false negatives"
   ]
  },
  {
   "cell_type": "code",
   "execution_count": 47,
   "id": "b50b0cff",
   "metadata": {},
   "outputs": [
    {
     "name": "stdout",
     "output_type": "stream",
     "text": [
      "Accuracy: 1.0\n",
      "Sensitivity(Recall): 1.0\n",
      "Percision: 1.0\n",
      "Specificity: 1.0\n",
      "F1-Score: 1.0\n",
      "              precision    recall  f1-score   support\n",
      "\n",
      "           0       1.00      1.00      1.00    227451\n",
      "           1       1.00      1.00      1.00    227451\n",
      "\n",
      "    accuracy                           1.00    454902\n",
      "   macro avg       1.00      1.00      1.00    454902\n",
      "weighted avg       1.00      1.00      1.00    454902\n",
      "\n"
     ]
    }
   ],
   "source": [
    "# Accuracy\n",
    "print(\"Accuracy:\", accuracy_score(y_train, y_train_pred))\n",
    "\n",
    "# Sensitivity\n",
    "print(\"Sensitivity(Recall):\", recall_score(y_train, y_train_pred))\n",
    "\n",
    "# Percision\n",
    "print(\"Percision:\", precision_score(y_train, y_train_pred))\n",
    "\n",
    "# Specificity\n",
    "print(\"Specificity:\", TN / float(TN+FP))\n",
    "\n",
    "# F1 score\n",
    "print(\"F1-Score:\", f1_score(y_train, y_train_pred))\n",
    "\n",
    "# classification_report\n",
    "print(classification_report(y_train, y_train_pred))"
   ]
  },
  {
   "cell_type": "code",
   "execution_count": 48,
   "id": "58bcabd9",
   "metadata": {},
   "outputs": [
    {
     "data": {
      "image/png": "[encoded data removed]",
      "text/plain": [
       "<Figure size 500x500 with 1 Axes>"
      ]
     },
     "metadata": {},
     "output_type": "display_data"
    }
   ],
   "source": [
    "# Predicted probability\n",
    "y_train_pred_proba = oversampled_best_knn_model.predict_proba(X_train)[:,1]\n",
    "# Plot the ROC curve\n",
    "draw_roc(y_train, y_train_pred_proba)"
   ]
  },
  {
   "cell_type": "code",
   "execution_count": 49,
   "id": "6f9a24b3",
   "metadata": {},
   "outputs": [
    {
     "name": "stdout",
     "output_type": "stream",
     "text": [
      "test_accuracy: 0.9979\n",
      "test_precision: 0.9957\n",
      "test_recall: 1.0000\n",
      "test_f1: 0.9979\n",
      "test_roc_auc: 0.9995\n"
     ]
    }
   ],
   "source": [
    "# Define scoring metrics\n",
    "scoring = {\n",
    "    'accuracy': 'accuracy',\n",
    "    'precision': 'precision',\n",
    "    'recall': 'recall',\n",
    "    'f1': 'f1',\n",
    "    'roc_auc': 'roc_auc'\n",
    "}\n",
    "\n",
    "# Perform cross-validation\n",
    "cv_results = cross_validate(oversampled_best_knn_model, X_train, y_train, cv=N_SPLITS, scoring=scoring)\n",
    "\n",
    "# Display average of each metric\n",
    "for metric, scores in cv_results.items():\n",
    "    if \"test\" in metric:\n",
    "        print(f\"{metric}: {scores.mean():.4f}\")"
   ]
  },
  {
   "cell_type": "markdown",
   "id": "d575d6ee",
   "metadata": {},
   "source": [
    "### Consider the most important features only (V3, V4, V7, V10, V12,V14, V16, V17, V18) on the oversampled data"
   ]
  },
  {
   "cell_type": "code",
   "execution_count": 51,
   "id": "1781bebd",
   "metadata": {},
   "outputs": [
    {
     "name": "stdout",
     "output_type": "stream",
     "text": [
      "Fitting 3 folds for each of 3 candidates, totalling 9 fits\n",
      "Best Estimator:  KNeighborsClassifier(n_neighbors=9, weights='distance')\n"
     ]
    }
   ],
   "source": [
    "X_train = extracted_features_oversampled_train_df.drop('Class', axis=1).values\n",
    "y_train = extracted_features_oversampled_train_df['Class'].values\n",
    "\n",
    "# Define KNN hyperparameters to search\n",
    "knn_params = {\n",
    "    'n_neighbors': [5, 7, 9],\n",
    "    'weights': ['distance'],\n",
    "}\n",
    "\n",
    "# Set up GridSearchCV with KNN\n",
    "grid_knn = GridSearchCV(\n",
    "    estimator=KNeighborsClassifier(),\n",
    "    param_grid=knn_params,\n",
    "    scoring='roc_auc',\n",
    "    cv=N_SPLITS,\n",
    "    verbose=1,\n",
    "    return_train_score=True\n",
    ")\n",
    "\n",
    "# Train KNN with cross-validation\n",
    "grid_knn.fit(X_train, y_train)\n",
    "\n",
    "# Best KNN model from the grid search\n",
    "knn_model = grid_knn.best_estimator_\n",
    "\n",
    "print(\"Best Estimator: \", knn_model)"
   ]
  },
  {
   "cell_type": "code",
   "execution_count": 52,
   "id": "e3e40ce7",
   "metadata": {},
   "outputs": [
    {
     "data": {
      "text/html": [
       "<div>\n",
       "<style scoped>\n",
       "    .dataframe tbody tr th:only-of-type {\n",
       "        vertical-align: middle;\n",
       "    }\n",
       "\n",
       "    .dataframe tbody tr th {\n",
       "        vertical-align: top;\n",
       "    }\n",
       "\n",
       "    .dataframe thead th {\n",
       "        text-align: right;\n",
       "    }\n",
       "</style>\n",
       "<table border=\"1\" class=\"dataframe\">\n",
       "  <thead>\n",
       "    <tr style=\"text-align: right;\">\n",
       "      <th></th>\n",
       "      <th>mean_fit_time</th>\n",
       "      <th>std_fit_time</th>\n",
       "      <th>mean_score_time</th>\n",
       "      <th>std_score_time</th>\n",
       "      <th>param_n_neighbors</th>\n",
       "      <th>param_weights</th>\n",
       "      <th>params</th>\n",
       "      <th>split0_test_score</th>\n",
       "      <th>split1_test_score</th>\n",
       "      <th>split2_test_score</th>\n",
       "      <th>mean_test_score</th>\n",
       "      <th>std_test_score</th>\n",
       "      <th>rank_test_score</th>\n",
       "      <th>split0_train_score</th>\n",
       "      <th>split1_train_score</th>\n",
       "      <th>split2_train_score</th>\n",
       "      <th>mean_train_score</th>\n",
       "      <th>std_train_score</th>\n",
       "    </tr>\n",
       "  </thead>\n",
       "  <tbody>\n",
       "    <tr>\n",
       "      <th>0</th>\n",
       "      <td>0.651666</td>\n",
       "      <td>0.030353</td>\n",
       "      <td>9.533965</td>\n",
       "      <td>0.386008</td>\n",
       "      <td>5</td>\n",
       "      <td>distance</td>\n",
       "      <td>{'n_neighbors': 5, 'weights': 'distance'}</td>\n",
       "      <td>0.999194</td>\n",
       "      <td>0.999201</td>\n",
       "      <td>0.999072</td>\n",
       "      <td>0.999156</td>\n",
       "      <td>0.000059</td>\n",
       "      <td>3</td>\n",
       "      <td>1.0</td>\n",
       "      <td>1.0</td>\n",
       "      <td>1.0</td>\n",
       "      <td>1.0</td>\n",
       "      <td>0.0</td>\n",
       "    </tr>\n",
       "    <tr>\n",
       "      <th>1</th>\n",
       "      <td>0.631893</td>\n",
       "      <td>0.031227</td>\n",
       "      <td>10.569365</td>\n",
       "      <td>0.079207</td>\n",
       "      <td>7</td>\n",
       "      <td>distance</td>\n",
       "      <td>{'n_neighbors': 7, 'weights': 'distance'}</td>\n",
       "      <td>0.999214</td>\n",
       "      <td>0.999248</td>\n",
       "      <td>0.999113</td>\n",
       "      <td>0.999192</td>\n",
       "      <td>0.000058</td>\n",
       "      <td>2</td>\n",
       "      <td>1.0</td>\n",
       "      <td>1.0</td>\n",
       "      <td>1.0</td>\n",
       "      <td>1.0</td>\n",
       "      <td>0.0</td>\n",
       "    </tr>\n",
       "    <tr>\n",
       "      <th>2</th>\n",
       "      <td>0.613313</td>\n",
       "      <td>0.023411</td>\n",
       "      <td>11.952795</td>\n",
       "      <td>0.254471</td>\n",
       "      <td>9</td>\n",
       "      <td>distance</td>\n",
       "      <td>{'n_neighbors': 9, 'weights': 'distance'}</td>\n",
       "      <td>0.999262</td>\n",
       "      <td>0.999282</td>\n",
       "      <td>0.999146</td>\n",
       "      <td>0.999230</td>\n",
       "      <td>0.000060</td>\n",
       "      <td>1</td>\n",
       "      <td>1.0</td>\n",
       "      <td>1.0</td>\n",
       "      <td>1.0</td>\n",
       "      <td>1.0</td>\n",
       "      <td>0.0</td>\n",
       "    </tr>\n",
       "  </tbody>\n",
       "</table>\n",
       "</div>"
      ],
      "text/plain": [
       "   mean_fit_time  std_fit_time  mean_score_time  std_score_time  \\\n",
       "0       0.651666      0.030353         9.533965        0.386008   \n",
       "1       0.631893      0.031227        10.569365        0.079207   \n",
       "2       0.613313      0.023411        11.952795        0.254471   \n",
       "\n",
       "  param_n_neighbors param_weights                                     params  \\\n",
       "0                 5      distance  {'n_neighbors': 5, 'weights': 'distance'}   \n",
       "1                 7      distance  {'n_neighbors': 7, 'weights': 'distance'}   \n",
       "2                 9      distance  {'n_neighbors': 9, 'weights': 'distance'}   \n",
       "\n",
       "   split0_test_score  split1_test_score  split2_test_score  mean_test_score  \\\n",
       "0           0.999194           0.999201           0.999072         0.999156   \n",
       "1           0.999214           0.999248           0.999113         0.999192   \n",
       "2           0.999262           0.999282           0.999146         0.999230   \n",
       "\n",
       "   std_test_score  rank_test_score  split0_train_score  split1_train_score  \\\n",
       "0        0.000059                3                 1.0                 1.0   \n",
       "1        0.000058                2                 1.0                 1.0   \n",
       "2        0.000060                1                 1.0                 1.0   \n",
       "\n",
       "   split2_train_score  mean_train_score  std_train_score  \n",
       "0                 1.0               1.0              0.0  \n",
       "1                 1.0               1.0              0.0  \n",
       "2                 1.0               1.0              0.0  "
      ]
     },
     "execution_count": 52,
     "metadata": {},
     "output_type": "execute_result"
    }
   ],
   "source": [
    "# results of grid search CV\n",
    "cv_results = pd.DataFrame(grid_knn.cv_results_)\n",
    "cv_results"
   ]
  },
  {
   "cell_type": "code",
   "execution_count": 53,
   "id": "ce4fef06",
   "metadata": {},
   "outputs": [
    {
     "name": "stdout",
     "output_type": "stream",
     "text": [
      "Best roc_auc:- 0.9992300484894464\n",
      "KNeighborsClassifier(n_neighbors=9, weights='distance')\n"
     ]
    }
   ],
   "source": [
    "# Printing the optimal sensitivity score and hyperparameters\n",
    "print(\"Best roc_auc:-\", grid_knn.best_score_)\n",
    "print(grid_knn.best_estimator_)"
   ]
  },
  {
   "cell_type": "code",
   "execution_count": 54,
   "id": "e1ff4f17",
   "metadata": {},
   "outputs": [
    {
     "name": "stdout",
     "output_type": "stream",
     "text": [
      "The highest test roc_auc is 0.9992300484894464 with parameters {'n_neighbors': 9, 'weights': 'distance'}\n"
     ]
    }
   ],
   "source": [
    "# Best score with best params\n",
    "best_score = grid_knn.best_score_\n",
    "best_params = grid_knn.best_params_\n",
    "\n",
    "print(\"The highest test roc_auc is {0} with parameters {1}\".format(best_score, best_params))"
   ]
  },
  {
   "cell_type": "code",
   "execution_count": 55,
   "id": "aca0e069",
   "metadata": {},
   "outputs": [],
   "source": [
    "knn = KNeighborsClassifier(**best_params)\n",
    "oversampled_best_knn_model_v2 = knn.fit(X_train, y_train)\n",
    "y_train_pred = oversampled_best_knn_model_v2.predict(X_train)"
   ]
  },
  {
   "cell_type": "code",
   "execution_count": 55,
   "id": "028aa880",
   "metadata": {},
   "outputs": [
    {
     "name": "stdout",
     "output_type": "stream",
     "text": [
      "[[221542      0]\n",
      " [     0 227451]]\n"
     ]
    }
   ],
   "source": [
    "confusion = confusion_matrix(y_train, y_train_pred)\n",
    "print(confusion)\n",
    "TP = confusion[1,1] # true positive \n",
    "TN = confusion[0,0] # true negatives\n",
    "FP = confusion[0,1] # false positives\n",
    "FN = confusion[1,0] # false negatives"
   ]
  },
  {
   "cell_type": "code",
   "execution_count": 56,
   "id": "4f492bf1",
   "metadata": {},
   "outputs": [
    {
     "name": "stdout",
     "output_type": "stream",
     "text": [
      "Sensitivity(Recall): 1.0\n",
      "Percision: 1.0\n",
      "F1-Score: 1.0\n",
      "Accuracy: 1.0\n",
      "Specificity: 1.0\n",
      "              precision    recall  f1-score   support\n",
      "\n",
      "           0       1.00      1.00      1.00    221542\n",
      "           1       1.00      1.00      1.00    227451\n",
      "\n",
      "    accuracy                           1.00    448993\n",
      "   macro avg       1.00      1.00      1.00    448993\n",
      "weighted avg       1.00      1.00      1.00    448993\n",
      "\n"
     ]
    }
   ],
   "source": [
    "# Sensitivity\n",
    "print(\"Sensitivity(Recall):\", recall_score(y_train, y_train_pred))\n",
    "\n",
    "# Percision\n",
    "print(\"Percision:\", precision_score(y_train, y_train_pred))\n",
    "\n",
    "# F1 score\n",
    "print(\"F1-Score:\", f1_score(y_train, y_train_pred))\n",
    "\n",
    "# Accuracy\n",
    "print(\"Accuracy:\", accuracy_score(y_train, y_train_pred))\n",
    "\n",
    "# Specificity\n",
    "print(\"Specificity:\", TN / float(TN+FP))\n",
    "\n",
    "# classification_report\n",
    "print(classification_report(y_train, y_train_pred))"
   ]
  },
  {
   "cell_type": "code",
   "execution_count": 57,
   "id": "363d9c56",
   "metadata": {},
   "outputs": [
    {
     "data": {
      "image/png": "[encoded data removed]",
      "text/plain": [
       "<Figure size 500x500 with 1 Axes>"
      ]
     },
     "metadata": {},
     "output_type": "display_data"
    }
   ],
   "source": [
    "# Predicted probability\n",
    "y_train_pred_proba = oversampled_best_knn_model_v2.predict_proba(X_train)[:,1]\n",
    "# Plot the ROC curve\n",
    "draw_roc(y_train, y_train_pred_proba)"
   ]
  },
  {
   "cell_type": "code",
   "execution_count": 58,
   "id": "89abe05f",
   "metadata": {},
   "outputs": [
    {
     "name": "stdout",
     "output_type": "stream",
     "text": [
      "test_accuracy: 0.9967\n",
      "test_precision: 0.9935\n",
      "test_recall: 1.0000\n",
      "test_f1: 0.9967\n",
      "test_roc_auc: 0.9992\n"
     ]
    }
   ],
   "source": [
    "# Define scoring metrics\n",
    "scoring = {\n",
    "    'accuracy': 'accuracy',\n",
    "    'precision': 'precision',\n",
    "    'recall': 'recall',\n",
    "    'f1': 'f1',\n",
    "    'roc_auc': 'roc_auc'\n",
    "}\n",
    "\n",
    "# Perform cross-validation\n",
    "cv_results = cross_validate(oversampled_best_knn_model_v2, X_train, y_train, cv=N_SPLITS, scoring=scoring)\n",
    "\n",
    "# Display average of each metric\n",
    "for metric, scores in cv_results.items():\n",
    "    if \"test\" in metric:\n",
    "        print(f\"{metric}: {scores.mean():.4f}\")"
   ]
  }
 ],
 "metadata": {
  "kernelspec": {
   "display_name": "base",
   "language": "python",
   "name": "python3"
  },
  "language_info": {
   "codemirror_mode": {
    "name": "ipython",
    "version": 3
   },
   "file_extension": ".py",
   "mimetype": "text/x-python",
   "name": "python",
   "nbconvert_exporter": "python",
   "pygments_lexer": "ipython3",
   "version": "3.12.7"
  }
 },
 "nbformat": 4,
 "nbformat_minor": 5
}
